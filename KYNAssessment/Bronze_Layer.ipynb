{
 "cells": [
  {
   "cell_type": "code",
   "execution_count": 0,
   "metadata": {
    "application/vnd.databricks.v1+cell": {
     "cellMetadata": {
      "byteLimit": 2048000,
      "rowLimit": 10000
     },
     "inputWidgets": {},
     "nuid": "4d94db59-b931-4afa-8b1f-32969a753340",
     "showTitle": false,
     "tableResultSettingsMap": {},
     "title": ""
    }
   },
   "outputs": [],
   "source": [
    "from datetime import datetime\n",
    "from pyspark.sql import SparkSession\n",
    "from pyspark.sql.functions import *"
   ]
  },
  {
   "cell_type": "code",
   "execution_count": 0,
   "metadata": {
    "application/vnd.databricks.v1+cell": {
     "cellMetadata": {
      "byteLimit": 2048000,
      "rowLimit": 10000
     },
     "inputWidgets": {},
     "nuid": "9796539a-eea8-4877-9508-0611bad51a25",
     "showTitle": true,
     "tableResultSettingsMap": {},
     "title": "Get User Input for Start Date Parameter"
    }
   },
   "outputs": [
    {
     "output_type": "stream",
     "name": "stdout",
     "output_type": "stream",
     "text": [
      "20250831\n"
     ]
    }
   ],
   "source": [
    "dbutils.widgets.text(\"StartDate\", \"\")\n",
    "\n",
    "StartDate = dbutils.widgets.get(\"StartDate\")\n",
    "print(StartDate)\n"
   ]
  },
  {
   "cell_type": "code",
   "execution_count": 0,
   "metadata": {
    "application/vnd.databricks.v1+cell": {
     "cellMetadata": {
      "byteLimit": 2048000,
      "rowLimit": 10000
     },
     "inputWidgets": {},
     "nuid": "d04c2dba-2e00-41ac-93ed-670e4f828046",
     "showTitle": false,
     "tableResultSettingsMap": {},
     "title": ""
    }
   },
   "outputs": [
    {
     "output_type": "stream",
     "name": "stdout",
     "output_type": "stream",
     "text": [
      "Processing Date  Year: 2025, Month: 08, Day: 31\n"
     ]
    }
   ],
   "source": [
    "import datetime\n",
    "date = datetime.datetime.strptime(str(StartDate), \"%Y%m%d\")\n",
    "\n",
    "year_val  = str(date.year)\n",
    "month_val = str(f\"{date.month:02}\")\n",
    "day_val   = str(f\"{date.day:02}\")\n",
    "\n",
    "print(f\"Processing Date  Year: {year_val}, Month: {month_val}, Day: {day_val}\")"
   ]
  },
  {
   "cell_type": "code",
   "execution_count": 0,
   "metadata": {
    "application/vnd.databricks.v1+cell": {
     "cellMetadata": {
      "byteLimit": 2048000,
      "rowLimit": 10000
     },
     "inputWidgets": {},
     "nuid": "e8b455ac-6a0e-414f-9139-e4812c7f1fce",
     "showTitle": true,
     "tableResultSettingsMap": {},
     "title": "Retrieve Most Recently Modified File in Directory"
    }
   },
   "outputs": [],
   "source": [
    "from pyspark.sql.functions import *\n",
    "\n",
    "def get_latest_file(path):\n",
    "    \"\"\"\n",
    "    Get the latest modified file inside a given volume folder.\n",
    "\n",
    "    :param path: Folder path (e.g., '/Volumes/ecommerce_catalog/source/src_data/')\n",
    "    \"\"\"\n",
    "    files = dbutils.fs.ls(path)\n",
    "    if not files:\n",
    "        return None\n",
    "    \n",
    "    # Find the file with the largest modificationTime\n",
    "    latest_file = sorted(files, key=lambda f: f.modificationTime, reverse=True)[0]\n",
    "    return latest_file.path\n"
   ]
  },
  {
   "cell_type": "code",
   "execution_count": 0,
   "metadata": {
    "application/vnd.databricks.v1+cell": {
     "cellMetadata": {
      "byteLimit": 2048000,
      "rowLimit": 10000
     },
     "inputWidgets": {},
     "nuid": "9304fe8f-e9cc-4154-8515-247606caea18",
     "showTitle": true,
     "tableResultSettingsMap": {},
     "title": "Load Most Recent CSV File into Spark DataFrame"
    }
   },
   "outputs": [
    {
     "output_type": "stream",
     "name": "stdout",
     "output_type": "stream",
     "text": [
      "Latest file path: dbfs:/Volumes/ecommerce_catalog/source/src_data/ecommerce_sales_incremental_600.csv\n"
     ]
    }
   ],
   "source": [
    "\n",
    "from pyspark.sql import SparkSession\n",
    "\n",
    "spark = SparkSession.builder\\\n",
    "    .appName(\"EcommerceETL\")\\\n",
    "    .getOrCreate()\n",
    "\n",
    "# Path of volume where raw CSV is uploaded\n",
    "source_path = \"/Volumes/ecommerce_catalog/source/src_data\"\n",
    "\n",
    "latest_file_path = get_latest_file(source_path)\n",
    "print(\"Latest file path:\", latest_file_path)\n",
    "\n",
    "\n",
    "# Read CSV into Spark DataFrame\n",
    "df_raw = (spark.read\n",
    "          .format(\"csv\")\n",
    "          .option(\"header\", \"true\")\n",
    "          .option(\"inferSchema\", \"true\")\n",
    "          .load(latest_file_path))\n"
   ]
  },
  {
   "cell_type": "code",
   "execution_count": 0,
   "metadata": {
    "application/vnd.databricks.v1+cell": {
     "cellMetadata": {
      "byteLimit": 2048000,
      "rowLimit": 10000
     },
     "inputWidgets": {},
     "nuid": "75ecb55c-41c0-46b3-b76f-0c9ee3b280cf",
     "showTitle": false,
     "tableResultSettingsMap": {},
     "title": ""
    }
   },
   "outputs": [
    {
     "output_type": "stream",
     "name": "stdout",
     "output_type": "stream",
     "text": [
      "Bronze Path: /Volumes/ecommerce_catalog/bronze/extracted_data//year=2025/month=08/day=31/\n"
     ]
    }
   ],
   "source": [
    "bronze_base = \"/Volumes/ecommerce_catalog/bronze/extracted_data/\"\n",
    "bronze_partition_path = f\"{bronze_base}/year={year_val}/month={month_val}/day={day_val}/\"\n",
    "print(f\"Bronze Path: {bronze_partition_path}\")\n",
    "\n",
    "df_raw.write.format(\"csv\")\\\n",
    "    .mode(\"append\")\\\n",
    "    .save(bronze_partition_path)"
   ]
  }
 ],
 "metadata": {
  "application/vnd.databricks.v1+notebook": {
   "computePreferences": {
    "hardware": {
     "accelerator": null,
     "gpuPoolId": null,
     "memory": null
    }
   },
   "dashboards": [],
   "environmentMetadata": {
    "base_environment": "",
    "environment_version": "3"
   },
   "inputWidgetPreferences": null,
   "language": "python",
   "notebookMetadata": {
    "mostRecentlyExecutedCommandWithImplicitDF": {
     "commandId": 4894336731274550,
     "dataframes": [
      "_sqldf"
     ]
    },
    "pythonIndentUnit": 4
   },
   "notebookName": "Bronze_Layer",
   "widgets": {
    "StartDate": {
     "currentValue": "20250831",
     "nuid": "6d4f50af-d3d3-4f1f-a453-a27ec90db04b",
     "typedWidgetInfo": {
      "autoCreated": false,
      "defaultValue": "",
      "label": null,
      "name": "StartDate",
      "options": {
       "widgetDisplayType": "Text",
       "validationRegex": null
      },
      "parameterDataType": "String"
     },
     "widgetInfo": {
      "widgetType": "text",
      "defaultValue": "",
      "label": null,
      "name": "StartDate",
      "options": {
       "widgetType": "text",
       "autoCreated": null,
       "validationRegex": null
      }
     }
    }
   }
  },
  "language_info": {
   "name": "python"
  }
 },
 "nbformat": 4,
 "nbformat_minor": 0
}