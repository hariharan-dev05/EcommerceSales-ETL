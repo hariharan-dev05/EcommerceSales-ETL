{
 "cells": [
  {
   "cell_type": "code",
   "execution_count": 0,
   "metadata": {
    "application/vnd.databricks.v1+cell": {
     "cellMetadata": {
      "byteLimit": 2048000,
      "implicitDf": true,
      "rowLimit": 10000
     },
     "inputWidgets": {},
     "nuid": "5757697b-8414-44d3-bd19-2a80cf764086",
     "showTitle": false,
     "tableResultSettingsMap": {},
     "title": ""
    }
   },
   "outputs": [],
   "source": [
    "%sql\n",
    "Drop catalog ecommerce_catalog cascade"
   ]
  },
  {
   "cell_type": "code",
   "execution_count": 0,
   "metadata": {
    "application/vnd.databricks.v1+cell": {
     "cellMetadata": {
      "byteLimit": 2048000,
      "implicitDf": true,
      "rowLimit": 10000
     },
     "inputWidgets": {},
     "nuid": "18488e2f-0289-4627-8fee-e4294b141441",
     "showTitle": false,
     "tableResultSettingsMap": {},
     "title": ""
    }
   },
   "outputs": [],
   "source": [
    "%sql\n",
    "\n",
    "-- Create catalog and schemas\n",
    "CREATE CATALOG IF NOT EXISTS ecommerce_catalog;\n",
    "CREATE SCHEMA IF NOT EXISTS ecommerce_catalog.source;\n",
    "CREATE SCHEMA IF NOT EXISTS ecommerce_catalog.bronze;\n",
    "CREATE SCHEMA IF NOT EXISTS ecommerce_catalog.silver;\n",
    "CREATE SCHEMA IF NOT EXISTS ecommerce_catalog.gold;\n",
    "\n",
    "-- Create a volume for raw CSV uploads\n",
    "CREATE VOLUME IF NOT EXISTS ecommerce_catalog.source.src_data;\n",
    "CREATE VOLUME IF NOT EXISTS ecommerce_catalog.bronze.extracted_data;\n"
   ]
  }
 ],
 "metadata": {
  "application/vnd.databricks.v1+notebook": {
   "computePreferences": {
    "hardware": {
     "accelerator": null,
     "gpuPoolId": null,
     "memory": null
    }
   },
   "dashboards": [],
   "environmentMetadata": {
    "base_environment": "",
    "environment_version": "3"
   },
   "inputWidgetPreferences": null,
   "language": "python",
   "notebookMetadata": {
    "mostRecentlyExecutedCommandWithImplicitDF": {
     "commandId": 7116536391526508,
     "dataframes": [
      "_sqldf"
     ]
    },
    "pythonIndentUnit": 4
   },
   "notebookName": "Config_setup",
   "widgets": {}
  },
  "language_info": {
   "name": "python"
  }
 },
 "nbformat": 4,
 "nbformat_minor": 0
}