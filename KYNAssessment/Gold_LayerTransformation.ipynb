{
 "cells": [
  {
   "cell_type": "code",
   "execution_count": 0,
   "metadata": {
    "application/vnd.databricks.v1+cell": {
     "cellMetadata": {
      "byteLimit": 2048000,
      "rowLimit": 10000
     },
     "inputWidgets": {},
     "nuid": "725b0358-61eb-4ae3-bd16-bd330783a93c",
     "showTitle": false,
     "tableResultSettingsMap": {},
     "title": ""
    }
   },
   "outputs": [],
   "source": [
    "from pyspark.sql.functions import *\n",
    "from pyspark.sql.types import *\n",
    "from delta.tables import DeltaTable"
   ]
  },
  {
   "cell_type": "code",
   "execution_count": 0,
   "metadata": {
    "application/vnd.databricks.v1+cell": {
     "cellMetadata": {
      "byteLimit": 2048000,
      "rowLimit": 10000
     },
     "inputWidgets": {},
     "nuid": "77fcdb99-e5df-4579-aded-653c910f31e1",
     "showTitle": false,
     "tableResultSettingsMap": {},
     "title": ""
    }
   },
   "outputs": [
    {
     "output_type": "stream",
     "name": "stdout",
     "output_type": "stream",
     "text": [
      "StartDate: 20250831\n"
     ]
    }
   ],
   "source": [
    "dbutils.widgets.text(\"StartDate\", \"\")\n",
    "\n",
    "StartDate = dbutils.widgets.get(\"StartDate\")\n",
    "print(f\"StartDate: {StartDate}\")"
   ]
  },
  {
   "cell_type": "code",
   "execution_count": 0,
   "metadata": {
    "application/vnd.databricks.v1+cell": {
     "cellMetadata": {
      "byteLimit": 2048000,
      "rowLimit": 10000
     },
     "inputWidgets": {},
     "nuid": "b5b2a22e-61a0-408c-9084-7f6e524e0ba8",
     "showTitle": false,
     "tableResultSettingsMap": {},
     "title": ""
    }
   },
   "outputs": [
    {
     "output_type": "stream",
     "name": "stdout",
     "output_type": "stream",
     "text": [
      "Processing Date  Year: 2025, Month: 08, Day: 31\n"
     ]
    }
   ],
   "source": [
    "import datetime\n",
    "\n",
    "date = datetime.datetime.strptime(str(StartDate), \"%Y%m%d\")\n",
    "\n",
    "year_val  = str(date.year)\n",
    "month_val = str(f\"{date.month:02}\")\n",
    "day_val   = str(f\"{date.day:02}\")\n",
    "\n",
    "print(f\"Processing Date  Year: {year_val}, Month: {month_val}, Day: {day_val}\")"
   ]
  },
  {
   "cell_type": "code",
   "execution_count": 0,
   "metadata": {
    "application/vnd.databricks.v1+cell": {
     "cellMetadata": {
      "byteLimit": 2048000,
      "rowLimit": 10000
     },
     "inputWidgets": {},
     "nuid": "3e2ab43f-38e7-4beb-905a-a779fbdd9d63",
     "showTitle": false,
     "tableResultSettingsMap": {},
     "title": ""
    }
   },
   "outputs": [],
   "source": [
    "# Function to merge data into Delta table\n",
    "def merge_delta(df, target_table, merge_keys):\n",
    "    \"\"\"\n",
    "    Merge a DataFrame into a Delta table based on given keys.\n",
    "\n",
    "    Args:\n",
    "        df (DataFrame): The source DataFrame (new data).\n",
    "        target_table (str): The full target table name (catalog.schema.table).\n",
    "        merge_keys (list): List of column names to use as merge keys.\n",
    "    \"\"\"\n",
    "    delta_table = DeltaTable.forName(spark, target_table)\n",
    "    \n",
    "    # Build merge condition dynamically\n",
    "    merge_condition = \" AND \".join([f\"dt_table.{k} = new_record_df.{k}\" for k in merge_keys])\n",
    "    \n",
    "    delta_table.alias(\"dt_table\")\\\n",
    "        .merge(df.alias(\"new_record_df\"),merge_condition)\\\n",
    "        .whenMatchedDelete() \\\n",
    "        .whenNotMatchedInsertAll()\\\n",
    "        .execute()\n",
    "    print(f\"Merge completed for {target_table} on keys {merge_keys}\")"
   ]
  },
  {
   "cell_type": "code",
   "execution_count": 0,
   "metadata": {
    "application/vnd.databricks.v1+cell": {
     "cellMetadata": {
      "byteLimit": 2048000,
      "rowLimit": 10000
     },
     "inputWidgets": {},
     "nuid": "0676ca47-6487-4d4c-a533-bc3b2ef5c997",
     "showTitle": false,
     "tableResultSettingsMap": {
      "0": {
       "dataGridStateBlob": "{\"version\":1,\"tableState\":{\"columnPinning\":{\"left\":[\"#row_number#\"],\"right\":[]},\"columnSizing\":{},\"columnVisibility\":{}},\"settings\":{\"columns\":{}},\"syncTimestamp\":1756697427724}",
       "filterBlob": null,
       "queryPlanFiltersBlob": null,
       "tableResultIndex": 0
      }
     },
     "title": ""
    }
   },
   "outputs": [
    {
     "output_type": "display_data",
     "data": {
      "text/html": [
       "<style scoped>\n",
       "  .table-result-container {\n",
       "    max-height: 300px;\n",
       "    overflow: auto;\n",
       "  }\n",
       "  table, th, td {\n",
       "    border: 1px solid black;\n",
       "    border-collapse: collapse;\n",
       "  }\n",
       "  th, td {\n",
       "    padding: 5px;\n",
       "  }\n",
       "  th {\n",
       "    text-align: left;\n",
       "  }\n",
       "</style><div class='table-result-container'><table class='table-result'><thead style='background-color: white'><tr><th>product_id</th><th>product_name</th><th>category</th><th>sales_year</th><th>sales_month</th><th>total_orders</th><th>quantity_sold</th><th>gross_sales</th><th>net_revenue</th></tr></thead><tbody><tr><td>P101</td><td>iPhone 13</td><td>Electronics</td><td>1900</td><td>1</td><td>3</td><td>6</td><td>4800.0</td><td>4775.0</td></tr><tr><td>P101</td><td>iPhone 13</td><td>Electronics</td><td>2023</td><td>1</td><td>1</td><td>4</td><td>3200.0</td><td>3170.0</td></tr><tr><td>P101</td><td>iPhone 13</td><td>Electronics</td><td>2023</td><td>3</td><td>1</td><td>3</td><td>2400.0</td><td>2400.0</td></tr><tr><td>P101</td><td>iPhone 13</td><td>Electronics</td><td>2023</td><td>9</td><td>1</td><td>2</td><td>1600.0</td><td>1595.0</td></tr><tr><td>P101</td><td>iPhone 13</td><td>Electronics</td><td>2023</td><td>10</td><td>1</td><td>3</td><td>2400.0</td><td>2350.0</td></tr><tr><td>P101</td><td>iPhone 13</td><td>Electronics</td><td>2024</td><td>2</td><td>1</td><td>5</td><td>4000.0</td><td>3990.0</td></tr><tr><td>P101</td><td>iPhone 13</td><td>Electronics</td><td>2024</td><td>3</td><td>2</td><td>4</td><td>3200.0</td><td>3180.0</td></tr><tr><td>P101</td><td>iPhone 13</td><td>Electronics</td><td>2024</td><td>6</td><td>1</td><td>2</td><td>1600.0</td><td>1550.0</td></tr><tr><td>P101</td><td>iPhone 13</td><td>Electronics</td><td>2024</td><td>8</td><td>1</td><td>2</td><td>1600.0</td><td>1595.0</td></tr><tr><td>P101</td><td>iPhone 13</td><td>Electronics</td><td>2024</td><td>9</td><td>1</td><td>5</td><td>4000.0</td><td>4000.0</td></tr><tr><td>P101</td><td>iPhone 13</td><td>Electronics</td><td>2024</td><td>11</td><td>3</td><td>10</td><td>8240.0</td><td>8205.0</td></tr><tr><td>P101</td><td>iPhone 13</td><td>Electronics</td><td>2025</td><td>1</td><td>1</td><td>3</td><td>2400.0</td><td>2400.0</td></tr><tr><td>P101</td><td>iPhone 13</td><td>Electronics</td><td>2025</td><td>2</td><td>1</td><td>1</td><td>800.0</td><td>770.0</td></tr><tr><td>P101</td><td>iPhone 13</td><td>Electronics</td><td>2025</td><td>3</td><td>1</td><td>1</td><td>800.0</td><td>780.0</td></tr><tr><td>P101</td><td>iPhone 13</td><td>Electronics</td><td>2025</td><td>4</td><td>1</td><td>3</td><td>2400.0</td><td>2380.0</td></tr><tr><td>P101</td><td>iPhone 13</td><td>Electronics</td><td>2026</td><td>4</td><td>1</td><td>4</td><td>3200.0</td><td>3200.0</td></tr><tr><td>P101</td><td>iPhone 13</td><td>Electronics</td><td>2026</td><td>5</td><td>2</td><td>5</td><td>4000.0</td><td>3975.0</td></tr><tr><td>P101</td><td>UNKNOWN</td><td>UNKNOWN</td><td>2026</td><td>6</td><td>1</td><td>1</td><td>800.0</td><td>800.0</td></tr><tr><td>P101</td><td>iPhone 13</td><td>Electronics</td><td>2026</td><td>7</td><td>3</td><td>10</td><td>8000.0</td><td>7935.0</td></tr><tr><td>P101</td><td>iPhone 13</td><td>Electronics</td><td>2026</td><td>8</td><td>5</td><td>10</td><td>8000.0</td><td>7930.0</td></tr><tr><td>P101</td><td>iPhone 13</td><td>Electronics</td><td>2026</td><td>11</td><td>1</td><td>3</td><td>2400.0</td><td>2395.0</td></tr><tr><td>P101</td><td>iPhone 13</td><td>Electronics</td><td>2026</td><td>12</td><td>1</td><td>3</td><td>2400.0</td><td>2400.0</td></tr><tr><td>P102</td><td>Samsung Galaxy</td><td>Electronics</td><td>1900</td><td>1</td><td>1</td><td>3</td><td>2100.0</td><td>2090.0</td></tr><tr><td>P102</td><td>UNKNOWN</td><td>Electronics</td><td>1900</td><td>1</td><td>1</td><td>5</td><td>3500.0</td><td>3480.0</td></tr><tr><td>P102</td><td>Samsung Galaxy</td><td>Electronics</td><td>2023</td><td>1</td><td>2</td><td>7</td><td>4900.0</td><td>4830.0</td></tr><tr><td>P102</td><td>Samsung Galaxy</td><td>Electronics</td><td>2023</td><td>3</td><td>1</td><td>3</td><td>2100.0</td><td>2100.0</td></tr><tr><td>P102</td><td>Samsung Galaxy</td><td>Electronics</td><td>2023</td><td>4</td><td>2</td><td>2</td><td>1400.0</td><td>1400.0</td></tr><tr><td>P102</td><td>Samsung Galaxy</td><td>Electronics</td><td>2023</td><td>5</td><td>1</td><td>2</td><td>1400.0</td><td>1400.0</td></tr><tr><td>P102</td><td>Samsung Galaxy</td><td>Electronics</td><td>2023</td><td>6</td><td>1</td><td>4</td><td>2800.0</td><td>2795.0</td></tr><tr><td>P102</td><td>Samsung Galaxy</td><td>Electronics</td><td>2023</td><td>8</td><td>1</td><td>2</td><td>1400.0</td><td>1380.0</td></tr><tr><td>P102</td><td>Samsung Galaxy</td><td>Electronics</td><td>2023</td><td>11</td><td>2</td><td>9</td><td>6300.0</td><td>6280.0</td></tr><tr><td>P102</td><td>Samsung Galaxy</td><td>Electronics</td><td>2024</td><td>1</td><td>1</td><td>5</td><td>3500.0</td><td>3500.0</td></tr><tr><td>P102</td><td>Samsung Galaxy</td><td>Electronics</td><td>2024</td><td>2</td><td>2</td><td>6</td><td>4200.0</td><td>4160.0</td></tr><tr><td>P102</td><td>Samsung Galaxy</td><td>Electronics</td><td>2024</td><td>6</td><td>2</td><td>6</td><td>4200.0</td><td>4190.0</td></tr><tr><td>P102</td><td>UNKNOWN</td><td>Electronics</td><td>2024</td><td>6</td><td>1</td><td>2</td><td>1400.0</td><td>1350.0</td></tr><tr><td>P102</td><td>Samsung Galaxy</td><td>Electronics</td><td>2024</td><td>7</td><td>1</td><td>3</td><td>2100.0</td><td>2100.0</td></tr><tr><td>P102</td><td>Samsung Galaxy</td><td>Electronics</td><td>2024</td><td>9</td><td>2</td><td>9</td><td>6300.0</td><td>6245.0</td></tr><tr><td>P102</td><td>Samsung Galaxy</td><td>Electronics</td><td>2024</td><td>10</td><td>1</td><td>4</td><td>2800.0</td><td>2800.0</td></tr><tr><td>P102</td><td>Samsung Galaxy</td><td>Electronics</td><td>2024</td><td>11</td><td>1</td><td>2</td><td>1400.0</td><td>1350.0</td></tr><tr><td>P102</td><td>Samsung Galaxy</td><td>Electronics</td><td>2024</td><td>12</td><td>1</td><td>1</td><td>700.0</td><td>690.0</td></tr><tr><td>P102</td><td>Samsung Galaxy</td><td>Electronics</td><td>2025</td><td>2</td><td>2</td><td>6</td><td>4200.0</td><td>4160.0</td></tr><tr><td>P102</td><td>Samsung Galaxy</td><td>Electronics</td><td>2025</td><td>3</td><td>1</td><td>2</td><td>1400.0</td><td>1390.0</td></tr><tr><td>P102</td><td>UNKNOWN</td><td>Electronics</td><td>2025</td><td>6</td><td>1</td><td>3</td><td>2100.0</td><td>2100.0</td></tr><tr><td>P102</td><td>Samsung Galaxy</td><td>Electronics</td><td>2025</td><td>8</td><td>1</td><td>5</td><td>3500.0</td><td>3470.0</td></tr><tr><td>P102</td><td>Samsung Galaxy</td><td>Electronics</td><td>2025</td><td>9</td><td>1</td><td>1</td><td>700.0</td><td>700.0</td></tr><tr><td>P102</td><td>Samsung Galaxy</td><td>Electronics</td><td>2025</td><td>11</td><td>1</td><td>1</td><td>700.0</td><td>670.0</td></tr><tr><td>P102</td><td>Samsung Galaxy</td><td>Electronics</td><td>2026</td><td>2</td><td>3</td><td>5</td><td>3500.0</td><td>3465.0</td></tr><tr><td>P102</td><td>Samsung Galaxy</td><td>Electronics</td><td>2026</td><td>3</td><td>3</td><td>6</td><td>4200.0</td><td>4135.0</td></tr><tr><td>P102</td><td>Samsung Galaxy</td><td>Electronics</td><td>2026</td><td>5</td><td>2</td><td>7</td><td>4900.0</td><td>4890.0</td></tr><tr><td>P102</td><td>Samsung Galaxy</td><td>Electronics</td><td>2026</td><td>6</td><td>1</td><td>2</td><td>1400.0</td><td>1390.0</td></tr><tr><td>P102</td><td>Samsung Galaxy</td><td>Electronics</td><td>2026</td><td>8</td><td>1</td><td>4</td><td>2800.0</td><td>2800.0</td></tr><tr><td>P102</td><td>Samsung Galaxy</td><td>Electronics</td><td>2026</td><td>11</td><td>1</td><td>3</td><td>2100.0</td><td>2070.0</td></tr><tr><td>P103</td><td>Noise Headphones</td><td>Electronics</td><td>1900</td><td>1</td><td>4</td><td>13</td><td>1560.0</td><td>1535.0</td></tr><tr><td>P103</td><td>UNKNOWN</td><td>Electronics</td><td>1900</td><td>1</td><td>1</td><td>4</td><td>480.0</td><td>450.0</td></tr><tr><td>P103</td><td>Noise Headphones</td><td>Electronics</td><td>2023</td><td>1</td><td>4</td><td>12</td><td>1440.0</td><td>1380.0</td></tr><tr><td>P103</td><td>Noise Headphones</td><td>Electronics</td><td>2023</td><td>2</td><td>1</td><td>1</td><td>120.0</td><td>120.0</td></tr><tr><td>P103</td><td>Noise Headphones</td><td>Electronics</td><td>2023</td><td>6</td><td>2</td><td>5</td><td>588.0</td><td>578.0</td></tr><tr><td>P103</td><td>Noise Headphones</td><td>Electronics</td><td>2023</td><td>10</td><td>2</td><td>4</td><td>456.0</td><td>436.0</td></tr><tr><td>P103</td><td>Noise Headphones</td><td>Electronics</td><td>2023</td><td>11</td><td>1</td><td>3</td><td>360.0</td><td>360.0</td></tr><tr><td>P103</td><td>Noise Headphones</td><td>Electronics</td><td>2024</td><td>2</td><td>1</td><td>4</td><td>480.0</td><td>480.0</td></tr><tr><td>P103</td><td>Noise Headphones</td><td>Electronics</td><td>2024</td><td>3</td><td>2</td><td>6</td><td>720.0</td><td>650.0</td></tr><tr><td>P103</td><td>Noise Headphones</td><td>UNKNOWN</td><td>2024</td><td>3</td><td>2</td><td>5</td><td>636.0</td><td>626.0</td></tr><tr><td>P103</td><td>Noise Headphones</td><td>Electronics</td><td>2024</td><td>4</td><td>1</td><td>1</td><td>120.0</td><td>115.0</td></tr><tr><td>P103</td><td>Noise Headphones</td><td>Electronics</td><td>2024</td><td>5</td><td>1</td><td>3</td><td>360.0</td><td>330.0</td></tr><tr><td>P103</td><td>Noise Headphones</td><td>Electronics</td><td>2024</td><td>8</td><td>1</td><td>4</td><td>480.0</td><td>480.0</td></tr><tr><td>P103</td><td>Noise Headphones</td><td>Electronics</td><td>2024</td><td>9</td><td>1</td><td>1</td><td>120.0</td><td>90.0</td></tr><tr><td>P103</td><td>Noise Headphones</td><td>Electronics</td><td>2024</td><td>10</td><td>1</td><td>2</td><td>240.0</td><td>210.0</td></tr><tr><td>P103</td><td>Noise Headphones</td><td>Electronics</td><td>2024</td><td>11</td><td>1</td><td>5</td><td>600.0</td><td>595.0</td></tr><tr><td>P103</td><td>Noise Headphones</td><td>Electronics</td><td>2025</td><td>2</td><td>1</td><td>1</td><td>120.0</td><td>90.0</td></tr><tr><td>P103</td><td>Noise Headphones</td><td>Electronics</td><td>2025</td><td>5</td><td>2</td><td>7</td><td>840.0</td><td>790.0</td></tr><tr><td>P103</td><td>Noise Headphones</td><td>Electronics</td><td>2025</td><td>7</td><td>1</td><td>4</td><td>480.0</td><td>480.0</td></tr><tr><td>P103</td><td>Noise Headphones</td><td>Electronics</td><td>2025</td><td>9</td><td>1</td><td>5</td><td>600.0</td><td>580.0</td></tr><tr><td>P103</td><td>Noise Headphones</td><td>Electronics</td><td>2025</td><td>10</td><td>1</td><td>2</td><td>240.0</td><td>220.0</td></tr><tr><td>P103</td><td>Noise Headphones</td><td>Electronics</td><td>2025</td><td>11</td><td>1</td><td>4</td><td>480.0</td><td>480.0</td></tr><tr><td>P103</td><td>Noise Headphones</td><td>Electronics</td><td>2025</td><td>12</td><td>1</td><td>1</td><td>120.0</td><td>100.0</td></tr><tr><td>P103</td><td>Noise Headphones</td><td>Electronics</td><td>2026</td><td>3</td><td>1</td><td>2</td><td>240.0</td><td>210.0</td></tr><tr><td>P103</td><td>Noise Headphones</td><td>Electronics</td><td>2026</td><td>4</td><td>1</td><td>1</td><td>120.0</td><td>70.0</td></tr><tr><td>P103</td><td>Noise Headphones</td><td>Electronics</td><td>2026</td><td>6</td><td>2</td><td>4</td><td>504.0</td><td>474.0</td></tr><tr><td>P103</td><td>Noise Headphones</td><td>Electronics</td><td>2026</td><td>7</td><td>1</td><td>1</td><td>120.0</td><td>90.0</td></tr><tr><td>P103</td><td>Noise Headphones</td><td>Electronics</td><td>2026</td><td>8</td><td>1</td><td>1</td><td>120.0</td><td>100.0</td></tr><tr><td>P103</td><td>Noise Headphones</td><td>Electronics</td><td>2026</td><td>10</td><td>1</td><td>3</td><td>360.0</td><td>310.0</td></tr><tr><td>P104</td><td>Apple Watch</td><td>Electronics</td><td>1900</td><td>1</td><td>2</td><td>4</td><td>1400.0</td><td>1385.0</td></tr><tr><td>P104</td><td>Apple Watch</td><td>Electronics</td><td>2023</td><td>2</td><td>2</td><td>9</td><td>3150.0</td><td>3100.0</td></tr><tr><td>P104</td><td>Apple Watch</td><td>Electronics</td><td>2023</td><td>4</td><td>1</td><td>5</td><td>1750.0</td><td>1730.0</td></tr><tr><td>P104</td><td>UNKNOWN</td><td>Electronics</td><td>2023</td><td>7</td><td>1</td><td>2</td><td>700.0</td><td>650.0</td></tr><tr><td>P104</td><td>Apple Watch</td><td>Electronics</td><td>2023</td><td>7</td><td>1</td><td>1</td><td>350.0</td><td>350.0</td></tr><tr><td>P104</td><td>Apple Watch</td><td>Electronics</td><td>2023</td><td>8</td><td>1</td><td>5</td><td>1750.0</td><td>1720.0</td></tr><tr><td>P104</td><td>Apple Watch</td><td>Electronics</td><td>2023</td><td>12</td><td>1</td><td>3</td><td>1050.0</td><td>1045.0</td></tr><tr><td>P104</td><td>Apple Watch</td><td>Electronics</td><td>2024</td><td>8</td><td>1</td><td>4</td><td>1400.0</td><td>1400.0</td></tr><tr><td>P104</td><td>Apple Watch</td><td>Electronics</td><td>2024</td><td>11</td><td>1</td><td>1</td><td>350.0</td><td>340.0</td></tr><tr><td>P104</td><td>Apple Watch</td><td>Electronics</td><td>2025</td><td>1</td><td>1</td><td>1</td><td>350.0</td><td>340.0</td></tr><tr><td>P104</td><td>Apple Watch</td><td>Electronics</td><td>2025</td><td>2</td><td>1</td><td>1</td><td>350.0</td><td>345.0</td></tr><tr><td>P104</td><td>Apple Watch</td><td>Electronics</td><td>2025</td><td>7</td><td>2</td><td>6</td><td>2170.0</td><td>2170.0</td></tr><tr><td>P104</td><td>Apple Watch</td><td>Electronics</td><td>2025</td><td>9</td><td>1</td><td>4</td><td>1400.0</td><td>1390.0</td></tr><tr><td>P104</td><td>Apple Watch</td><td>Electronics</td><td>2026</td><td>3</td><td>1</td><td>5</td><td>1750.0</td><td>1745.0</td></tr><tr><td>P104</td><td>Apple Watch</td><td>Electronics</td><td>2026</td><td>4</td><td>1</td><td>1</td><td>350.0</td><td>340.0</td></tr><tr><td>P104</td><td>Apple Watch</td><td>Electronics</td><td>2026</td><td>5</td><td>1</td><td>1</td><td>350.0</td><td>350.0</td></tr><tr><td>P104</td><td>Apple Watch</td><td>Electronics</td><td>2026</td><td>6</td><td>2</td><td>7</td><td>2450.0</td><td>2390.0</td></tr><tr><td>P201</td><td>Jeans</td><td>Clothing</td><td>1900</td><td>1</td><td>4</td><td>9</td><td>360.0</td><td>245.0</td></tr><tr><td>P201</td><td>Jeans</td><td>Clothing</td><td>2023</td><td>1</td><td>4</td><td>11</td><td>440.0</td><td>415.0</td></tr><tr><td>P201</td><td>Jeans</td><td>Clothing</td><td>2023</td><td>5</td><td>1</td><td>3</td><td>120.0</td><td>90.0</td></tr><tr><td>P201</td><td>Jeans</td><td>Clothing</td><td>2023</td><td>6</td><td>1</td><td>1</td><td>40.0</td><td>35.0</td></tr><tr><td>P201</td><td>Jeans</td><td>Clothing</td><td>2023</td><td>7</td><td>1</td><td>2</td><td>80.0</td><td>80.0</td></tr><tr><td>P201</td><td>UNKNOWN</td><td>Clothing</td><td>2023</td><td>9</td><td>1</td><td>3</td><td>120.0</td><td>90.0</td></tr><tr><td>P201</td><td>Jeans</td><td>Clothing</td><td>2023</td><td>10</td><td>1</td><td>2</td><td>80.0</td><td>50.0</td></tr><tr><td>P201</td><td>Jeans</td><td>Clothing</td><td>2023</td><td>11</td><td>1</td><td>1</td><td>40.0</td><td>40.0</td></tr><tr><td>P201</td><td>Jeans</td><td>Clothing</td><td>2024</td><td>1</td><td>1</td><td>4</td><td>160.0</td><td>160.0</td></tr><tr><td>P201</td><td>Jeans</td><td>Clothing</td><td>2024</td><td>2</td><td>2</td><td>5</td><td>200.0</td><td>190.0</td></tr><tr><td>P201</td><td>Jeans</td><td>Clothing</td><td>2024</td><td>5</td><td>1</td><td>4</td><td>176.0</td><td>166.0</td></tr><tr><td>P201</td><td>Jeans</td><td>Clothing</td><td>2024</td><td>6</td><td>3</td><td>10</td><td>400.0</td><td>390.0</td></tr><tr><td>P201</td><td>Jeans</td><td>Clothing</td><td>2024</td><td>7</td><td>1</td><td>1</td><td>40.0</td><td>-10.0</td></tr><tr><td>P201</td><td>Jeans</td><td>Clothing</td><td>2025</td><td>2</td><td>3</td><td>12</td><td>480.0</td><td>450.0</td></tr><tr><td>P201</td><td>Jeans</td><td>Clothing</td><td>2025</td><td>3</td><td>1</td><td>1</td><td>40.0</td><td>40.0</td></tr><tr><td>P201</td><td>UNKNOWN</td><td>Clothing</td><td>2025</td><td>6</td><td>1</td><td>2</td><td>80.0</td><td>80.0</td></tr><tr><td>P201</td><td>Jeans</td><td>Clothing</td><td>2025</td><td>8</td><td>1</td><td>1</td><td>40.0</td><td>10.0</td></tr><tr><td>P201</td><td>Jeans</td><td>Clothing</td><td>2025</td><td>11</td><td>1</td><td>3</td><td>120.0</td><td>70.0</td></tr><tr><td>P201</td><td>Jeans</td><td>Clothing</td><td>2026</td><td>5</td><td>1</td><td>5</td><td>200.0</td><td>190.0</td></tr><tr><td>P201</td><td>Jeans</td><td>Clothing</td><td>2026</td><td>8</td><td>1</td><td>4</td><td>160.0</td><td>130.0</td></tr><tr><td>P201</td><td>Jeans</td><td>Clothing</td><td>2026</td><td>11</td><td>2</td><td>7</td><td>280.0</td><td>270.0</td></tr><tr><td>P202</td><td>T-shirt</td><td>Clothing</td><td>2023</td><td>1</td><td>2</td><td>6</td><td>120.0</td><td>70.0</td></tr><tr><td>P202</td><td>T-shirt</td><td>Clothing</td><td>2023</td><td>2</td><td>1</td><td>4</td><td>80.0</td><td>70.0</td></tr><tr><td>P202</td><td>T-shirt</td><td>Clothing</td><td>2023</td><td>4</td><td>1</td><td>2</td><td>40.0</td><td>20.0</td></tr><tr><td>P202</td><td>T-shirt</td><td>Clothing</td><td>2023</td><td>6</td><td>1</td><td>4</td><td>80.0</td><td>70.0</td></tr><tr><td>P202</td><td>T-shirt</td><td>Clothing</td><td>2024</td><td>1</td><td>1</td><td>3</td><td>60.0</td><td>55.0</td></tr><tr><td>P202</td><td>T-shirt</td><td>Clothing</td><td>2024</td><td>5</td><td>1</td><td>4</td><td>72.0</td><td>67.0</td></tr><tr><td>P202</td><td>T-shirt</td><td>Clothing</td><td>2024</td><td>7</td><td>1</td><td>2</td><td>40.0</td><td>20.0</td></tr><tr><td>P202</td><td>UNKNOWN</td><td>Clothing</td><td>2024</td><td>11</td><td>1</td><td>1</td><td>20.0</td><td>0.0</td></tr><tr><td>P202</td><td>T-shirt</td><td>Clothing</td><td>2025</td><td>2</td><td>1</td><td>2</td><td>40.0</td><td>35.0</td></tr><tr><td>P202</td><td>T-shirt</td><td>Clothing</td><td>2025</td><td>3</td><td>1</td><td>5</td><td>100.0</td><td>70.0</td></tr><tr><td>P202</td><td>T-shirt</td><td>Clothing</td><td>2025</td><td>4</td><td>1</td><td>2</td><td>40.0</td><td>-10.0</td></tr><tr><td>P202</td><td>T-shirt</td><td>Clothing</td><td>2025</td><td>5</td><td>1</td><td>4</td><td>80.0</td><td>30.0</td></tr><tr><td>P202</td><td>T-shirt</td><td>Clothing</td><td>2025</td><td>6</td><td>2</td><td>8</td><td>160.0</td><td>130.0</td></tr><tr><td>P202</td><td>T-shirt</td><td>Clothing</td><td>2025</td><td>9</td><td>1</td><td>1</td><td>20.0</td><td>15.0</td></tr><tr><td>P202</td><td>T-shirt</td><td>Clothing</td><td>2025</td><td>11</td><td>1</td><td>3</td><td>60.0</td><td>10.0</td></tr><tr><td>P202</td><td>T-shirt</td><td>Clothing</td><td>2026</td><td>2</td><td>1</td><td>1</td><td>20.0</td><td>15.0</td></tr><tr><td>P202</td><td>T-shirt</td><td>UNKNOWN</td><td>2026</td><td>3</td><td>1</td><td>3</td><td>60.0</td><td>30.0</td></tr><tr><td>P202</td><td>T-shirt</td><td>Clothing</td><td>2026</td><td>4</td><td>1</td><td>4</td><td>80.0</td><td>75.0</td></tr><tr><td>P202</td><td>T-shirt</td><td>Clothing</td><td>2026</td><td>7</td><td>2</td><td>7</td><td>140.0</td><td>120.0</td></tr><tr><td>P202</td><td>T-shirt</td><td>Clothing</td><td>2026</td><td>9</td><td>1</td><td>4</td><td>80.0</td><td>80.0</td></tr><tr><td>P202</td><td>T-shirt</td><td>Clothing</td><td>2026</td><td>10</td><td>1</td><td>1</td><td>20.0</td><td>-10.0</td></tr><tr><td>P203</td><td>Jacket</td><td>Clothing</td><td>1900</td><td>1</td><td>6</td><td>19</td><td>1140.0</td><td>1035.0</td></tr><tr><td>P203</td><td>Jacket</td><td>Clothing</td><td>2023</td><td>1</td><td>1</td><td>4</td><td>240.0</td><td>240.0</td></tr><tr><td>P203</td><td>Jacket</td><td>Clothing</td><td>2023</td><td>3</td><td>1</td><td>2</td><td>120.0</td><td>120.0</td></tr><tr><td>P203</td><td>Jacket</td><td>Clothing</td><td>2023</td><td>6</td><td>2</td><td>5</td><td>300.0</td><td>300.0</td></tr><tr><td>P203</td><td>Jacket</td><td>UNKNOWN</td><td>2023</td><td>7</td><td>1</td><td>4</td><td>240.0</td><td>240.0</td></tr><tr><td>P203</td><td>Jacket</td><td>Clothing</td><td>2023</td><td>12</td><td>1</td><td>3</td><td>180.0</td><td>170.0</td></tr><tr><td>P203</td><td>Jacket</td><td>Clothing</td><td>2024</td><td>1</td><td>2</td><td>8</td><td>480.0</td><td>465.0</td></tr><tr><td>P203</td><td>Jacket</td><td>Clothing</td><td>2024</td><td>2</td><td>1</td><td>5</td><td>300.0</td><td>300.0</td></tr><tr><td>P203</td><td>Jacket</td><td>Clothing</td><td>2024</td><td>4</td><td>1</td><td>2</td><td>120.0</td><td>120.0</td></tr><tr><td>P203</td><td>Jacket</td><td>Clothing</td><td>2024</td><td>5</td><td>1</td><td>4</td><td>240.0</td><td>220.0</td></tr><tr><td>P203</td><td>Jacket</td><td>Clothing</td><td>2024</td><td>6</td><td>1</td><td>1</td><td>60.0</td><td>55.0</td></tr><tr><td>P203</td><td>Jacket</td><td>Clothing</td><td>2024</td><td>8</td><td>3</td><td>10</td><td>600.0</td><td>560.0</td></tr><tr><td>P203</td><td>UNKNOWN</td><td>Clothing</td><td>2024</td><td>8</td><td>1</td><td>1</td><td>60.0</td><td>55.0</td></tr><tr><td>P203</td><td>Jacket</td><td>Clothing</td><td>2024</td><td>9</td><td>1</td><td>3</td><td>180.0</td><td>130.0</td></tr><tr><td>P203</td><td>Jacket</td><td>Clothing</td><td>2024</td><td>11</td><td>2</td><td>4</td><td>240.0</td><td>210.0</td></tr><tr><td>P203</td><td>Jacket</td><td>Clothing</td><td>2025</td><td>2</td><td>3</td><td>7</td><td>420.0</td><td>330.0</td></tr><tr><td>P203</td><td>Jacket</td><td>Clothing</td><td>2025</td><td>5</td><td>1</td><td>3</td><td>180.0</td><td>170.0</td></tr><tr><td>P203</td><td>Jacket</td><td>Clothing</td><td>2025</td><td>7</td><td>1</td><td>3</td><td>180.0</td><td>170.0</td></tr><tr><td>P203</td><td>Jacket</td><td>Clothing</td><td>2025</td><td>10</td><td>1</td><td>2</td><td>120.0</td><td>115.0</td></tr><tr><td>P203</td><td>Jacket</td><td>Clothing</td><td>2025</td><td>11</td><td>1</td><td>2</td><td>120.0</td><td>90.0</td></tr><tr><td>P203</td><td>Jacket</td><td>Clothing</td><td>2026</td><td>3</td><td>1</td><td>4</td><td>240.0</td><td>230.0</td></tr><tr><td>P203</td><td>Jacket</td><td>Clothing</td><td>2026</td><td>5</td><td>1</td><td>2</td><td>120.0</td><td>110.0</td></tr><tr><td>P203</td><td>UNKNOWN</td><td>Clothing</td><td>2026</td><td>8</td><td>1</td><td>5</td><td>300.0</td><td>280.0</td></tr><tr><td>P203</td><td>Jacket</td><td>Clothing</td><td>2026</td><td>9</td><td>1</td><td>3</td><td>180.0</td><td>175.0</td></tr><tr><td>P203</td><td>Jacket</td><td>Clothing</td><td>2026</td><td>10</td><td>2</td><td>6</td><td>360.0</td><td>260.0</td></tr><tr><td>P204</td><td>Sneakers</td><td>Clothing</td><td>1900</td><td>1</td><td>3</td><td>8</td><td>600.0</td><td>565.0</td></tr><tr><td>P204</td><td>Sneakers</td><td>UNKNOWN</td><td>1900</td><td>1</td><td>1</td><td>1</td><td>75.0</td><td>75.0</td></tr><tr><td>P204</td><td>Sneakers</td><td>Clothing</td><td>2023</td><td>2</td><td>2</td><td>8</td><td>600.0</td><td>545.0</td></tr><tr><td>P204</td><td>Sneakers</td><td>Clothing</td><td>2023</td><td>3</td><td>2</td><td>4</td><td>300.0</td><td>270.0</td></tr><tr><td>P204</td><td>UNKNOWN</td><td>Clothing</td><td>2023</td><td>4</td><td>2</td><td>5</td><td>375.0</td><td>320.0</td></tr><tr><td>P204</td><td>Sneakers</td><td>Clothing</td><td>2023</td><td>4</td><td>1</td><td>2</td><td>150.0</td><td>150.0</td></tr><tr><td>P204</td><td>Sneakers</td><td>Clothing</td><td>2023</td><td>5</td><td>2</td><td>7</td><td>525.0</td><td>515.0</td></tr><tr><td>P204</td><td>Sneakers</td><td>Clothing</td><td>2023</td><td>7</td><td>2</td><td>9</td><td>675.0</td><td>635.0</td></tr><tr><td>P204</td><td>Sneakers</td><td>UNKNOWN</td><td>2023</td><td>8</td><td>1</td><td>2</td><td>150.0</td><td>150.0</td></tr><tr><td>P204</td><td>Sneakers</td><td>Clothing</td><td>2023</td><td>10</td><td>2</td><td>5</td><td>375.0</td><td>365.0</td></tr><tr><td>P204</td><td>Sneakers</td><td>Clothing</td><td>2023</td><td>11</td><td>1</td><td>2</td><td>150.0</td><td>150.0</td></tr><tr><td>P204</td><td>Sneakers</td><td>Clothing</td><td>2024</td><td>5</td><td>2</td><td>4</td><td>300.0</td><td>220.0</td></tr><tr><td>P204</td><td>Sneakers</td><td>UNKNOWN</td><td>2024</td><td>6</td><td>1</td><td>2</td><td>150.0</td><td>140.0</td></tr><tr><td>P204</td><td>Sneakers</td><td>Clothing</td><td>2024</td><td>6</td><td>1</td><td>4</td><td>300.0</td><td>300.0</td></tr><tr><td>P204</td><td>Sneakers</td><td>Clothing</td><td>2024</td><td>7</td><td>1</td><td>4</td><td>300.0</td><td>270.0</td></tr><tr><td>P204</td><td>Sneakers</td><td>Clothing</td><td>2024</td><td>12</td><td>1</td><td>2</td><td>150.0</td><td>145.0</td></tr><tr><td>P204</td><td>Sneakers</td><td>Clothing</td><td>2025</td><td>1</td><td>1</td><td>3</td><td>225.0</td><td>205.0</td></tr><tr><td>P204</td><td>Sneakers</td><td>Clothing</td><td>2025</td><td>2</td><td>1</td><td>5</td><td>375.0</td><td>365.0</td></tr><tr><td>P204</td><td>Sneakers</td><td>Clothing</td><td>2025</td><td>3</td><td>1</td><td>3</td><td>225.0</td><td>205.0</td></tr><tr><td>P204</td><td>Sneakers</td><td>Clothing</td><td>2025</td><td>8</td><td>1</td><td>4</td><td>300.0</td><td>300.0</td></tr><tr><td>P204</td><td>Sneakers</td><td>Clothing</td><td>2025</td><td>9</td><td>1</td><td>5</td><td>375.0</td><td>375.0</td></tr><tr><td>P204</td><td>Sneakers</td><td>Clothing</td><td>2025</td><td>10</td><td>1</td><td>2</td><td>150.0</td><td>140.0</td></tr><tr><td>P204</td><td>Sneakers</td><td>Clothing</td><td>2025</td><td>11</td><td>1</td><td>2</td><td>150.0</td><td>150.0</td></tr><tr><td>P204</td><td>Sneakers</td><td>Clothing</td><td>2025</td><td>12</td><td>2</td><td>4</td><td>285.0</td><td>205.0</td></tr><tr><td>P204</td><td>Sneakers</td><td>Clothing</td><td>2026</td><td>1</td><td>1</td><td>2</td><td>150.0</td><td>150.0</td></tr><tr><td>P204</td><td>Sneakers</td><td>Clothing</td><td>2026</td><td>2</td><td>1</td><td>1</td><td>75.0</td><td>75.0</td></tr><tr><td>P204</td><td>Sneakers</td><td>Clothing</td><td>2026</td><td>6</td><td>2</td><td>4</td><td>300.0</td><td>295.0</td></tr><tr><td>P204</td><td>Sneakers</td><td>Clothing</td><td>2026</td><td>8</td><td>1</td><td>3</td><td>225.0</td><td>220.0</td></tr><tr><td>P204</td><td>Sneakers</td><td>Clothing</td><td>2026</td><td>9</td><td>1</td><td>3</td><td>225.0</td><td>205.0</td></tr><tr><td>P204</td><td>Sneakers</td><td>Clothing</td><td>2026</td><td>10</td><td>1</td><td>4</td><td>300.0</td><td>295.0</td></tr><tr><td>P204</td><td>Sneakers</td><td>Clothing</td><td>2026</td><td>12</td><td>2</td><td>8</td><td>600.0</td><td>570.0</td></tr><tr><td>P301</td><td>Sofa</td><td>Home</td><td>1900</td><td>1</td><td>1</td><td>1</td><td>500.0</td><td>500.0</td></tr><tr><td>P301</td><td>Sofa</td><td>Home</td><td>2023</td><td>2</td><td>2</td><td>5</td><td>2500.0</td><td>2430.0</td></tr><tr><td>P301</td><td>Sofa</td><td>Home</td><td>2023</td><td>8</td><td>2</td><td>5</td><td>2500.0</td><td>2490.0</td></tr><tr><td>P301</td><td>UNKNOWN</td><td>Home</td><td>2024</td><td>2</td><td>2</td><td>3</td><td>1500.0</td><td>1450.0</td></tr><tr><td>P301</td><td>Sofa</td><td>Home</td><td>2024</td><td>5</td><td>1</td><td>1</td><td>500.0</td><td>470.0</td></tr><tr><td>P301</td><td>Sofa</td><td>Home</td><td>2024</td><td>6</td><td>2</td><td>6</td><td>3000.0</td><td>2960.0</td></tr><tr><td>P301</td><td>Sofa</td><td>Home</td><td>2024</td><td>9</td><td>2</td><td>5</td><td>2500.0</td><td>2485.0</td></tr><tr><td>P301</td><td>Sofa</td><td>Home</td><td>2024</td><td>10</td><td>1</td><td>2</td><td>1000.0</td><td>990.0</td></tr><tr><td>P301</td><td>Sofa</td><td>Home</td><td>2024</td><td>11</td><td>2</td><td>6</td><td>3000.0</td><td>2950.0</td></tr><tr><td>P301</td><td>Sofa</td><td>Home</td><td>2025</td><td>3</td><td>1</td><td>1</td><td>500.0</td><td>470.0</td></tr><tr><td>P301</td><td>Sofa</td><td>Home</td><td>2025</td><td>8</td><td>1</td><td>3</td><td>1500.0</td><td>1470.0</td></tr><tr><td>P301</td><td>Sofa</td><td>Home</td><td>2025</td><td>9</td><td>1</td><td>2</td><td>1000.0</td><td>970.0</td></tr><tr><td>P301</td><td>Sofa</td><td>Home</td><td>2025</td><td>11</td><td>3</td><td>6</td><td>3000.0</td><td>2990.0</td></tr><tr><td>P301</td><td>Sofa</td><td>Home</td><td>2025</td><td>12</td><td>1</td><td>1</td><td>500.0</td><td>480.0</td></tr><tr><td>P301</td><td>Sofa</td><td>Home</td><td>2026</td><td>3</td><td>1</td><td>2</td><td>1000.0</td><td>990.0</td></tr><tr><td>P301</td><td>Sofa</td><td>Home</td><td>2026</td><td>4</td><td>1</td><td>2</td><td>1000.0</td><td>990.0</td></tr><tr><td>P301</td><td>Sofa</td><td>Home</td><td>2026</td><td>5</td><td>1</td><td>3</td><td>1500.0</td><td>1480.0</td></tr><tr><td>P301</td><td>Sofa</td><td>Home</td><td>2026</td><td>7</td><td>1</td><td>2</td><td>1000.0</td><td>990.0</td></tr><tr><td>P301</td><td>Sofa</td><td>Home</td><td>2026</td><td>9</td><td>1</td><td>5</td><td>2500.0</td><td>2495.0</td></tr><tr><td>P301</td><td>Sofa</td><td>Home</td><td>2026</td><td>10</td><td>3</td><td>10</td><td>5000.0</td><td>4990.0</td></tr><tr><td>P301</td><td>Sofa</td><td>Home</td><td>2026</td><td>11</td><td>2</td><td>3</td><td>1500.0</td><td>1465.0</td></tr><tr><td>P301</td><td>Sofa</td><td>Home</td><td>2026</td><td>12</td><td>1</td><td>5</td><td>2500.0</td><td>2480.0</td></tr><tr><td>P302</td><td>Dining Table</td><td>Home</td><td>1900</td><td>1</td><td>1</td><td>4</td><td>1800.0</td><td>1800.0</td></tr><tr><td>P302</td><td>Dining Table</td><td>UNKNOWN</td><td>2023</td><td>2</td><td>1</td><td>4</td><td>1800.0</td><td>1750.0</td></tr><tr><td>P302</td><td>Dining Table</td><td>Home</td><td>2023</td><td>2</td><td>1</td><td>4</td><td>1800.0</td><td>1795.0</td></tr><tr><td>P302</td><td>Dining Table</td><td>Home</td><td>2023</td><td>4</td><td>3</td><td>12</td><td>5400.0</td><td>5320.0</td></tr><tr><td>P302</td><td>Dining Table</td><td>UNKNOWN</td><td>2023</td><td>8</td><td>1</td><td>2</td><td>900.0</td><td>895.0</td></tr><tr><td>P302</td><td>Dining Table</td><td>Home</td><td>2023</td><td>9</td><td>1</td><td>4</td><td>1800.0</td><td>1800.0</td></tr><tr><td>P302</td><td>Dining Table</td><td>Home</td><td>2023</td><td>10</td><td>1</td><td>3</td><td>1350.0</td><td>1330.0</td></tr><tr><td>P302</td><td>Dining Table</td><td>Home</td><td>2023</td><td>11</td><td>1</td><td>3</td><td>1350.0</td><td>1345.0</td></tr><tr><td>P302</td><td>Dining Table</td><td>Home</td><td>2023</td><td>12</td><td>1</td><td>1</td><td>450.0</td><td>450.0</td></tr><tr><td>P302</td><td>UNKNOWN</td><td>Home</td><td>2024</td><td>3</td><td>1</td><td>2</td><td>900.0</td><td>900.0</td></tr><tr><td>P302</td><td>Dining Table</td><td>Home</td><td>2024</td><td>3</td><td>1</td><td>4</td><td>1800.0</td><td>1790.0</td></tr><tr><td>P302</td><td>Dining Table</td><td>Home</td><td>2024</td><td>7</td><td>2</td><td>8</td><td>3600.0</td><td>3560.0</td></tr><tr><td>P302</td><td>Dining Table</td><td>Home</td><td>2024</td><td>8</td><td>2</td><td>7</td><td>3150.0</td><td>3150.0</td></tr><tr><td>P302</td><td>Dining Table</td><td>Home</td><td>2024</td><td>9</td><td>1</td><td>4</td><td>1800.0</td><td>1800.0</td></tr><tr><td>P302</td><td>Dining Table</td><td>Home</td><td>2024</td><td>11</td><td>1</td><td>4</td><td>1800.0</td><td>1750.0</td></tr><tr><td>P302</td><td>Dining Table</td><td>Home</td><td>2024</td><td>12</td><td>1</td><td>1</td><td>450.0</td><td>420.0</td></tr><tr><td>P302</td><td>Dining Table</td><td>Home</td><td>2025</td><td>1</td><td>2</td><td>8</td><td>3600.0</td><td>3590.0</td></tr><tr><td>P302</td><td>Dining Table</td><td>Home</td><td>2025</td><td>3</td><td>3</td><td>3</td><td>1350.0</td><td>1345.0</td></tr><tr><td>P302</td><td>Dining Table</td><td>Home</td><td>2025</td><td>5</td><td>1</td><td>2</td><td>900.0</td><td>880.0</td></tr><tr><td>P302</td><td>Dining Table</td><td>UNKNOWN</td><td>2025</td><td>6</td><td>1</td><td>3</td><td>1350.0</td><td>1300.0</td></tr><tr><td>P302</td><td>Dining Table</td><td>Home</td><td>2025</td><td>8</td><td>2</td><td>9</td><td>4050.0</td><td>4020.0</td></tr><tr><td>P302</td><td>Dining Table</td><td>Home</td><td>2025</td><td>9</td><td>1</td><td>3</td><td>1350.0</td><td>1350.0</td></tr><tr><td>P302</td><td>Dining Table</td><td>Home</td><td>2025</td><td>10</td><td>1</td><td>1</td><td>450.0</td><td>400.0</td></tr><tr><td>P302</td><td>Dining Table</td><td>Home</td><td>2025</td><td>12</td><td>1</td><td>5</td><td>2250.0</td><td>2250.0</td></tr><tr><td>P302</td><td>Dining Table</td><td>Home</td><td>2026</td><td>2</td><td>1</td><td>2</td><td>900.0</td><td>890.0</td></tr><tr><td>P302</td><td>Dining Table</td><td>Home</td><td>2026</td><td>8</td><td>2</td><td>6</td><td>2700.0</td><td>2640.0</td></tr><tr><td>P302</td><td>Dining Table</td><td>Home</td><td>2026</td><td>10</td><td>2</td><td>7</td><td>3150.0</td><td>3120.0</td></tr><tr><td>P303</td><td>Lamp</td><td>Home</td><td>1900</td><td>1</td><td>1</td><td>1</td><td>35.0</td><td>25.0</td></tr><tr><td>P303</td><td>UNKNOWN</td><td>Home</td><td>1900</td><td>1</td><td>1</td><td>2</td><td>70.0</td><td>20.0</td></tr><tr><td>P303</td><td>Lamp</td><td>Home</td><td>2023</td><td>3</td><td>1</td><td>4</td><td>126.0</td><td>126.0</td></tr><tr><td>P303</td><td>UNKNOWN</td><td>Home</td><td>2023</td><td>6</td><td>1</td><td>1</td><td>35.0</td><td>5.0</td></tr><tr><td>P303</td><td>Lamp</td><td>Home</td><td>2023</td><td>7</td><td>1</td><td>2</td><td>70.0</td><td>20.0</td></tr><tr><td>P303</td><td>UNKNOWN</td><td>Home</td><td>2023</td><td>10</td><td>1</td><td>3</td><td>105.0</td><td>105.0</td></tr><tr><td>P303</td><td>Lamp</td><td>Home</td><td>2023</td><td>10</td><td>1</td><td>4</td><td>140.0</td><td>120.0</td></tr><tr><td>P303</td><td>Lamp</td><td>UNKNOWN</td><td>2023</td><td>11</td><td>1</td><td>1</td><td>35.0</td><td>35.0</td></tr><tr><td>P303</td><td>Lamp</td><td>Home</td><td>2024</td><td>2</td><td>1</td><td>3</td><td>105.0</td><td>85.0</td></tr><tr><td>P303</td><td>Lamp</td><td>Home</td><td>2024</td><td>3</td><td>1</td><td>5</td><td>175.0</td><td>145.0</td></tr><tr><td>P303</td><td>Lamp</td><td>Home</td><td>2024</td><td>6</td><td>1</td><td>1</td><td>35.0</td><td>35.0</td></tr><tr><td>P303</td><td>Lamp</td><td>Home</td><td>2024</td><td>7</td><td>1</td><td>1</td><td>35.0</td><td>15.0</td></tr><tr><td>P303</td><td>Lamp</td><td>Home</td><td>2024</td><td>9</td><td>2</td><td>6</td><td>210.0</td><td>160.0</td></tr><tr><td>P303</td><td>Lamp</td><td>Home</td><td>2024</td><td>10</td><td>1</td><td>2</td><td>70.0</td><td>20.0</td></tr><tr><td>P303</td><td>UNKNOWN</td><td>Home</td><td>2024</td><td>11</td><td>1</td><td>3</td><td>105.0</td><td>105.0</td></tr><tr><td>P303</td><td>UNKNOWN</td><td>Home</td><td>2025</td><td>1</td><td>1</td><td>5</td><td>175.0</td><td>155.0</td></tr><tr><td>P303</td><td>Lamp</td><td>Home</td><td>2025</td><td>2</td><td>1</td><td>4</td><td>140.0</td><td>90.0</td></tr><tr><td>P303</td><td>Lamp</td><td>Home</td><td>2025</td><td>3</td><td>2</td><td>4</td><td>140.0</td><td>120.0</td></tr><tr><td>P303</td><td>Lamp</td><td>Home</td><td>2025</td><td>4</td><td>1</td><td>5</td><td>175.0</td><td>175.0</td></tr><tr><td>P303</td><td>Lamp</td><td>Home</td><td>2025</td><td>5</td><td>1</td><td>5</td><td>175.0</td><td>170.0</td></tr><tr><td>P303</td><td>Lamp</td><td>Home</td><td>2025</td><td>6</td><td>1</td><td>4</td><td>140.0</td><td>110.0</td></tr><tr><td>P303</td><td>Lamp</td><td>Home</td><td>2025</td><td>8</td><td>1</td><td>3</td><td>105.0</td><td>95.0</td></tr><tr><td>P303</td><td>Lamp</td><td>Home</td><td>2025</td><td>9</td><td>1</td><td>1</td><td>35.0</td><td>35.0</td></tr><tr><td>P303</td><td>Lamp</td><td>Home</td><td>2025</td><td>10</td><td>1</td><td>5</td><td>175.0</td><td>145.0</td></tr><tr><td>P303</td><td>Lamp</td><td>Home</td><td>2025</td><td>11</td><td>3</td><td>6</td><td>210.0</td><td>135.0</td></tr><tr><td>P303</td><td>Lamp</td><td>Home</td><td>2026</td><td>1</td><td>1</td><td>5</td><td>175.0</td><td>170.0</td></tr><tr><td>P303</td><td>Lamp</td><td>Home</td><td>2026</td><td>3</td><td>1</td><td>2</td><td>70.0</td><td>40.0</td></tr><tr><td>P303</td><td>Lamp</td><td>Home</td><td>2026</td><td>7</td><td>1</td><td>4</td><td>140.0</td><td>110.0</td></tr><tr><td>P303</td><td>UNKNOWN</td><td>Home</td><td>2026</td><td>8</td><td>1</td><td>4</td><td>140.0</td><td>140.0</td></tr><tr><td>P303</td><td>UNKNOWN</td><td>Home</td><td>2026</td><td>9</td><td>1</td><td>5</td><td>175.0</td><td>155.0</td></tr><tr><td>P304</td><td>Cookware Set</td><td>Home</td><td>1900</td><td>1</td><td>2</td><td>3</td><td>360.0</td><td>330.0</td></tr><tr><td>P304</td><td>Cookware Set</td><td>Home</td><td>2023</td><td>1</td><td>1</td><td>2</td><td>240.0</td><td>190.0</td></tr><tr><td>P304</td><td>Cookware Set</td><td>UNKNOWN</td><td>2023</td><td>2</td><td>1</td><td>2</td><td>240.0</td><td>235.0</td></tr><tr><td>P304</td><td>Cookware Set</td><td>Home</td><td>2023</td><td>9</td><td>1</td><td>1</td><td>120.0</td><td>115.0</td></tr><tr><td>P304</td><td>Cookware Set</td><td>Home</td><td>2023</td><td>11</td><td>1</td><td>3</td><td>360.0</td><td>360.0</td></tr><tr><td>P304</td><td>Cookware Set</td><td>Home</td><td>2023</td><td>12</td><td>1</td><td>2</td><td>240.0</td><td>220.0</td></tr><tr><td>P304</td><td>Cookware Set</td><td>Home</td><td>2024</td><td>2</td><td>1</td><td>2</td><td>240.0</td><td>240.0</td></tr><tr><td>P304</td><td>Cookware Set</td><td>Home</td><td>2024</td><td>3</td><td>1</td><td>3</td><td>360.0</td><td>330.0</td></tr><tr><td>P304</td><td>Cookware Set</td><td>Home</td><td>2024</td><td>6</td><td>1</td><td>4</td><td>480.0</td><td>450.0</td></tr><tr><td>P304</td><td>Cookware Set</td><td>Home</td><td>2024</td><td>10</td><td>1</td><td>1</td><td>120.0</td><td>110.0</td></tr><tr><td>P304</td><td>Cookware Set</td><td>Home</td><td>2024</td><td>12</td><td>1</td><td>2</td><td>240.0</td><td>235.0</td></tr><tr><td>P304</td><td>Cookware Set</td><td>Home</td><td>2025</td><td>1</td><td>1</td><td>5</td><td>600.0</td><td>600.0</td></tr><tr><td>P304</td><td>Cookware Set</td><td>Home</td><td>2025</td><td>5</td><td>2</td><td>4</td><td>480.0</td><td>450.0</td></tr><tr><td>P304</td><td>Cookware Set</td><td>Home</td><td>2025</td><td>6</td><td>1</td><td>1</td><td>120.0</td><td>115.0</td></tr><tr><td>P304</td><td>Cookware Set</td><td>Home</td><td>2025</td><td>9</td><td>1</td><td>4</td><td>480.0</td><td>460.0</td></tr><tr><td>P304</td><td>Cookware Set</td><td>Home</td><td>2025</td><td>12</td><td>1</td><td>1</td><td>120.0</td><td>90.0</td></tr><tr><td>P304</td><td>Cookware Set</td><td>Home</td><td>2026</td><td>2</td><td>1</td><td>1</td><td>120.0</td><td>110.0</td></tr><tr><td>P304</td><td>Cookware Set</td><td>Home</td><td>2026</td><td>4</td><td>1</td><td>5</td><td>600.0</td><td>590.0</td></tr><tr><td>P304</td><td>Cookware Set</td><td>Home</td><td>2026</td><td>7</td><td>1</td><td>5</td><td>600.0</td><td>580.0</td></tr><tr><td>P304</td><td>Cookware Set</td><td>Home</td><td>2026</td><td>10</td><td>1</td><td>4</td><td>480.0</td><td>450.0</td></tr><tr><td>P304</td><td>Cookware Set</td><td>Home</td><td>2026</td><td>11</td><td>1</td><td>5</td><td>600.0</td><td>600.0</td></tr><tr><td>P304</td><td>Cookware Set</td><td>Home</td><td>2026</td><td>12</td><td>1</td><td>2</td><td>240.0</td><td>190.0</td></tr><tr><td>P401</td><td>Novel</td><td>UNKNOWN</td><td>1900</td><td>1</td><td>1</td><td>3</td><td>45.0</td><td>45.0</td></tr><tr><td>P401</td><td>Novel</td><td>Books</td><td>1900</td><td>1</td><td>7</td><td>20</td><td>300.0</td><td>200.0</td></tr><tr><td>P401</td><td>Novel</td><td>Books</td><td>2023</td><td>1</td><td>1</td><td>2</td><td>30.0</td><td>0.0</td></tr><tr><td>P401</td><td>Novel</td><td>Books</td><td>2023</td><td>2</td><td>1</td><td>1</td><td>15.0</td><td>-5.0</td></tr><tr><td>P401</td><td>Novel</td><td>Books</td><td>2023</td><td>3</td><td>1</td><td>4</td><td>60.0</td><td>10.0</td></tr><tr><td>P401</td><td>Novel</td><td>Books</td><td>2023</td><td>6</td><td>1</td><td>1</td><td>15.0</td><td>15.0</td></tr><tr><td>P401</td><td>Novel</td><td>Books</td><td>2023</td><td>8</td><td>1</td><td>3</td><td>45.0</td><td>40.0</td></tr><tr><td>P401</td><td>Novel</td><td>Books</td><td>2023</td><td>10</td><td>3</td><td>4</td><td>60.0</td><td>-10.0</td></tr><tr><td>P401</td><td>UNKNOWN</td><td>Books</td><td>2023</td><td>10</td><td>1</td><td>3</td><td>45.0</td><td>40.0</td></tr><tr><td>P401</td><td>Novel</td><td>Books</td><td>2024</td><td>4</td><td>1</td><td>5</td><td>75.0</td><td>75.0</td></tr><tr><td>P401</td><td>Novel</td><td>Books</td><td>2024</td><td>6</td><td>1</td><td>4</td><td>60.0</td><td>60.0</td></tr><tr><td>P401</td><td>Novel</td><td>Books</td><td>2024</td><td>9</td><td>1</td><td>4</td><td>60.0</td><td>30.0</td></tr><tr><td>P401</td><td>Novel</td><td>Books</td><td>2024</td><td>11</td><td>2</td><td>7</td><td>105.0</td><td>95.0</td></tr><tr><td>P401</td><td>Novel</td><td>Books</td><td>2025</td><td>1</td><td>1</td><td>3</td><td>45.0</td><td>45.0</td></tr><tr><td>P401</td><td>Novel</td><td>Books</td><td>2025</td><td>3</td><td>1</td><td>4</td><td>60.0</td><td>30.0</td></tr><tr><td>P401</td><td>Novel</td><td>Books</td><td>2025</td><td>4</td><td>1</td><td>1</td><td>15.0</td><td>15.0</td></tr><tr><td>P401</td><td>Novel</td><td>Books</td><td>2025</td><td>6</td><td>1</td><td>4</td><td>60.0</td><td>60.0</td></tr><tr><td>P401</td><td>UNKNOWN</td><td>Books</td><td>2025</td><td>6</td><td>1</td><td>3</td><td>45.0</td><td>25.0</td></tr><tr><td>P401</td><td>Novel</td><td>Books</td><td>2025</td><td>8</td><td>3</td><td>13</td><td>195.0</td><td>135.0</td></tr><tr><td>P401</td><td>Novel</td><td>Books</td><td>2025</td><td>9</td><td>2</td><td>7</td><td>105.0</td><td>70.0</td></tr><tr><td>P401</td><td>Novel</td><td>Books</td><td>2025</td><td>12</td><td>1</td><td>4</td><td>60.0</td><td>30.0</td></tr><tr><td>P401</td><td>UNKNOWN</td><td>Books</td><td>2026</td><td>1</td><td>1</td><td>3</td><td>45.0</td><td>45.0</td></tr><tr><td>P401</td><td>Novel</td><td>Books</td><td>2026</td><td>2</td><td>1</td><td>3</td><td>45.0</td><td>15.0</td></tr><tr><td>P401</td><td>Novel</td><td>Books</td><td>2026</td><td>5</td><td>2</td><td>4</td><td>60.0</td><td>40.0</td></tr><tr><td>P401</td><td>Novel</td><td>Books</td><td>2026</td><td>8</td><td>2</td><td>4</td><td>60.0</td><td>30.0</td></tr><tr><td>P401</td><td>Novel</td><td>Books</td><td>2026</td><td>10</td><td>2</td><td>6</td><td>90.0</td><td>85.0</td></tr><tr><td>P401</td><td>Novel</td><td>Books</td><td>2026</td><td>11</td><td>2</td><td>8</td><td>120.0</td><td>70.0</td></tr><tr><td>P401</td><td>Novel</td><td>Books</td><td>2026</td><td>12</td><td>1</td><td>4</td><td>60.0</td><td>60.0</td></tr><tr><td>P402</td><td>Textbook</td><td>Books</td><td>1900</td><td>1</td><td>6</td><td>16</td><td>720.0</td><td>655.0</td></tr><tr><td>P402</td><td>Textbook</td><td>Books</td><td>2023</td><td>2</td><td>2</td><td>6</td><td>270.0</td><td>245.0</td></tr><tr><td>P402</td><td>Textbook</td><td>Books</td><td>2023</td><td>3</td><td>1</td><td>3</td><td>135.0</td><td>85.0</td></tr><tr><td>P402</td><td>Textbook</td><td>Books</td><td>2023</td><td>4</td><td>2</td><td>8</td><td>360.0</td><td>290.0</td></tr><tr><td>P402</td><td>Textbook</td><td>Books</td><td>2023</td><td>7</td><td>1</td><td>1</td><td>45.0</td><td>45.0</td></tr><tr><td>P402</td><td>Textbook</td><td>Books</td><td>2023</td><td>8</td><td>2</td><td>5</td><td>225.0</td><td>205.0</td></tr><tr><td>P402</td><td>Textbook</td><td>Books</td><td>2023</td><td>9</td><td>1</td><td>1</td><td>45.0</td><td>25.0</td></tr><tr><td>P402</td><td>Textbook</td><td>Books</td><td>2023</td><td>10</td><td>1</td><td>3</td><td>135.0</td><td>105.0</td></tr><tr><td>P402</td><td>Textbook</td><td>Books</td><td>2023</td><td>11</td><td>1</td><td>4</td><td>180.0</td><td>180.0</td></tr><tr><td>P402</td><td>Textbook</td><td>Books</td><td>2023</td><td>12</td><td>1</td><td>1</td><td>45.0</td><td>25.0</td></tr><tr><td>P402</td><td>Textbook</td><td>Books</td><td>2024</td><td>1</td><td>1</td><td>2</td><td>90.0</td><td>60.0</td></tr><tr><td>P402</td><td>Textbook</td><td>Books</td><td>2024</td><td>4</td><td>1</td><td>3</td><td>135.0</td><td>115.0</td></tr><tr><td>P402</td><td>Textbook</td><td>Books</td><td>2024</td><td>5</td><td>1</td><td>3</td><td>135.0</td><td>105.0</td></tr><tr><td>P402</td><td>Textbook</td><td>UNKNOWN</td><td>2024</td><td>7</td><td>1</td><td>1</td><td>45.0</td><td>40.0</td></tr><tr><td>P402</td><td>Textbook</td><td>Books</td><td>2024</td><td>8</td><td>1</td><td>4</td><td>180.0</td><td>150.0</td></tr><tr><td>P402</td><td>Textbook</td><td>Books</td><td>2024</td><td>11</td><td>2</td><td>5</td><td>225.0</td><td>210.0</td></tr><tr><td>P402</td><td>Textbook</td><td>Books</td><td>2024</td><td>12</td><td>3</td><td>7</td><td>315.0</td><td>265.0</td></tr><tr><td>P402</td><td>Textbook</td><td>Books</td><td>2025</td><td>4</td><td>2</td><td>2</td><td>90.0</td><td>85.0</td></tr><tr><td>P402</td><td>Textbook</td><td>Books</td><td>2025</td><td>5</td><td>1</td><td>4</td><td>180.0</td><td>150.0</td></tr><tr><td>P402</td><td>Textbook</td><td>Books</td><td>2025</td><td>6</td><td>1</td><td>1</td><td>45.0</td><td>25.0</td></tr><tr><td>P402</td><td>Textbook</td><td>UNKNOWN</td><td>2025</td><td>7</td><td>1</td><td>4</td><td>180.0</td><td>170.0</td></tr><tr><td>P402</td><td>Textbook</td><td>Books</td><td>2025</td><td>7</td><td>1</td><td>2</td><td>90.0</td><td>90.0</td></tr><tr><td>P402</td><td>Textbook</td><td>Books</td><td>2025</td><td>10</td><td>1</td><td>4</td><td>180.0</td><td>170.0</td></tr><tr><td>P402</td><td>Textbook</td><td>Books</td><td>2025</td><td>11</td><td>1</td><td>1</td><td>45.0</td><td>35.0</td></tr><tr><td>P402</td><td>Textbook</td><td>Books</td><td>2025</td><td>12</td><td>1</td><td>4</td><td>180.0</td><td>150.0</td></tr><tr><td>P402</td><td>Textbook</td><td>Books</td><td>2026</td><td>1</td><td>1</td><td>2</td><td>90.0</td><td>80.0</td></tr><tr><td>P402</td><td>Textbook</td><td>Books</td><td>2026</td><td>7</td><td>1</td><td>3</td><td>135.0</td><td>135.0</td></tr><tr><td>P402</td><td>Textbook</td><td>Books</td><td>2026</td><td>8</td><td>1</td><td>3</td><td>135.0</td><td>115.0</td></tr><tr><td>P402</td><td>Textbook</td><td>Books</td><td>2026</td><td>9</td><td>1</td><td>1</td><td>45.0</td><td>40.0</td></tr><tr><td>P402</td><td>Textbook</td><td>Books</td><td>2026</td><td>10</td><td>1</td><td>5</td><td>247.5</td><td>227.5</td></tr><tr><td>P402</td><td>Textbook</td><td>Books</td><td>2026</td><td>12</td><td>1</td><td>3</td><td>135.0</td><td>135.0</td></tr><tr><td>P403</td><td>Magazine</td><td>Books</td><td>1900</td><td>1</td><td>7</td><td>17</td><td>170.0</td><td>85.0</td></tr><tr><td>P403</td><td>Magazine</td><td>Books</td><td>2023</td><td>1</td><td>1</td><td>5</td><td>50.0</td><td>30.0</td></tr><tr><td>P403</td><td>Magazine</td><td>Books</td><td>2023</td><td>3</td><td>1</td><td>5</td><td>50.0</td><td>30.0</td></tr><tr><td>P403</td><td>Magazine</td><td>Books</td><td>2023</td><td>4</td><td>1</td><td>5</td><td>50.0</td><td>0.0</td></tr><tr><td>P403</td><td>Magazine</td><td>Books</td><td>2023</td><td>5</td><td>1</td><td>1</td><td>10.0</td><td>-10.0</td></tr><tr><td>P403</td><td>Magazine</td><td>Books</td><td>2023</td><td>8</td><td>1</td><td>3</td><td>30.0</td><td>-20.0</td></tr><tr><td>P403</td><td>Magazine</td><td>Books</td><td>2023</td><td>9</td><td>2</td><td>8</td><td>80.0</td><td>80.0</td></tr><tr><td>P403</td><td>Magazine</td><td>Books</td><td>2023</td><td>11</td><td>1</td><td>3</td><td>30.0</td><td>30.0</td></tr><tr><td>P403</td><td>UNKNOWN</td><td>Books</td><td>2023</td><td>12</td><td>1</td><td>2</td><td>20.0</td><td>15.0</td></tr><tr><td>P403</td><td>Magazine</td><td>UNKNOWN</td><td>2024</td><td>2</td><td>1</td><td>5</td><td>50.0</td><td>50.0</td></tr><tr><td>P403</td><td>Magazine</td><td>Books</td><td>2024</td><td>3</td><td>1</td><td>1</td><td>10.0</td><td>0.0</td></tr><tr><td>P403</td><td>Magazine</td><td>Books</td><td>2024</td><td>4</td><td>1</td><td>1</td><td>10.0</td><td>10.0</td></tr><tr><td>P403</td><td>Magazine</td><td>Books</td><td>2024</td><td>5</td><td>2</td><td>3</td><td>30.0</td><td>25.0</td></tr><tr><td>P403</td><td>Magazine</td><td>Books</td><td>2024</td><td>7</td><td>1</td><td>4</td><td>40.0</td><td>30.0</td></tr><tr><td>P403</td><td>Magazine</td><td>Books</td><td>2024</td><td>8</td><td>1</td><td>2</td><td>20.0</td><td>0.0</td></tr><tr><td>P403</td><td>UNKNOWN</td><td>Books</td><td>2024</td><td>8</td><td>1</td><td>1</td><td>10.0</td><td>-10.0</td></tr><tr><td>P403</td><td>Magazine</td><td>Books</td><td>2024</td><td>9</td><td>2</td><td>4</td><td>40.0</td><td>35.0</td></tr><tr><td>P403</td><td>Magazine</td><td>Books</td><td>2024</td><td>10</td><td>1</td><td>3</td><td>30.0</td><td>20.0</td></tr><tr><td>P403</td><td>Magazine</td><td>Books</td><td>2025</td><td>5</td><td>1</td><td>1</td><td>10.0</td><td>0.0</td></tr><tr><td>P403</td><td>Magazine</td><td>Books</td><td>2025</td><td>6</td><td>1</td><td>3</td><td>30.0</td><td>30.0</td></tr><tr><td>P403</td><td>Magazine</td><td>Books</td><td>2025</td><td>8</td><td>2</td><td>3</td><td>30.0</td><td>5.0</td></tr><tr><td>P403</td><td>Magazine</td><td>Books</td><td>2025</td><td>10</td><td>1</td><td>1</td><td>10.0</td><td>5.0</td></tr><tr><td>P403</td><td>Magazine</td><td>Books</td><td>2025</td><td>11</td><td>1</td><td>2</td><td>20.0</td><td>20.0</td></tr><tr><td>P403</td><td>Magazine</td><td>Books</td><td>2025</td><td>12</td><td>1</td><td>2</td><td>20.0</td><td>-10.0</td></tr><tr><td>P403</td><td>Magazine</td><td>Books</td><td>2026</td><td>2</td><td>1</td><td>3</td><td>30.0</td><td>10.0</td></tr><tr><td>P403</td><td>Magazine</td><td>Books</td><td>2026</td><td>3</td><td>1</td><td>4</td><td>40.0</td><td>20.0</td></tr><tr><td>P403</td><td>Magazine</td><td>Books</td><td>2026</td><td>4</td><td>1</td><td>4</td><td>40.0</td><td>40.0</td></tr><tr><td>P403</td><td>Magazine</td><td>Books</td><td>2026</td><td>6</td><td>1</td><td>2</td><td>20.0</td><td>20.0</td></tr><tr><td>P403</td><td>Magazine</td><td>Books</td><td>2026</td><td>7</td><td>1</td><td>3</td><td>30.0</td><td>30.0</td></tr><tr><td>P403</td><td>Magazine</td><td>Books</td><td>2026</td><td>8</td><td>2</td><td>4</td><td>40.0</td><td>10.0</td></tr><tr><td>P403</td><td>Magazine</td><td>Books</td><td>2026</td><td>9</td><td>1</td><td>2</td><td>20.0</td><td>-10.0</td></tr><tr><td>P403</td><td>Magazine</td><td>Books</td><td>2026</td><td>10</td><td>1</td><td>3</td><td>30.0</td><td>30.0</td></tr><tr><td>P403</td><td>Magazine</td><td>Books</td><td>2026</td><td>11</td><td>1</td><td>3</td><td>30.0</td><td>30.0</td></tr><tr><td>P404</td><td>Notebook</td><td>Books</td><td>1900</td><td>1</td><td>6</td><td>13</td><td>65.0</td><td>40.0</td></tr><tr><td>P404</td><td>Notebook</td><td>Books</td><td>2023</td><td>1</td><td>2</td><td>5</td><td>25.0</td><td>-5.0</td></tr><tr><td>P404</td><td>Notebook</td><td>Books</td><td>2023</td><td>3</td><td>2</td><td>3</td><td>15.0</td><td>-40.0</td></tr><tr><td>P404</td><td>Notebook</td><td>Books</td><td>2023</td><td>4</td><td>2</td><td>7</td><td>35.0</td><td>-15.0</td></tr><tr><td>P404</td><td>Notebook</td><td>Books</td><td>2023</td><td>5</td><td>1</td><td>4</td><td>20.0</td><td>20.0</td></tr><tr><td>P404</td><td>Notebook</td><td>Books</td><td>2023</td><td>6</td><td>1</td><td>1</td><td>5.0</td><td>5.0</td></tr><tr><td>P404</td><td>Notebook</td><td>Books</td><td>2023</td><td>7</td><td>1</td><td>2</td><td>10.0</td><td>10.0</td></tr><tr><td>P404</td><td>Notebook</td><td>Books</td><td>2023</td><td>9</td><td>1</td><td>1</td><td>5.0</td><td>5.0</td></tr><tr><td>P404</td><td>Notebook</td><td>Books</td><td>2023</td><td>10</td><td>2</td><td>6</td><td>30.0</td><td>-10.0</td></tr><tr><td>P404</td><td>Notebook</td><td>Books</td><td>2023</td><td>11</td><td>1</td><td>1</td><td>5.0</td><td>5.0</td></tr><tr><td>P404</td><td>Notebook</td><td>Books</td><td>2023</td><td>12</td><td>2</td><td>9</td><td>45.0</td><td>40.0</td></tr><tr><td>P404</td><td>Notebook</td><td>Books</td><td>2024</td><td>1</td><td>2</td><td>5</td><td>25.0</td><td>-25.0</td></tr><tr><td>P404</td><td>Notebook</td><td>Books</td><td>2024</td><td>4</td><td>2</td><td>6</td><td>30.0</td><td>-25.0</td></tr><tr><td>P404</td><td>Notebook</td><td>Books</td><td>2024</td><td>5</td><td>2</td><td>6</td><td>30.0</td><td>30.0</td></tr><tr><td>P404</td><td>UNKNOWN</td><td>Books</td><td>2024</td><td>6</td><td>1</td><td>5</td><td>25.0</td><td>25.0</td></tr><tr><td>P404</td><td>Notebook</td><td>Books</td><td>2024</td><td>6</td><td>2</td><td>4</td><td>20.0</td><td>-30.0</td></tr><tr><td>P404</td><td>Notebook</td><td>Books</td><td>2024</td><td>8</td><td>2</td><td>7</td><td>35.0</td><td>-45.0</td></tr><tr><td>P404</td><td>Notebook</td><td>Books</td><td>2024</td><td>9</td><td>1</td><td>1</td><td>5.0</td><td>-45.0</td></tr><tr><td>P404</td><td>Notebook</td><td>Books</td><td>2024</td><td>10</td><td>2</td><td>4</td><td>20.0</td><td>20.0</td></tr><tr><td>P404</td><td>Notebook</td><td>Books</td><td>2024</td><td>11</td><td>1</td><td>1</td><td>5.0</td><td>-25.0</td></tr><tr><td>P404</td><td>Notebook</td><td>Books</td><td>2024</td><td>12</td><td>1</td><td>4</td><td>20.0</td><td>-30.0</td></tr><tr><td>P404</td><td>Notebook</td><td>Books</td><td>2025</td><td>2</td><td>1</td><td>2</td><td>10.0</td><td>-20.0</td></tr><tr><td>P404</td><td>Notebook</td><td>Books</td><td>2025</td><td>4</td><td>1</td><td>1</td><td>5.0</td><td>-25.0</td></tr><tr><td>P404</td><td>Notebook</td><td>Books</td><td>2025</td><td>5</td><td>2</td><td>4</td><td>20.0</td><td>-20.0</td></tr><tr><td>P404</td><td>Notebook</td><td>Books</td><td>2025</td><td>8</td><td>4</td><td>9</td><td>47.0</td><td>22.0</td></tr><tr><td>P404</td><td>Notebook</td><td>Books</td><td>2025</td><td>9</td><td>1</td><td>2</td><td>10.0</td><td>5.0</td></tr><tr><td>P404</td><td>Notebook</td><td>Books</td><td>2025</td><td>10</td><td>1</td><td>4</td><td>20.0</td><td>20.0</td></tr><tr><td>P404</td><td>Notebook</td><td>UNKNOWN</td><td>2025</td><td>11</td><td>1</td><td>1</td><td>5.0</td><td>5.0</td></tr><tr><td>P404</td><td>Notebook</td><td>Books</td><td>2025</td><td>11</td><td>1</td><td>3</td><td>15.0</td><td>15.0</td></tr><tr><td>P404</td><td>UNKNOWN</td><td>Books</td><td>2025</td><td>12</td><td>1</td><td>5</td><td>25.0</td><td>25.0</td></tr><tr><td>P404</td><td>Notebook</td><td>Books</td><td>2026</td><td>1</td><td>3</td><td>9</td><td>45.0</td><td>-30.0</td></tr><tr><td>P404</td><td>Notebook</td><td>Books</td><td>2026</td><td>4</td><td>1</td><td>2</td><td>10.0</td><td>5.0</td></tr><tr><td>P404</td><td>Notebook</td><td>Books</td><td>2026</td><td>5</td><td>2</td><td>5</td><td>23.0</td><td>-27.0</td></tr><tr><td>P404</td><td>Notebook</td><td>Books</td><td>2026</td><td>6</td><td>1</td><td>3</td><td>15.0</td><td>5.0</td></tr><tr><td>P404</td><td>Notebook</td><td>Books</td><td>2026</td><td>7</td><td>1</td><td>2</td><td>10.0</td><td>0.0</td></tr><tr><td>P404</td><td>Notebook</td><td>Books</td><td>2026</td><td>8</td><td>1</td><td>1</td><td>5.0</td><td>-5.0</td></tr><tr><td>P404</td><td>Notebook</td><td>Books</td><td>2026</td><td>10</td><td>1</td><td>2</td><td>10.0</td><td>-40.0</td></tr><tr><td>P404</td><td>Notebook</td><td>Books</td><td>2026</td><td>11</td><td>2</td><td>3</td><td>15.0</td><td>-25.0</td></tr><tr><td>P404</td><td>Notebook</td><td>Books</td><td>2026</td><td>12</td><td>1</td><td>2</td><td>10.0</td><td>0.0</td></tr></tbody></table></div>"
      ]
     },
     "metadata": {
      "application/vnd.databricks.v1+output": {
       "addedWidgets": {},
       "aggData": [],
       "aggError": "",
       "aggOverflow": false,
       "aggSchema": [],
       "aggSeriesLimitReached": false,
       "aggType": "",
       "arguments": {},
       "columnCustomDisplayInfos": {},
       "data": [
        [
         "P101",
         "iPhone 13",
         "Electronics",
         1900,
         1,
         3,
         6,
         4800.0,
         4775.0
        ],
        [
         "P101",
         "iPhone 13",
         "Electronics",
         2023,
         1,
         1,
         4,
         3200.0,
         3170.0
        ],
        [
         "P101",
         "iPhone 13",
         "Electronics",
         2023,
         3,
         1,
         3,
         2400.0,
         2400.0
        ],
        [
         "P101",
         "iPhone 13",
         "Electronics",
         2023,
         9,
         1,
         2,
         1600.0,
         1595.0
        ],
        [
         "P101",
         "iPhone 13",
         "Electronics",
         2023,
         10,
         1,
         3,
         2400.0,
         2350.0
        ],
        [
         "P101",
         "iPhone 13",
         "Electronics",
         2024,
         2,
         1,
         5,
         4000.0,
         3990.0
        ],
        [
         "P101",
         "iPhone 13",
         "Electronics",
         2024,
         3,
         2,
         4,
         3200.0,
         3180.0
        ],
        [
         "P101",
         "iPhone 13",
         "Electronics",
         2024,
         6,
         1,
         2,
         1600.0,
         1550.0
        ],
        [
         "P101",
         "iPhone 13",
         "Electronics",
         2024,
         8,
         1,
         2,
         1600.0,
         1595.0
        ],
        [
         "P101",
         "iPhone 13",
         "Electronics",
         2024,
         9,
         1,
         5,
         4000.0,
         4000.0
        ],
        [
         "P101",
         "iPhone 13",
         "Electronics",
         2024,
         11,
         3,
         10,
         8240.0,
         8205.0
        ],
        [
         "P101",
         "iPhone 13",
         "Electronics",
         2025,
         1,
         1,
         3,
         2400.0,
         2400.0
        ],
        [
         "P101",
         "iPhone 13",
         "Electronics",
         2025,
         2,
         1,
         1,
         800.0,
         770.0
        ],
        [
         "P101",
         "iPhone 13",
         "Electronics",
         2025,
         3,
         1,
         1,
         800.0,
         780.0
        ],
        [
         "P101",
         "iPhone 13",
         "Electronics",
         2025,
         4,
         1,
         3,
         2400.0,
         2380.0
        ],
        [
         "P101",
         "iPhone 13",
         "Electronics",
         2026,
         4,
         1,
         4,
         3200.0,
         3200.0
        ],
        [
         "P101",
         "iPhone 13",
         "Electronics",
         2026,
         5,
         2,
         5,
         4000.0,
         3975.0
        ],
        [
         "P101",
         "UNKNOWN",
         "UNKNOWN",
         2026,
         6,
         1,
         1,
         800.0,
         800.0
        ],
        [
         "P101",
         "iPhone 13",
         "Electronics",
         2026,
         7,
         3,
         10,
         8000.0,
         7935.0
        ],
        [
         "P101",
         "iPhone 13",
         "Electronics",
         2026,
         8,
         5,
         10,
         8000.0,
         7930.0
        ],
        [
         "P101",
         "iPhone 13",
         "Electronics",
         2026,
         11,
         1,
         3,
         2400.0,
         2395.0
        ],
        [
         "P101",
         "iPhone 13",
         "Electronics",
         2026,
         12,
         1,
         3,
         2400.0,
         2400.0
        ],
        [
         "P102",
         "Samsung Galaxy",
         "Electronics",
         1900,
         1,
         1,
         3,
         2100.0,
         2090.0
        ],
        [
         "P102",
         "UNKNOWN",
         "Electronics",
         1900,
         1,
         1,
         5,
         3500.0,
         3480.0
        ],
        [
         "P102",
         "Samsung Galaxy",
         "Electronics",
         2023,
         1,
         2,
         7,
         4900.0,
         4830.0
        ],
        [
         "P102",
         "Samsung Galaxy",
         "Electronics",
         2023,
         3,
         1,
         3,
         2100.0,
         2100.0
        ],
        [
         "P102",
         "Samsung Galaxy",
         "Electronics",
         2023,
         4,
         2,
         2,
         1400.0,
         1400.0
        ],
        [
         "P102",
         "Samsung Galaxy",
         "Electronics",
         2023,
         5,
         1,
         2,
         1400.0,
         1400.0
        ],
        [
         "P102",
         "Samsung Galaxy",
         "Electronics",
         2023,
         6,
         1,
         4,
         2800.0,
         2795.0
        ],
        [
         "P102",
         "Samsung Galaxy",
         "Electronics",
         2023,
         8,
         1,
         2,
         1400.0,
         1380.0
        ],
        [
         "P102",
         "Samsung Galaxy",
         "Electronics",
         2023,
         11,
         2,
         9,
         6300.0,
         6280.0
        ],
        [
         "P102",
         "Samsung Galaxy",
         "Electronics",
         2024,
         1,
         1,
         5,
         3500.0,
         3500.0
        ],
        [
         "P102",
         "Samsung Galaxy",
         "Electronics",
         2024,
         2,
         2,
         6,
         4200.0,
         4160.0
        ],
        [
         "P102",
         "Samsung Galaxy",
         "Electronics",
         2024,
         6,
         2,
         6,
         4200.0,
         4190.0
        ],
        [
         "P102",
         "UNKNOWN",
         "Electronics",
         2024,
         6,
         1,
         2,
         1400.0,
         1350.0
        ],
        [
         "P102",
         "Samsung Galaxy",
         "Electronics",
         2024,
         7,
         1,
         3,
         2100.0,
         2100.0
        ],
        [
         "P102",
         "Samsung Galaxy",
         "Electronics",
         2024,
         9,
         2,
         9,
         6300.0,
         6245.0
        ],
        [
         "P102",
         "Samsung Galaxy",
         "Electronics",
         2024,
         10,
         1,
         4,
         2800.0,
         2800.0
        ],
        [
         "P102",
         "Samsung Galaxy",
         "Electronics",
         2024,
         11,
         1,
         2,
         1400.0,
         1350.0
        ],
        [
         "P102",
         "Samsung Galaxy",
         "Electronics",
         2024,
         12,
         1,
         1,
         700.0,
         690.0
        ],
        [
         "P102",
         "Samsung Galaxy",
         "Electronics",
         2025,
         2,
         2,
         6,
         4200.0,
         4160.0
        ],
        [
         "P102",
         "Samsung Galaxy",
         "Electronics",
         2025,
         3,
         1,
         2,
         1400.0,
         1390.0
        ],
        [
         "P102",
         "UNKNOWN",
         "Electronics",
         2025,
         6,
         1,
         3,
         2100.0,
         2100.0
        ],
        [
         "P102",
         "Samsung Galaxy",
         "Electronics",
         2025,
         8,
         1,
         5,
         3500.0,
         3470.0
        ],
        [
         "P102",
         "Samsung Galaxy",
         "Electronics",
         2025,
         9,
         1,
         1,
         700.0,
         700.0
        ],
        [
         "P102",
         "Samsung Galaxy",
         "Electronics",
         2025,
         11,
         1,
         1,
         700.0,
         670.0
        ],
        [
         "P102",
         "Samsung Galaxy",
         "Electronics",
         2026,
         2,
         3,
         5,
         3500.0,
         3465.0
        ],
        [
         "P102",
         "Samsung Galaxy",
         "Electronics",
         2026,
         3,
         3,
         6,
         4200.0,
         4135.0
        ],
        [
         "P102",
         "Samsung Galaxy",
         "Electronics",
         2026,
         5,
         2,
         7,
         4900.0,
         4890.0
        ],
        [
         "P102",
         "Samsung Galaxy",
         "Electronics",
         2026,
         6,
         1,
         2,
         1400.0,
         1390.0
        ],
        [
         "P102",
         "Samsung Galaxy",
         "Electronics",
         2026,
         8,
         1,
         4,
         2800.0,
         2800.0
        ],
        [
         "P102",
         "Samsung Galaxy",
         "Electronics",
         2026,
         11,
         1,
         3,
         2100.0,
         2070.0
        ],
        [
         "P103",
         "Noise Headphones",
         "Electronics",
         1900,
         1,
         4,
         13,
         1560.0,
         1535.0
        ],
        [
         "P103",
         "UNKNOWN",
         "Electronics",
         1900,
         1,
         1,
         4,
         480.0,
         450.0
        ],
        [
         "P103",
         "Noise Headphones",
         "Electronics",
         2023,
         1,
         4,
         12,
         1440.0,
         1380.0
        ],
        [
         "P103",
         "Noise Headphones",
         "Electronics",
         2023,
         2,
         1,
         1,
         120.0,
         120.0
        ],
        [
         "P103",
         "Noise Headphones",
         "Electronics",
         2023,
         6,
         2,
         5,
         588.0,
         578.0
        ],
        [
         "P103",
         "Noise Headphones",
         "Electronics",
         2023,
         10,
         2,
         4,
         456.0,
         436.0
        ],
        [
         "P103",
         "Noise Headphones",
         "Electronics",
         2023,
         11,
         1,
         3,
         360.0,
         360.0
        ],
        [
         "P103",
         "Noise Headphones",
         "Electronics",
         2024,
         2,
         1,
         4,
         480.0,
         480.0
        ],
        [
         "P103",
         "Noise Headphones",
         "Electronics",
         2024,
         3,
         2,
         6,
         720.0,
         650.0
        ],
        [
         "P103",
         "Noise Headphones",
         "UNKNOWN",
         2024,
         3,
         2,
         5,
         636.0,
         626.0
        ],
        [
         "P103",
         "Noise Headphones",
         "Electronics",
         2024,
         4,
         1,
         1,
         120.0,
         115.0
        ],
        [
         "P103",
         "Noise Headphones",
         "Electronics",
         2024,
         5,
         1,
         3,
         360.0,
         330.0
        ],
        [
         "P103",
         "Noise Headphones",
         "Electronics",
         2024,
         8,
         1,
         4,
         480.0,
         480.0
        ],
        [
         "P103",
         "Noise Headphones",
         "Electronics",
         2024,
         9,
         1,
         1,
         120.0,
         90.0
        ],
        [
         "P103",
         "Noise Headphones",
         "Electronics",
         2024,
         10,
         1,
         2,
         240.0,
         210.0
        ],
        [
         "P103",
         "Noise Headphones",
         "Electronics",
         2024,
         11,
         1,
         5,
         600.0,
         595.0
        ],
        [
         "P103",
         "Noise Headphones",
         "Electronics",
         2025,
         2,
         1,
         1,
         120.0,
         90.0
        ],
        [
         "P103",
         "Noise Headphones",
         "Electronics",
         2025,
         5,
         2,
         7,
         840.0,
         790.0
        ],
        [
         "P103",
         "Noise Headphones",
         "Electronics",
         2025,
         7,
         1,
         4,
         480.0,
         480.0
        ],
        [
         "P103",
         "Noise Headphones",
         "Electronics",
         2025,
         9,
         1,
         5,
         600.0,
         580.0
        ],
        [
         "P103",
         "Noise Headphones",
         "Electronics",
         2025,
         10,
         1,
         2,
         240.0,
         220.0
        ],
        [
         "P103",
         "Noise Headphones",
         "Electronics",
         2025,
         11,
         1,
         4,
         480.0,
         480.0
        ],
        [
         "P103",
         "Noise Headphones",
         "Electronics",
         2025,
         12,
         1,
         1,
         120.0,
         100.0
        ],
        [
         "P103",
         "Noise Headphones",
         "Electronics",
         2026,
         3,
         1,
         2,
         240.0,
         210.0
        ],
        [
         "P103",
         "Noise Headphones",
         "Electronics",
         2026,
         4,
         1,
         1,
         120.0,
         70.0
        ],
        [
         "P103",
         "Noise Headphones",
         "Electronics",
         2026,
         6,
         2,
         4,
         504.0,
         474.0
        ],
        [
         "P103",
         "Noise Headphones",
         "Electronics",
         2026,
         7,
         1,
         1,
         120.0,
         90.0
        ],
        [
         "P103",
         "Noise Headphones",
         "Electronics",
         2026,
         8,
         1,
         1,
         120.0,
         100.0
        ],
        [
         "P103",
         "Noise Headphones",
         "Electronics",
         2026,
         10,
         1,
         3,
         360.0,
         310.0
        ],
        [
         "P104",
         "Apple Watch",
         "Electronics",
         1900,
         1,
         2,
         4,
         1400.0,
         1385.0
        ],
        [
         "P104",
         "Apple Watch",
         "Electronics",
         2023,
         2,
         2,
         9,
         3150.0,
         3100.0
        ],
        [
         "P104",
         "Apple Watch",
         "Electronics",
         2023,
         4,
         1,
         5,
         1750.0,
         1730.0
        ],
        [
         "P104",
         "UNKNOWN",
         "Electronics",
         2023,
         7,
         1,
         2,
         700.0,
         650.0
        ],
        [
         "P104",
         "Apple Watch",
         "Electronics",
         2023,
         7,
         1,
         1,
         350.0,
         350.0
        ],
        [
         "P104",
         "Apple Watch",
         "Electronics",
         2023,
         8,
         1,
         5,
         1750.0,
         1720.0
        ],
        [
         "P104",
         "Apple Watch",
         "Electronics",
         2023,
         12,
         1,
         3,
         1050.0,
         1045.0
        ],
        [
         "P104",
         "Apple Watch",
         "Electronics",
         2024,
         8,
         1,
         4,
         1400.0,
         1400.0
        ],
        [
         "P104",
         "Apple Watch",
         "Electronics",
         2024,
         11,
         1,
         1,
         350.0,
         340.0
        ],
        [
         "P104",
         "Apple Watch",
         "Electronics",
         2025,
         1,
         1,
         1,
         350.0,
         340.0
        ],
        [
         "P104",
         "Apple Watch",
         "Electronics",
         2025,
         2,
         1,
         1,
         350.0,
         345.0
        ],
        [
         "P104",
         "Apple Watch",
         "Electronics",
         2025,
         7,
         2,
         6,
         2170.0,
         2170.0
        ],
        [
         "P104",
         "Apple Watch",
         "Electronics",
         2025,
         9,
         1,
         4,
         1400.0,
         1390.0
        ],
        [
         "P104",
         "Apple Watch",
         "Electronics",
         2026,
         3,
         1,
         5,
         1750.0,
         1745.0
        ],
        [
         "P104",
         "Apple Watch",
         "Electronics",
         2026,
         4,
         1,
         1,
         350.0,
         340.0
        ],
        [
         "P104",
         "Apple Watch",
         "Electronics",
         2026,
         5,
         1,
         1,
         350.0,
         350.0
        ],
        [
         "P104",
         "Apple Watch",
         "Electronics",
         2026,
         6,
         2,
         7,
         2450.0,
         2390.0
        ],
        [
         "P201",
         "Jeans",
         "Clothing",
         1900,
         1,
         4,
         9,
         360.0,
         245.0
        ],
        [
         "P201",
         "Jeans",
         "Clothing",
         2023,
         1,
         4,
         11,
         440.0,
         415.0
        ],
        [
         "P201",
         "Jeans",
         "Clothing",
         2023,
         5,
         1,
         3,
         120.0,
         90.0
        ],
        [
         "P201",
         "Jeans",
         "Clothing",
         2023,
         6,
         1,
         1,
         40.0,
         35.0
        ],
        [
         "P201",
         "Jeans",
         "Clothing",
         2023,
         7,
         1,
         2,
         80.0,
         80.0
        ],
        [
         "P201",
         "UNKNOWN",
         "Clothing",
         2023,
         9,
         1,
         3,
         120.0,
         90.0
        ],
        [
         "P201",
         "Jeans",
         "Clothing",
         2023,
         10,
         1,
         2,
         80.0,
         50.0
        ],
        [
         "P201",
         "Jeans",
         "Clothing",
         2023,
         11,
         1,
         1,
         40.0,
         40.0
        ],
        [
         "P201",
         "Jeans",
         "Clothing",
         2024,
         1,
         1,
         4,
         160.0,
         160.0
        ],
        [
         "P201",
         "Jeans",
         "Clothing",
         2024,
         2,
         2,
         5,
         200.0,
         190.0
        ],
        [
         "P201",
         "Jeans",
         "Clothing",
         2024,
         5,
         1,
         4,
         176.0,
         166.0
        ],
        [
         "P201",
         "Jeans",
         "Clothing",
         2024,
         6,
         3,
         10,
         400.0,
         390.0
        ],
        [
         "P201",
         "Jeans",
         "Clothing",
         2024,
         7,
         1,
         1,
         40.0,
         -10.0
        ],
        [
         "P201",
         "Jeans",
         "Clothing",
         2025,
         2,
         3,
         12,
         480.0,
         450.0
        ],
        [
         "P201",
         "Jeans",
         "Clothing",
         2025,
         3,
         1,
         1,
         40.0,
         40.0
        ],
        [
         "P201",
         "UNKNOWN",
         "Clothing",
         2025,
         6,
         1,
         2,
         80.0,
         80.0
        ],
        [
         "P201",
         "Jeans",
         "Clothing",
         2025,
         8,
         1,
         1,
         40.0,
         10.0
        ],
        [
         "P201",
         "Jeans",
         "Clothing",
         2025,
         11,
         1,
         3,
         120.0,
         70.0
        ],
        [
         "P201",
         "Jeans",
         "Clothing",
         2026,
         5,
         1,
         5,
         200.0,
         190.0
        ],
        [
         "P201",
         "Jeans",
         "Clothing",
         2026,
         8,
         1,
         4,
         160.0,
         130.0
        ],
        [
         "P201",
         "Jeans",
         "Clothing",
         2026,
         11,
         2,
         7,
         280.0,
         270.0
        ],
        [
         "P202",
         "T-shirt",
         "Clothing",
         2023,
         1,
         2,
         6,
         120.0,
         70.0
        ],
        [
         "P202",
         "T-shirt",
         "Clothing",
         2023,
         2,
         1,
         4,
         80.0,
         70.0
        ],
        [
         "P202",
         "T-shirt",
         "Clothing",
         2023,
         4,
         1,
         2,
         40.0,
         20.0
        ],
        [
         "P202",
         "T-shirt",
         "Clothing",
         2023,
         6,
         1,
         4,
         80.0,
         70.0
        ],
        [
         "P202",
         "T-shirt",
         "Clothing",
         2024,
         1,
         1,
         3,
         60.0,
         55.0
        ],
        [
         "P202",
         "T-shirt",
         "Clothing",
         2024,
         5,
         1,
         4,
         72.0,
         67.0
        ],
        [
         "P202",
         "T-shirt",
         "Clothing",
         2024,
         7,
         1,
         2,
         40.0,
         20.0
        ],
        [
         "P202",
         "UNKNOWN",
         "Clothing",
         2024,
         11,
         1,
         1,
         20.0,
         0.0
        ],
        [
         "P202",
         "T-shirt",
         "Clothing",
         2025,
         2,
         1,
         2,
         40.0,
         35.0
        ],
        [
         "P202",
         "T-shirt",
         "Clothing",
         2025,
         3,
         1,
         5,
         100.0,
         70.0
        ],
        [
         "P202",
         "T-shirt",
         "Clothing",
         2025,
         4,
         1,
         2,
         40.0,
         -10.0
        ],
        [
         "P202",
         "T-shirt",
         "Clothing",
         2025,
         5,
         1,
         4,
         80.0,
         30.0
        ],
        [
         "P202",
         "T-shirt",
         "Clothing",
         2025,
         6,
         2,
         8,
         160.0,
         130.0
        ],
        [
         "P202",
         "T-shirt",
         "Clothing",
         2025,
         9,
         1,
         1,
         20.0,
         15.0
        ],
        [
         "P202",
         "T-shirt",
         "Clothing",
         2025,
         11,
         1,
         3,
         60.0,
         10.0
        ],
        [
         "P202",
         "T-shirt",
         "Clothing",
         2026,
         2,
         1,
         1,
         20.0,
         15.0
        ],
        [
         "P202",
         "T-shirt",
         "UNKNOWN",
         2026,
         3,
         1,
         3,
         60.0,
         30.0
        ],
        [
         "P202",
         "T-shirt",
         "Clothing",
         2026,
         4,
         1,
         4,
         80.0,
         75.0
        ],
        [
         "P202",
         "T-shirt",
         "Clothing",
         2026,
         7,
         2,
         7,
         140.0,
         120.0
        ],
        [
         "P202",
         "T-shirt",
         "Clothing",
         2026,
         9,
         1,
         4,
         80.0,
         80.0
        ],
        [
         "P202",
         "T-shirt",
         "Clothing",
         2026,
         10,
         1,
         1,
         20.0,
         -10.0
        ],
        [
         "P203",
         "Jacket",
         "Clothing",
         1900,
         1,
         6,
         19,
         1140.0,
         1035.0
        ],
        [
         "P203",
         "Jacket",
         "Clothing",
         2023,
         1,
         1,
         4,
         240.0,
         240.0
        ],
        [
         "P203",
         "Jacket",
         "Clothing",
         2023,
         3,
         1,
         2,
         120.0,
         120.0
        ],
        [
         "P203",
         "Jacket",
         "Clothing",
         2023,
         6,
         2,
         5,
         300.0,
         300.0
        ],
        [
         "P203",
         "Jacket",
         "UNKNOWN",
         2023,
         7,
         1,
         4,
         240.0,
         240.0
        ],
        [
         "P203",
         "Jacket",
         "Clothing",
         2023,
         12,
         1,
         3,
         180.0,
         170.0
        ],
        [
         "P203",
         "Jacket",
         "Clothing",
         2024,
         1,
         2,
         8,
         480.0,
         465.0
        ],
        [
         "P203",
         "Jacket",
         "Clothing",
         2024,
         2,
         1,
         5,
         300.0,
         300.0
        ],
        [
         "P203",
         "Jacket",
         "Clothing",
         2024,
         4,
         1,
         2,
         120.0,
         120.0
        ],
        [
         "P203",
         "Jacket",
         "Clothing",
         2024,
         5,
         1,
         4,
         240.0,
         220.0
        ],
        [
         "P203",
         "Jacket",
         "Clothing",
         2024,
         6,
         1,
         1,
         60.0,
         55.0
        ],
        [
         "P203",
         "Jacket",
         "Clothing",
         2024,
         8,
         3,
         10,
         600.0,
         560.0
        ],
        [
         "P203",
         "UNKNOWN",
         "Clothing",
         2024,
         8,
         1,
         1,
         60.0,
         55.0
        ],
        [
         "P203",
         "Jacket",
         "Clothing",
         2024,
         9,
         1,
         3,
         180.0,
         130.0
        ],
        [
         "P203",
         "Jacket",
         "Clothing",
         2024,
         11,
         2,
         4,
         240.0,
         210.0
        ],
        [
         "P203",
         "Jacket",
         "Clothing",
         2025,
         2,
         3,
         7,
         420.0,
         330.0
        ],
        [
         "P203",
         "Jacket",
         "Clothing",
         2025,
         5,
         1,
         3,
         180.0,
         170.0
        ],
        [
         "P203",
         "Jacket",
         "Clothing",
         2025,
         7,
         1,
         3,
         180.0,
         170.0
        ],
        [
         "P203",
         "Jacket",
         "Clothing",
         2025,
         10,
         1,
         2,
         120.0,
         115.0
        ],
        [
         "P203",
         "Jacket",
         "Clothing",
         2025,
         11,
         1,
         2,
         120.0,
         90.0
        ],
        [
         "P203",
         "Jacket",
         "Clothing",
         2026,
         3,
         1,
         4,
         240.0,
         230.0
        ],
        [
         "P203",
         "Jacket",
         "Clothing",
         2026,
         5,
         1,
         2,
         120.0,
         110.0
        ],
        [
         "P203",
         "UNKNOWN",
         "Clothing",
         2026,
         8,
         1,
         5,
         300.0,
         280.0
        ],
        [
         "P203",
         "Jacket",
         "Clothing",
         2026,
         9,
         1,
         3,
         180.0,
         175.0
        ],
        [
         "P203",
         "Jacket",
         "Clothing",
         2026,
         10,
         2,
         6,
         360.0,
         260.0
        ],
        [
         "P204",
         "Sneakers",
         "Clothing",
         1900,
         1,
         3,
         8,
         600.0,
         565.0
        ],
        [
         "P204",
         "Sneakers",
         "UNKNOWN",
         1900,
         1,
         1,
         1,
         75.0,
         75.0
        ],
        [
         "P204",
         "Sneakers",
         "Clothing",
         2023,
         2,
         2,
         8,
         600.0,
         545.0
        ],
        [
         "P204",
         "Sneakers",
         "Clothing",
         2023,
         3,
         2,
         4,
         300.0,
         270.0
        ],
        [
         "P204",
         "UNKNOWN",
         "Clothing",
         2023,
         4,
         2,
         5,
         375.0,
         320.0
        ],
        [
         "P204",
         "Sneakers",
         "Clothing",
         2023,
         4,
         1,
         2,
         150.0,
         150.0
        ],
        [
         "P204",
         "Sneakers",
         "Clothing",
         2023,
         5,
         2,
         7,
         525.0,
         515.0
        ],
        [
         "P204",
         "Sneakers",
         "Clothing",
         2023,
         7,
         2,
         9,
         675.0,
         635.0
        ],
        [
         "P204",
         "Sneakers",
         "UNKNOWN",
         2023,
         8,
         1,
         2,
         150.0,
         150.0
        ],
        [
         "P204",
         "Sneakers",
         "Clothing",
         2023,
         10,
         2,
         5,
         375.0,
         365.0
        ],
        [
         "P204",
         "Sneakers",
         "Clothing",
         2023,
         11,
         1,
         2,
         150.0,
         150.0
        ],
        [
         "P204",
         "Sneakers",
         "Clothing",
         2024,
         5,
         2,
         4,
         300.0,
         220.0
        ],
        [
         "P204",
         "Sneakers",
         "UNKNOWN",
         2024,
         6,
         1,
         2,
         150.0,
         140.0
        ],
        [
         "P204",
         "Sneakers",
         "Clothing",
         2024,
         6,
         1,
         4,
         300.0,
         300.0
        ],
        [
         "P204",
         "Sneakers",
         "Clothing",
         2024,
         7,
         1,
         4,
         300.0,
         270.0
        ],
        [
         "P204",
         "Sneakers",
         "Clothing",
         2024,
         12,
         1,
         2,
         150.0,
         145.0
        ],
        [
         "P204",
         "Sneakers",
         "Clothing",
         2025,
         1,
         1,
         3,
         225.0,
         205.0
        ],
        [
         "P204",
         "Sneakers",
         "Clothing",
         2025,
         2,
         1,
         5,
         375.0,
         365.0
        ],
        [
         "P204",
         "Sneakers",
         "Clothing",
         2025,
         3,
         1,
         3,
         225.0,
         205.0
        ],
        [
         "P204",
         "Sneakers",
         "Clothing",
         2025,
         8,
         1,
         4,
         300.0,
         300.0
        ],
        [
         "P204",
         "Sneakers",
         "Clothing",
         2025,
         9,
         1,
         5,
         375.0,
         375.0
        ],
        [
         "P204",
         "Sneakers",
         "Clothing",
         2025,
         10,
         1,
         2,
         150.0,
         140.0
        ],
        [
         "P204",
         "Sneakers",
         "Clothing",
         2025,
         11,
         1,
         2,
         150.0,
         150.0
        ],
        [
         "P204",
         "Sneakers",
         "Clothing",
         2025,
         12,
         2,
         4,
         285.0,
         205.0
        ],
        [
         "P204",
         "Sneakers",
         "Clothing",
         2026,
         1,
         1,
         2,
         150.0,
         150.0
        ],
        [
         "P204",
         "Sneakers",
         "Clothing",
         2026,
         2,
         1,
         1,
         75.0,
         75.0
        ],
        [
         "P204",
         "Sneakers",
         "Clothing",
         2026,
         6,
         2,
         4,
         300.0,
         295.0
        ],
        [
         "P204",
         "Sneakers",
         "Clothing",
         2026,
         8,
         1,
         3,
         225.0,
         220.0
        ],
        [
         "P204",
         "Sneakers",
         "Clothing",
         2026,
         9,
         1,
         3,
         225.0,
         205.0
        ],
        [
         "P204",
         "Sneakers",
         "Clothing",
         2026,
         10,
         1,
         4,
         300.0,
         295.0
        ],
        [
         "P204",
         "Sneakers",
         "Clothing",
         2026,
         12,
         2,
         8,
         600.0,
         570.0
        ],
        [
         "P301",
         "Sofa",
         "Home",
         1900,
         1,
         1,
         1,
         500.0,
         500.0
        ],
        [
         "P301",
         "Sofa",
         "Home",
         2023,
         2,
         2,
         5,
         2500.0,
         2430.0
        ],
        [
         "P301",
         "Sofa",
         "Home",
         2023,
         8,
         2,
         5,
         2500.0,
         2490.0
        ],
        [
         "P301",
         "UNKNOWN",
         "Home",
         2024,
         2,
         2,
         3,
         1500.0,
         1450.0
        ],
        [
         "P301",
         "Sofa",
         "Home",
         2024,
         5,
         1,
         1,
         500.0,
         470.0
        ],
        [
         "P301",
         "Sofa",
         "Home",
         2024,
         6,
         2,
         6,
         3000.0,
         2960.0
        ],
        [
         "P301",
         "Sofa",
         "Home",
         2024,
         9,
         2,
         5,
         2500.0,
         2485.0
        ],
        [
         "P301",
         "Sofa",
         "Home",
         2024,
         10,
         1,
         2,
         1000.0,
         990.0
        ],
        [
         "P301",
         "Sofa",
         "Home",
         2024,
         11,
         2,
         6,
         3000.0,
         2950.0
        ],
        [
         "P301",
         "Sofa",
         "Home",
         2025,
         3,
         1,
         1,
         500.0,
         470.0
        ],
        [
         "P301",
         "Sofa",
         "Home",
         2025,
         8,
         1,
         3,
         1500.0,
         1470.0
        ],
        [
         "P301",
         "Sofa",
         "Home",
         2025,
         9,
         1,
         2,
         1000.0,
         970.0
        ],
        [
         "P301",
         "Sofa",
         "Home",
         2025,
         11,
         3,
         6,
         3000.0,
         2990.0
        ],
        [
         "P301",
         "Sofa",
         "Home",
         2025,
         12,
         1,
         1,
         500.0,
         480.0
        ],
        [
         "P301",
         "Sofa",
         "Home",
         2026,
         3,
         1,
         2,
         1000.0,
         990.0
        ],
        [
         "P301",
         "Sofa",
         "Home",
         2026,
         4,
         1,
         2,
         1000.0,
         990.0
        ],
        [
         "P301",
         "Sofa",
         "Home",
         2026,
         5,
         1,
         3,
         1500.0,
         1480.0
        ],
        [
         "P301",
         "Sofa",
         "Home",
         2026,
         7,
         1,
         2,
         1000.0,
         990.0
        ],
        [
         "P301",
         "Sofa",
         "Home",
         2026,
         9,
         1,
         5,
         2500.0,
         2495.0
        ],
        [
         "P301",
         "Sofa",
         "Home",
         2026,
         10,
         3,
         10,
         5000.0,
         4990.0
        ],
        [
         "P301",
         "Sofa",
         "Home",
         2026,
         11,
         2,
         3,
         1500.0,
         1465.0
        ],
        [
         "P301",
         "Sofa",
         "Home",
         2026,
         12,
         1,
         5,
         2500.0,
         2480.0
        ],
        [
         "P302",
         "Dining Table",
         "Home",
         1900,
         1,
         1,
         4,
         1800.0,
         1800.0
        ],
        [
         "P302",
         "Dining Table",
         "UNKNOWN",
         2023,
         2,
         1,
         4,
         1800.0,
         1750.0
        ],
        [
         "P302",
         "Dining Table",
         "Home",
         2023,
         2,
         1,
         4,
         1800.0,
         1795.0
        ],
        [
         "P302",
         "Dining Table",
         "Home",
         2023,
         4,
         3,
         12,
         5400.0,
         5320.0
        ],
        [
         "P302",
         "Dining Table",
         "UNKNOWN",
         2023,
         8,
         1,
         2,
         900.0,
         895.0
        ],
        [
         "P302",
         "Dining Table",
         "Home",
         2023,
         9,
         1,
         4,
         1800.0,
         1800.0
        ],
        [
         "P302",
         "Dining Table",
         "Home",
         2023,
         10,
         1,
         3,
         1350.0,
         1330.0
        ],
        [
         "P302",
         "Dining Table",
         "Home",
         2023,
         11,
         1,
         3,
         1350.0,
         1345.0
        ],
        [
         "P302",
         "Dining Table",
         "Home",
         2023,
         12,
         1,
         1,
         450.0,
         450.0
        ],
        [
         "P302",
         "UNKNOWN",
         "Home",
         2024,
         3,
         1,
         2,
         900.0,
         900.0
        ],
        [
         "P302",
         "Dining Table",
         "Home",
         2024,
         3,
         1,
         4,
         1800.0,
         1790.0
        ],
        [
         "P302",
         "Dining Table",
         "Home",
         2024,
         7,
         2,
         8,
         3600.0,
         3560.0
        ],
        [
         "P302",
         "Dining Table",
         "Home",
         2024,
         8,
         2,
         7,
         3150.0,
         3150.0
        ],
        [
         "P302",
         "Dining Table",
         "Home",
         2024,
         9,
         1,
         4,
         1800.0,
         1800.0
        ],
        [
         "P302",
         "Dining Table",
         "Home",
         2024,
         11,
         1,
         4,
         1800.0,
         1750.0
        ],
        [
         "P302",
         "Dining Table",
         "Home",
         2024,
         12,
         1,
         1,
         450.0,
         420.0
        ],
        [
         "P302",
         "Dining Table",
         "Home",
         2025,
         1,
         2,
         8,
         3600.0,
         3590.0
        ],
        [
         "P302",
         "Dining Table",
         "Home",
         2025,
         3,
         3,
         3,
         1350.0,
         1345.0
        ],
        [
         "P302",
         "Dining Table",
         "Home",
         2025,
         5,
         1,
         2,
         900.0,
         880.0
        ],
        [
         "P302",
         "Dining Table",
         "UNKNOWN",
         2025,
         6,
         1,
         3,
         1350.0,
         1300.0
        ],
        [
         "P302",
         "Dining Table",
         "Home",
         2025,
         8,
         2,
         9,
         4050.0,
         4020.0
        ],
        [
         "P302",
         "Dining Table",
         "Home",
         2025,
         9,
         1,
         3,
         1350.0,
         1350.0
        ],
        [
         "P302",
         "Dining Table",
         "Home",
         2025,
         10,
         1,
         1,
         450.0,
         400.0
        ],
        [
         "P302",
         "Dining Table",
         "Home",
         2025,
         12,
         1,
         5,
         2250.0,
         2250.0
        ],
        [
         "P302",
         "Dining Table",
         "Home",
         2026,
         2,
         1,
         2,
         900.0,
         890.0
        ],
        [
         "P302",
         "Dining Table",
         "Home",
         2026,
         8,
         2,
         6,
         2700.0,
         2640.0
        ],
        [
         "P302",
         "Dining Table",
         "Home",
         2026,
         10,
         2,
         7,
         3150.0,
         3120.0
        ],
        [
         "P303",
         "Lamp",
         "Home",
         1900,
         1,
         1,
         1,
         35.0,
         25.0
        ],
        [
         "P303",
         "UNKNOWN",
         "Home",
         1900,
         1,
         1,
         2,
         70.0,
         20.0
        ],
        [
         "P303",
         "Lamp",
         "Home",
         2023,
         3,
         1,
         4,
         126.0,
         126.0
        ],
        [
         "P303",
         "UNKNOWN",
         "Home",
         2023,
         6,
         1,
         1,
         35.0,
         5.0
        ],
        [
         "P303",
         "Lamp",
         "Home",
         2023,
         7,
         1,
         2,
         70.0,
         20.0
        ],
        [
         "P303",
         "UNKNOWN",
         "Home",
         2023,
         10,
         1,
         3,
         105.0,
         105.0
        ],
        [
         "P303",
         "Lamp",
         "Home",
         2023,
         10,
         1,
         4,
         140.0,
         120.0
        ],
        [
         "P303",
         "Lamp",
         "UNKNOWN",
         2023,
         11,
         1,
         1,
         35.0,
         35.0
        ],
        [
         "P303",
         "Lamp",
         "Home",
         2024,
         2,
         1,
         3,
         105.0,
         85.0
        ],
        [
         "P303",
         "Lamp",
         "Home",
         2024,
         3,
         1,
         5,
         175.0,
         145.0
        ],
        [
         "P303",
         "Lamp",
         "Home",
         2024,
         6,
         1,
         1,
         35.0,
         35.0
        ],
        [
         "P303",
         "Lamp",
         "Home",
         2024,
         7,
         1,
         1,
         35.0,
         15.0
        ],
        [
         "P303",
         "Lamp",
         "Home",
         2024,
         9,
         2,
         6,
         210.0,
         160.0
        ],
        [
         "P303",
         "Lamp",
         "Home",
         2024,
         10,
         1,
         2,
         70.0,
         20.0
        ],
        [
         "P303",
         "UNKNOWN",
         "Home",
         2024,
         11,
         1,
         3,
         105.0,
         105.0
        ],
        [
         "P303",
         "UNKNOWN",
         "Home",
         2025,
         1,
         1,
         5,
         175.0,
         155.0
        ],
        [
         "P303",
         "Lamp",
         "Home",
         2025,
         2,
         1,
         4,
         140.0,
         90.0
        ],
        [
         "P303",
         "Lamp",
         "Home",
         2025,
         3,
         2,
         4,
         140.0,
         120.0
        ],
        [
         "P303",
         "Lamp",
         "Home",
         2025,
         4,
         1,
         5,
         175.0,
         175.0
        ],
        [
         "P303",
         "Lamp",
         "Home",
         2025,
         5,
         1,
         5,
         175.0,
         170.0
        ],
        [
         "P303",
         "Lamp",
         "Home",
         2025,
         6,
         1,
         4,
         140.0,
         110.0
        ],
        [
         "P303",
         "Lamp",
         "Home",
         2025,
         8,
         1,
         3,
         105.0,
         95.0
        ],
        [
         "P303",
         "Lamp",
         "Home",
         2025,
         9,
         1,
         1,
         35.0,
         35.0
        ],
        [
         "P303",
         "Lamp",
         "Home",
         2025,
         10,
         1,
         5,
         175.0,
         145.0
        ],
        [
         "P303",
         "Lamp",
         "Home",
         2025,
         11,
         3,
         6,
         210.0,
         135.0
        ],
        [
         "P303",
         "Lamp",
         "Home",
         2026,
         1,
         1,
         5,
         175.0,
         170.0
        ],
        [
         "P303",
         "Lamp",
         "Home",
         2026,
         3,
         1,
         2,
         70.0,
         40.0
        ],
        [
         "P303",
         "Lamp",
         "Home",
         2026,
         7,
         1,
         4,
         140.0,
         110.0
        ],
        [
         "P303",
         "UNKNOWN",
         "Home",
         2026,
         8,
         1,
         4,
         140.0,
         140.0
        ],
        [
         "P303",
         "UNKNOWN",
         "Home",
         2026,
         9,
         1,
         5,
         175.0,
         155.0
        ],
        [
         "P304",
         "Cookware Set",
         "Home",
         1900,
         1,
         2,
         3,
         360.0,
         330.0
        ],
        [
         "P304",
         "Cookware Set",
         "Home",
         2023,
         1,
         1,
         2,
         240.0,
         190.0
        ],
        [
         "P304",
         "Cookware Set",
         "UNKNOWN",
         2023,
         2,
         1,
         2,
         240.0,
         235.0
        ],
        [
         "P304",
         "Cookware Set",
         "Home",
         2023,
         9,
         1,
         1,
         120.0,
         115.0
        ],
        [
         "P304",
         "Cookware Set",
         "Home",
         2023,
         11,
         1,
         3,
         360.0,
         360.0
        ],
        [
         "P304",
         "Cookware Set",
         "Home",
         2023,
         12,
         1,
         2,
         240.0,
         220.0
        ],
        [
         "P304",
         "Cookware Set",
         "Home",
         2024,
         2,
         1,
         2,
         240.0,
         240.0
        ],
        [
         "P304",
         "Cookware Set",
         "Home",
         2024,
         3,
         1,
         3,
         360.0,
         330.0
        ],
        [
         "P304",
         "Cookware Set",
         "Home",
         2024,
         6,
         1,
         4,
         480.0,
         450.0
        ],
        [
         "P304",
         "Cookware Set",
         "Home",
         2024,
         10,
         1,
         1,
         120.0,
         110.0
        ],
        [
         "P304",
         "Cookware Set",
         "Home",
         2024,
         12,
         1,
         2,
         240.0,
         235.0
        ],
        [
         "P304",
         "Cookware Set",
         "Home",
         2025,
         1,
         1,
         5,
         600.0,
         600.0
        ],
        [
         "P304",
         "Cookware Set",
         "Home",
         2025,
         5,
         2,
         4,
         480.0,
         450.0
        ],
        [
         "P304",
         "Cookware Set",
         "Home",
         2025,
         6,
         1,
         1,
         120.0,
         115.0
        ],
        [
         "P304",
         "Cookware Set",
         "Home",
         2025,
         9,
         1,
         4,
         480.0,
         460.0
        ],
        [
         "P304",
         "Cookware Set",
         "Home",
         2025,
         12,
         1,
         1,
         120.0,
         90.0
        ],
        [
         "P304",
         "Cookware Set",
         "Home",
         2026,
         2,
         1,
         1,
         120.0,
         110.0
        ],
        [
         "P304",
         "Cookware Set",
         "Home",
         2026,
         4,
         1,
         5,
         600.0,
         590.0
        ],
        [
         "P304",
         "Cookware Set",
         "Home",
         2026,
         7,
         1,
         5,
         600.0,
         580.0
        ],
        [
         "P304",
         "Cookware Set",
         "Home",
         2026,
         10,
         1,
         4,
         480.0,
         450.0
        ],
        [
         "P304",
         "Cookware Set",
         "Home",
         2026,
         11,
         1,
         5,
         600.0,
         600.0
        ],
        [
         "P304",
         "Cookware Set",
         "Home",
         2026,
         12,
         1,
         2,
         240.0,
         190.0
        ],
        [
         "P401",
         "Novel",
         "UNKNOWN",
         1900,
         1,
         1,
         3,
         45.0,
         45.0
        ],
        [
         "P401",
         "Novel",
         "Books",
         1900,
         1,
         7,
         20,
         300.0,
         200.0
        ],
        [
         "P401",
         "Novel",
         "Books",
         2023,
         1,
         1,
         2,
         30.0,
         0.0
        ],
        [
         "P401",
         "Novel",
         "Books",
         2023,
         2,
         1,
         1,
         15.0,
         -5.0
        ],
        [
         "P401",
         "Novel",
         "Books",
         2023,
         3,
         1,
         4,
         60.0,
         10.0
        ],
        [
         "P401",
         "Novel",
         "Books",
         2023,
         6,
         1,
         1,
         15.0,
         15.0
        ],
        [
         "P401",
         "Novel",
         "Books",
         2023,
         8,
         1,
         3,
         45.0,
         40.0
        ],
        [
         "P401",
         "Novel",
         "Books",
         2023,
         10,
         3,
         4,
         60.0,
         -10.0
        ],
        [
         "P401",
         "UNKNOWN",
         "Books",
         2023,
         10,
         1,
         3,
         45.0,
         40.0
        ],
        [
         "P401",
         "Novel",
         "Books",
         2024,
         4,
         1,
         5,
         75.0,
         75.0
        ],
        [
         "P401",
         "Novel",
         "Books",
         2024,
         6,
         1,
         4,
         60.0,
         60.0
        ],
        [
         "P401",
         "Novel",
         "Books",
         2024,
         9,
         1,
         4,
         60.0,
         30.0
        ],
        [
         "P401",
         "Novel",
         "Books",
         2024,
         11,
         2,
         7,
         105.0,
         95.0
        ],
        [
         "P401",
         "Novel",
         "Books",
         2025,
         1,
         1,
         3,
         45.0,
         45.0
        ],
        [
         "P401",
         "Novel",
         "Books",
         2025,
         3,
         1,
         4,
         60.0,
         30.0
        ],
        [
         "P401",
         "Novel",
         "Books",
         2025,
         4,
         1,
         1,
         15.0,
         15.0
        ],
        [
         "P401",
         "Novel",
         "Books",
         2025,
         6,
         1,
         4,
         60.0,
         60.0
        ],
        [
         "P401",
         "UNKNOWN",
         "Books",
         2025,
         6,
         1,
         3,
         45.0,
         25.0
        ],
        [
         "P401",
         "Novel",
         "Books",
         2025,
         8,
         3,
         13,
         195.0,
         135.0
        ],
        [
         "P401",
         "Novel",
         "Books",
         2025,
         9,
         2,
         7,
         105.0,
         70.0
        ],
        [
         "P401",
         "Novel",
         "Books",
         2025,
         12,
         1,
         4,
         60.0,
         30.0
        ],
        [
         "P401",
         "UNKNOWN",
         "Books",
         2026,
         1,
         1,
         3,
         45.0,
         45.0
        ],
        [
         "P401",
         "Novel",
         "Books",
         2026,
         2,
         1,
         3,
         45.0,
         15.0
        ],
        [
         "P401",
         "Novel",
         "Books",
         2026,
         5,
         2,
         4,
         60.0,
         40.0
        ],
        [
         "P401",
         "Novel",
         "Books",
         2026,
         8,
         2,
         4,
         60.0,
         30.0
        ],
        [
         "P401",
         "Novel",
         "Books",
         2026,
         10,
         2,
         6,
         90.0,
         85.0
        ],
        [
         "P401",
         "Novel",
         "Books",
         2026,
         11,
         2,
         8,
         120.0,
         70.0
        ],
        [
         "P401",
         "Novel",
         "Books",
         2026,
         12,
         1,
         4,
         60.0,
         60.0
        ],
        [
         "P402",
         "Textbook",
         "Books",
         1900,
         1,
         6,
         16,
         720.0,
         655.0
        ],
        [
         "P402",
         "Textbook",
         "Books",
         2023,
         2,
         2,
         6,
         270.0,
         245.0
        ],
        [
         "P402",
         "Textbook",
         "Books",
         2023,
         3,
         1,
         3,
         135.0,
         85.0
        ],
        [
         "P402",
         "Textbook",
         "Books",
         2023,
         4,
         2,
         8,
         360.0,
         290.0
        ],
        [
         "P402",
         "Textbook",
         "Books",
         2023,
         7,
         1,
         1,
         45.0,
         45.0
        ],
        [
         "P402",
         "Textbook",
         "Books",
         2023,
         8,
         2,
         5,
         225.0,
         205.0
        ],
        [
         "P402",
         "Textbook",
         "Books",
         2023,
         9,
         1,
         1,
         45.0,
         25.0
        ],
        [
         "P402",
         "Textbook",
         "Books",
         2023,
         10,
         1,
         3,
         135.0,
         105.0
        ],
        [
         "P402",
         "Textbook",
         "Books",
         2023,
         11,
         1,
         4,
         180.0,
         180.0
        ],
        [
         "P402",
         "Textbook",
         "Books",
         2023,
         12,
         1,
         1,
         45.0,
         25.0
        ],
        [
         "P402",
         "Textbook",
         "Books",
         2024,
         1,
         1,
         2,
         90.0,
         60.0
        ],
        [
         "P402",
         "Textbook",
         "Books",
         2024,
         4,
         1,
         3,
         135.0,
         115.0
        ],
        [
         "P402",
         "Textbook",
         "Books",
         2024,
         5,
         1,
         3,
         135.0,
         105.0
        ],
        [
         "P402",
         "Textbook",
         "UNKNOWN",
         2024,
         7,
         1,
         1,
         45.0,
         40.0
        ],
        [
         "P402",
         "Textbook",
         "Books",
         2024,
         8,
         1,
         4,
         180.0,
         150.0
        ],
        [
         "P402",
         "Textbook",
         "Books",
         2024,
         11,
         2,
         5,
         225.0,
         210.0
        ],
        [
         "P402",
         "Textbook",
         "Books",
         2024,
         12,
         3,
         7,
         315.0,
         265.0
        ],
        [
         "P402",
         "Textbook",
         "Books",
         2025,
         4,
         2,
         2,
         90.0,
         85.0
        ],
        [
         "P402",
         "Textbook",
         "Books",
         2025,
         5,
         1,
         4,
         180.0,
         150.0
        ],
        [
         "P402",
         "Textbook",
         "Books",
         2025,
         6,
         1,
         1,
         45.0,
         25.0
        ],
        [
         "P402",
         "Textbook",
         "UNKNOWN",
         2025,
         7,
         1,
         4,
         180.0,
         170.0
        ],
        [
         "P402",
         "Textbook",
         "Books",
         2025,
         7,
         1,
         2,
         90.0,
         90.0
        ],
        [
         "P402",
         "Textbook",
         "Books",
         2025,
         10,
         1,
         4,
         180.0,
         170.0
        ],
        [
         "P402",
         "Textbook",
         "Books",
         2025,
         11,
         1,
         1,
         45.0,
         35.0
        ],
        [
         "P402",
         "Textbook",
         "Books",
         2025,
         12,
         1,
         4,
         180.0,
         150.0
        ],
        [
         "P402",
         "Textbook",
         "Books",
         2026,
         1,
         1,
         2,
         90.0,
         80.0
        ],
        [
         "P402",
         "Textbook",
         "Books",
         2026,
         7,
         1,
         3,
         135.0,
         135.0
        ],
        [
         "P402",
         "Textbook",
         "Books",
         2026,
         8,
         1,
         3,
         135.0,
         115.0
        ],
        [
         "P402",
         "Textbook",
         "Books",
         2026,
         9,
         1,
         1,
         45.0,
         40.0
        ],
        [
         "P402",
         "Textbook",
         "Books",
         2026,
         10,
         1,
         5,
         247.5,
         227.5
        ],
        [
         "P402",
         "Textbook",
         "Books",
         2026,
         12,
         1,
         3,
         135.0,
         135.0
        ],
        [
         "P403",
         "Magazine",
         "Books",
         1900,
         1,
         7,
         17,
         170.0,
         85.0
        ],
        [
         "P403",
         "Magazine",
         "Books",
         2023,
         1,
         1,
         5,
         50.0,
         30.0
        ],
        [
         "P403",
         "Magazine",
         "Books",
         2023,
         3,
         1,
         5,
         50.0,
         30.0
        ],
        [
         "P403",
         "Magazine",
         "Books",
         2023,
         4,
         1,
         5,
         50.0,
         0.0
        ],
        [
         "P403",
         "Magazine",
         "Books",
         2023,
         5,
         1,
         1,
         10.0,
         -10.0
        ],
        [
         "P403",
         "Magazine",
         "Books",
         2023,
         8,
         1,
         3,
         30.0,
         -20.0
        ],
        [
         "P403",
         "Magazine",
         "Books",
         2023,
         9,
         2,
         8,
         80.0,
         80.0
        ],
        [
         "P403",
         "Magazine",
         "Books",
         2023,
         11,
         1,
         3,
         30.0,
         30.0
        ],
        [
         "P403",
         "UNKNOWN",
         "Books",
         2023,
         12,
         1,
         2,
         20.0,
         15.0
        ],
        [
         "P403",
         "Magazine",
         "UNKNOWN",
         2024,
         2,
         1,
         5,
         50.0,
         50.0
        ],
        [
         "P403",
         "Magazine",
         "Books",
         2024,
         3,
         1,
         1,
         10.0,
         0.0
        ],
        [
         "P403",
         "Magazine",
         "Books",
         2024,
         4,
         1,
         1,
         10.0,
         10.0
        ],
        [
         "P403",
         "Magazine",
         "Books",
         2024,
         5,
         2,
         3,
         30.0,
         25.0
        ],
        [
         "P403",
         "Magazine",
         "Books",
         2024,
         7,
         1,
         4,
         40.0,
         30.0
        ],
        [
         "P403",
         "Magazine",
         "Books",
         2024,
         8,
         1,
         2,
         20.0,
         0.0
        ],
        [
         "P403",
         "UNKNOWN",
         "Books",
         2024,
         8,
         1,
         1,
         10.0,
         -10.0
        ],
        [
         "P403",
         "Magazine",
         "Books",
         2024,
         9,
         2,
         4,
         40.0,
         35.0
        ],
        [
         "P403",
         "Magazine",
         "Books",
         2024,
         10,
         1,
         3,
         30.0,
         20.0
        ],
        [
         "P403",
         "Magazine",
         "Books",
         2025,
         5,
         1,
         1,
         10.0,
         0.0
        ],
        [
         "P403",
         "Magazine",
         "Books",
         2025,
         6,
         1,
         3,
         30.0,
         30.0
        ],
        [
         "P403",
         "Magazine",
         "Books",
         2025,
         8,
         2,
         3,
         30.0,
         5.0
        ],
        [
         "P403",
         "Magazine",
         "Books",
         2025,
         10,
         1,
         1,
         10.0,
         5.0
        ],
        [
         "P403",
         "Magazine",
         "Books",
         2025,
         11,
         1,
         2,
         20.0,
         20.0
        ],
        [
         "P403",
         "Magazine",
         "Books",
         2025,
         12,
         1,
         2,
         20.0,
         -10.0
        ],
        [
         "P403",
         "Magazine",
         "Books",
         2026,
         2,
         1,
         3,
         30.0,
         10.0
        ],
        [
         "P403",
         "Magazine",
         "Books",
         2026,
         3,
         1,
         4,
         40.0,
         20.0
        ],
        [
         "P403",
         "Magazine",
         "Books",
         2026,
         4,
         1,
         4,
         40.0,
         40.0
        ],
        [
         "P403",
         "Magazine",
         "Books",
         2026,
         6,
         1,
         2,
         20.0,
         20.0
        ],
        [
         "P403",
         "Magazine",
         "Books",
         2026,
         7,
         1,
         3,
         30.0,
         30.0
        ],
        [
         "P403",
         "Magazine",
         "Books",
         2026,
         8,
         2,
         4,
         40.0,
         10.0
        ],
        [
         "P403",
         "Magazine",
         "Books",
         2026,
         9,
         1,
         2,
         20.0,
         -10.0
        ],
        [
         "P403",
         "Magazine",
         "Books",
         2026,
         10,
         1,
         3,
         30.0,
         30.0
        ],
        [
         "P403",
         "Magazine",
         "Books",
         2026,
         11,
         1,
         3,
         30.0,
         30.0
        ],
        [
         "P404",
         "Notebook",
         "Books",
         1900,
         1,
         6,
         13,
         65.0,
         40.0
        ],
        [
         "P404",
         "Notebook",
         "Books",
         2023,
         1,
         2,
         5,
         25.0,
         -5.0
        ],
        [
         "P404",
         "Notebook",
         "Books",
         2023,
         3,
         2,
         3,
         15.0,
         -40.0
        ],
        [
         "P404",
         "Notebook",
         "Books",
         2023,
         4,
         2,
         7,
         35.0,
         -15.0
        ],
        [
         "P404",
         "Notebook",
         "Books",
         2023,
         5,
         1,
         4,
         20.0,
         20.0
        ],
        [
         "P404",
         "Notebook",
         "Books",
         2023,
         6,
         1,
         1,
         5.0,
         5.0
        ],
        [
         "P404",
         "Notebook",
         "Books",
         2023,
         7,
         1,
         2,
         10.0,
         10.0
        ],
        [
         "P404",
         "Notebook",
         "Books",
         2023,
         9,
         1,
         1,
         5.0,
         5.0
        ],
        [
         "P404",
         "Notebook",
         "Books",
         2023,
         10,
         2,
         6,
         30.0,
         -10.0
        ],
        [
         "P404",
         "Notebook",
         "Books",
         2023,
         11,
         1,
         1,
         5.0,
         5.0
        ],
        [
         "P404",
         "Notebook",
         "Books",
         2023,
         12,
         2,
         9,
         45.0,
         40.0
        ],
        [
         "P404",
         "Notebook",
         "Books",
         2024,
         1,
         2,
         5,
         25.0,
         -25.0
        ],
        [
         "P404",
         "Notebook",
         "Books",
         2024,
         4,
         2,
         6,
         30.0,
         -25.0
        ],
        [
         "P404",
         "Notebook",
         "Books",
         2024,
         5,
         2,
         6,
         30.0,
         30.0
        ],
        [
         "P404",
         "UNKNOWN",
         "Books",
         2024,
         6,
         1,
         5,
         25.0,
         25.0
        ],
        [
         "P404",
         "Notebook",
         "Books",
         2024,
         6,
         2,
         4,
         20.0,
         -30.0
        ],
        [
         "P404",
         "Notebook",
         "Books",
         2024,
         8,
         2,
         7,
         35.0,
         -45.0
        ],
        [
         "P404",
         "Notebook",
         "Books",
         2024,
         9,
         1,
         1,
         5.0,
         -45.0
        ],
        [
         "P404",
         "Notebook",
         "Books",
         2024,
         10,
         2,
         4,
         20.0,
         20.0
        ],
        [
         "P404",
         "Notebook",
         "Books",
         2024,
         11,
         1,
         1,
         5.0,
         -25.0
        ],
        [
         "P404",
         "Notebook",
         "Books",
         2024,
         12,
         1,
         4,
         20.0,
         -30.0
        ],
        [
         "P404",
         "Notebook",
         "Books",
         2025,
         2,
         1,
         2,
         10.0,
         -20.0
        ],
        [
         "P404",
         "Notebook",
         "Books",
         2025,
         4,
         1,
         1,
         5.0,
         -25.0
        ],
        [
         "P404",
         "Notebook",
         "Books",
         2025,
         5,
         2,
         4,
         20.0,
         -20.0
        ],
        [
         "P404",
         "Notebook",
         "Books",
         2025,
         8,
         4,
         9,
         47.0,
         22.0
        ],
        [
         "P404",
         "Notebook",
         "Books",
         2025,
         9,
         1,
         2,
         10.0,
         5.0
        ],
        [
         "P404",
         "Notebook",
         "Books",
         2025,
         10,
         1,
         4,
         20.0,
         20.0
        ],
        [
         "P404",
         "Notebook",
         "UNKNOWN",
         2025,
         11,
         1,
         1,
         5.0,
         5.0
        ],
        [
         "P404",
         "Notebook",
         "Books",
         2025,
         11,
         1,
         3,
         15.0,
         15.0
        ],
        [
         "P404",
         "UNKNOWN",
         "Books",
         2025,
         12,
         1,
         5,
         25.0,
         25.0
        ],
        [
         "P404",
         "Notebook",
         "Books",
         2026,
         1,
         3,
         9,
         45.0,
         -30.0
        ],
        [
         "P404",
         "Notebook",
         "Books",
         2026,
         4,
         1,
         2,
         10.0,
         5.0
        ],
        [
         "P404",
         "Notebook",
         "Books",
         2026,
         5,
         2,
         5,
         23.0,
         -27.0
        ],
        [
         "P404",
         "Notebook",
         "Books",
         2026,
         6,
         1,
         3,
         15.0,
         5.0
        ],
        [
         "P404",
         "Notebook",
         "Books",
         2026,
         7,
         1,
         2,
         10.0,
         0.0
        ],
        [
         "P404",
         "Notebook",
         "Books",
         2026,
         8,
         1,
         1,
         5.0,
         -5.0
        ],
        [
         "P404",
         "Notebook",
         "Books",
         2026,
         10,
         1,
         2,
         10.0,
         -40.0
        ],
        [
         "P404",
         "Notebook",
         "Books",
         2026,
         11,
         2,
         3,
         15.0,
         -25.0
        ],
        [
         "P404",
         "Notebook",
         "Books",
         2026,
         12,
         1,
         2,
         10.0,
         0.0
        ]
       ],
       "datasetInfos": [],
       "dbfsResultPath": null,
       "isJsonSchema": true,
       "metadata": {},
       "overflow": false,
       "plotOptions": {
        "customPlotOptions": {},
        "displayType": "table",
        "pivotAggregation": null,
        "pivotColumns": null,
        "xColumns": null,
        "yColumns": null
       },
       "removedWidgets": [],
       "schema": [
        {
         "metadata": "{}",
         "name": "product_id",
         "type": "\"string\""
        },
        {
         "metadata": "{}",
         "name": "product_name",
         "type": "\"string\""
        },
        {
         "metadata": "{}",
         "name": "category",
         "type": "\"string\""
        },
        {
         "metadata": "{}",
         "name": "sales_year",
         "type": "\"integer\""
        },
        {
         "metadata": "{}",
         "name": "sales_month",
         "type": "\"integer\""
        },
        {
         "metadata": "{}",
         "name": "total_orders",
         "type": "\"long\""
        },
        {
         "metadata": "{}",
         "name": "quantity_sold",
         "type": "\"long\""
        },
        {
         "metadata": "{}",
         "name": "gross_sales",
         "type": "\"double\""
        },
        {
         "metadata": "{}",
         "name": "net_revenue",
         "type": "\"double\""
        }
       ],
       "type": "table"
      }
     },
     "output_type": "display_data"
    },
    {
     "output_type": "stream",
     "name": "stdout",
     "output_type": "stream",
     "text": [
      "Running incremental merge...\nMerge completed for ecommerce_catalog.gold.sales_fact on keys ['product_id', 'sales_year', 'sales_month']\n"
     ]
    }
   ],
   "source": [
    "\n",
    "# Create sales fact table from silver data\n",
    "def create_sales_fact_gold(df):\n",
    "    \n",
    "    sales_fact_df = df.groupBy(\n",
    "        \"product_id\", \n",
    "        \"product_name\", \n",
    "        \"category\",\n",
    "        year(\"order_date\").alias(\"sales_year\"),\n",
    "        month(\"order_date\").alias(\"sales_month\")\n",
    "    ).agg(\n",
    "        countDistinct(\"order_id\").alias(\"total_orders\"),\n",
    "        sum(\"quantity\").alias(\"quantity_sold\"),\n",
    "        sum(col(\"price\") * col(\"quantity\")).alias(\"gross_sales\"),\n",
    "        sum((col(\"price\") * col(\"quantity\")) - col(\"discount\")).alias(\"net_revenue\")\n",
    "    )\n",
    "    \n",
    "    return sales_fact_df\n",
    "\n",
    "\n",
    "# Filter only the relevant Silver partition\n",
    "gold_df = (\n",
    "    spark.read.table(\"ecommerce_catalog.silver.SalesCleansedData\")\n",
    "    .filter((col(\"year\") == year_val) & (col(\"month\") == month_val) & (col(\"day\") == day_val))\n",
    ")\n",
    "sales_fact_df = create_sales_fact_gold(gold_df)\\\n",
    "    .orderBy(\"product_id\", \"sales_year\", \"sales_month\")\n",
    "\n",
    "display(sales_fact_df)\n",
    "\n",
    "# sales_fact_df.createOrReplaceTempView(\"sales_fact\")\n",
    "\n",
    "target_table = \"ecommerce_catalog.gold.sales_fact\"\n",
    "\n",
    "# Write to gold layer\n",
    "if not spark.catalog.tableExists(target_table):\n",
    "    print(\"Initializing the full load...\")\n",
    "    (\n",
    "        sales_fact_df.write.format(\"delta\")\n",
    "        .mode(\"overwrite\")\n",
    "        .option(\"overwriteSchema\", \"true\")\n",
    "        .saveAsTable(target_table)\n",
    "    )\n",
    "else:\n",
    "    print(\"Running incremental merge...\")\n",
    "    merge_delta(sales_fact_df, target_table, [\"product_id\", \"sales_year\", \"sales_month\"])"
   ]
  },
  {
   "cell_type": "code",
   "execution_count": 0,
   "metadata": {
    "application/vnd.databricks.v1+cell": {
     "cellMetadata": {
      "byteLimit": 2048000,
      "rowLimit": 10000
     },
     "inputWidgets": {},
     "nuid": "84bf98ad-1f88-4565-8532-4cd671b9b435",
     "showTitle": false,
     "tableResultSettingsMap": {},
     "title": ""
    }
   },
   "outputs": [
    {
     "output_type": "stream",
     "name": "stdout",
     "output_type": "stream",
     "text": [
      "Gold layer tables refreshed successfully.\n"
     ]
    }
   ],
   "source": [
    "\n",
    "# Create aggregated insights in gold layer\n",
    "def create_aggregated_insights(df):\n",
    "    \n",
    "    # 1. Total revenue per category\n",
    "    revenue_by_category = (df.groupBy(\"category\")\n",
    "        .agg(sum(\"net_revenue\").alias(\"total_revenue\"))\n",
    "    ).orderBy(desc(\"total_revenue\"))\n",
    "    \n",
    "    # 2. Top 5 products by revenue\n",
    "    top_products =  (df.groupBy(\"product_id\", \"product_name\")\n",
    "    .agg(sum(\"net_revenue\").alias(\"total_revenue\"))\n",
    "    .orderBy(col(\"total_revenue\").desc())\n",
    "    .limit(5)\n",
    ")\n",
    "    \n",
    "    # 3. Monthly sales trends\n",
    "    monthly_trends = (sales_fact_df.groupBy(\"category\", \"sales_year\", \"sales_month\")\n",
    "    .agg(sum(\"net_revenue\").alias(\"monthly_revenue\"))\n",
    "    .orderBy(\"sales_year\", \"sales_month\")\n",
    ")\n",
    "   \n",
    "    return revenue_by_category, top_products, monthly_trends\n",
    "\n",
    "\n",
    "# Read from the gold sales_fact table\n",
    "src_df = spark.read.table(target_table)\n",
    "\n",
    "revenue_by_category, top_products, monthly_trends = create_aggregated_insights(src_df)\n",
    "\n",
    "# Save results back into gold layer\n",
    "revenue_by_category.write.format(\"delta\").mode(\"overwrite\").option(\"overwriteSchema\", \"true\").saveAsTable(\"ecommerce_catalog.gold.revenue_by_category\")\n",
    "top_products.write.format(\"delta\").mode(\"overwrite\").option(\"overwriteSchema\", \"true\").saveAsTable(\"ecommerce_catalog.gold.top_products\")\n",
    "monthly_trends.write.format(\"delta\").mode(\"overwrite\").option(\"overwriteSchema\", \"true\").saveAsTable(\"ecommerce_catalog.gold.monthly_trends\")\n",
    "\n",
    "print(\"Gold layer tables refreshed successfully.\")\n"
   ]
  },
  {
   "cell_type": "code",
   "execution_count": 0,
   "metadata": {
    "application/vnd.databricks.v1+cell": {
     "cellMetadata": {
      "byteLimit": 2048000,
      "implicitDf": true,
      "rowLimit": 10000
     },
     "inputWidgets": {},
     "nuid": "be7cacf7-564d-4396-9efd-b58bdc63787c",
     "showTitle": true,
     "tableResultSettingsMap": {},
     "title": "Category Wise Total Revenue"
    }
   },
   "outputs": [
    {
     "output_type": "display_data",
     "data": {
      "text/html": [
       "<style scoped>\n",
       "  .table-result-container {\n",
       "    max-height: 300px;\n",
       "    overflow: auto;\n",
       "  }\n",
       "  table, th, td {\n",
       "    border: 1px solid black;\n",
       "    border-collapse: collapse;\n",
       "  }\n",
       "  th, td {\n",
       "    padding: 5px;\n",
       "  }\n",
       "  th {\n",
       "    text-align: left;\n",
       "  }\n",
       "</style><div class='table-result-container'><table class='table-result'><thead style='background-color: white'><tr><th>category</th><th>total_revenue</th></tr></thead><tbody><tr><td>Electronics</td><td>131634.0</td></tr><tr><td>Home</td><td>80026.0</td></tr><tr><td>Clothing</td><td>17116.0</td></tr><tr><td>UNKNOWN</td><td>5226.0</td></tr><tr><td>Books</td><td>4160.0</td></tr></tbody></table></div>"
      ]
     },
     "metadata": {
      "application/vnd.databricks.v1+output": {
       "addedWidgets": {},
       "aggData": [],
       "aggError": "",
       "aggOverflow": false,
       "aggSchema": [],
       "aggSeriesLimitReached": false,
       "aggType": "",
       "arguments": {},
       "columnCustomDisplayInfos": {},
       "data": [
        [
         "Electronics",
         131634.0
        ],
        [
         "Home",
         80026.0
        ],
        [
         "Clothing",
         17116.0
        ],
        [
         "UNKNOWN",
         5226.0
        ],
        [
         "Books",
         4160.0
        ]
       ],
       "datasetInfos": [
        {
         "name": "_sqldf",
         "schema": {
          "fields": [
           {
            "metadata": {},
            "name": "category",
            "nullable": true,
            "type": "string"
           },
           {
            "metadata": {},
            "name": "total_revenue",
            "nullable": true,
            "type": "double"
           }
          ],
          "type": "struct"
         },
         "tableIdentifier": null,
         "typeStr": "pyspark.sql.connect.dataframe.DataFrame"
        }
       ],
       "dbfsResultPath": null,
       "isJsonSchema": true,
       "metadata": {
        "createTempViewForImplicitDf": true,
        "dataframeName": "_sqldf",
        "executionCount": 102
       },
       "overflow": false,
       "plotOptions": {
        "customPlotOptions": {},
        "displayType": "table",
        "pivotAggregation": null,
        "pivotColumns": null,
        "xColumns": null,
        "yColumns": null
       },
       "removedWidgets": [],
       "schema": [
        {
         "metadata": "{}",
         "name": "category",
         "type": "\"string\""
        },
        {
         "metadata": "{}",
         "name": "total_revenue",
         "type": "\"double\""
        }
       ],
       "type": "table"
      }
     },
     "output_type": "display_data"
    },
    {
     "output_type": "display_data",
     "data": {
      "text/plain": [
       "Databricks visualization. Run in Databricks to view."
      ]
     },
     "metadata": {
      "application/vnd.databricks.v1.subcommand+json": {
       "baseErrorDetails": null,
       "bindings": {},
       "collapsed": false,
       "command": "%sql WITH q AS (SELECT \n    category, \n    SUM(net_revenue) AS total_revenue\nFROM ecommerce_catalog.gold.sales_fact\nGROUP BY category\nORDER BY total_revenue DESC) SELECT `category`,SUM(`total_revenue`) `column_cc7e245a97` FROM q GROUP BY `category`",
       "commandTitle": "Visualization 1",
       "commandType": "auto",
       "commandVersion": 0,
       "commentThread": [],
       "commentsVisible": false,
       "contentSha256Hex": null,
       "customPlotOptions": {
        "redashChart": [
         {
          "key": "type",
          "value": "CHART"
         },
         {
          "key": "options",
          "value": {
           "alignYAxesAtZero": true,
           "coefficient": 1,
           "columnConfigurationMap": {
            "x": {
             "column": "category",
             "id": "column_cc7e245a96"
            },
            "y": [
             {
              "column": "total_revenue",
              "id": "column_cc7e245a97",
              "transform": "SUM"
             }
            ]
           },
           "dateTimeFormat": "DD/MM/YYYY HH:mm",
           "direction": {
            "type": "counterclockwise"
           },
           "error_y": {
            "type": "data",
            "visible": true
           },
           "globalSeriesType": "column",
           "isAggregationOn": true,
           "legend": {
            "traceorder": "normal"
           },
           "missingValuesAsZero": true,
           "numberFormat": "0,0.[00000]",
           "percentFormat": "0[.]00%",
           "series": {
            "error_y": {
             "type": "data",
             "visible": true
            },
            "percentValues": false,
            "stacking": "stack"
           },
           "seriesOptions": {
            "column_cc7e245a97": {
             "name": "total_revenue",
             "yAxis": 0
            }
           },
           "showDataLabels": false,
           "sizemode": "diameter",
           "sortX": true,
           "sortY": true,
           "swappedAxes": true,
           "textFormat": "",
           "useAggregationsUi": true,
           "valuesOptions": {},
           "version": 2,
           "xAxis": {
            "labels": {
             "enabled": true
            },
            "type": "-"
           },
           "yAxis": [
            {
             "type": "-"
            },
            {
             "opposite": true,
             "type": "-"
            }
           ]
          }
         }
        ]
       },
       "datasetPreviewNameToCmdIdMap": {},
       "diffDeletes": [],
       "diffInserts": [],
       "displayType": "redashChart",
       "error": null,
       "errorDetails": null,
       "errorSummary": null,
       "errorTraceType": null,
       "finishTime": 0,
       "globalVars": {},
       "guid": "",
       "height": "auto",
       "hideCommandCode": false,
       "hideCommandResult": false,
       "iPythonMetadata": null,
       "inputWidgets": {},
       "isLockedInExamMode": false,
       "latestUser": "a user",
       "latestUserId": null,
       "listResultMetadata": null,
       "metadata": {
        "byteLimit": 2048000,
        "implicitDf": true,
        "rowLimit": 10000
       },
       "nuid": "5382a05e-a42a-4a18-951e-86ec36e346a1",
       "origId": 0,
       "parentHierarchy": [],
       "pivotAggregation": null,
       "pivotColumns": null,
       "position": 4.25,
       "resultDbfsErrorMessage": null,
       "resultDbfsStatus": "INLINED_IN_TREE",
       "results": null,
       "showCommandTitle": false,
       "startTime": 0,
       "state": "finished",
       "streamStates": {},
       "subcommandOptions": {
        "queryPlan": {
         "groups": [
          {
           "column": "category",
           "type": "column"
          }
         ],
         "selects": [
          {
           "column": "category",
           "type": "column"
          },
          {
           "alias": "column_cc7e245a97",
           "args": [
            {
             "column": "total_revenue",
             "type": "column"
            }
           ],
           "function": "SUM",
           "type": "function"
          }
         ]
        }
       },
       "submitTime": 0,
       "subtype": "tableResultSubCmd.visualization",
       "tableResultIndex": 0,
       "tableResultSettingsMap": {},
       "useConsistentColors": false,
       "version": "CommandV1",
       "width": "auto",
       "workflows": [],
       "xColumns": null,
       "yColumns": null
      }
     },
     "output_type": "display_data"
    }
   ],
   "source": [
    "%sql\n",
    "SELECT \n",
    "    category, \n",
    "    SUM(net_revenue) AS total_revenue\n",
    "FROM ecommerce_catalog.gold.sales_fact\n",
    "GROUP BY category\n",
    "ORDER BY total_revenue DESC;"
   ]
  },
  {
   "cell_type": "code",
   "execution_count": 0,
   "metadata": {
    "application/vnd.databricks.v1+cell": {
     "cellMetadata": {
      "byteLimit": 2048000,
      "implicitDf": true,
      "rowLimit": 10000
     },
     "inputWidgets": {},
     "nuid": "aad78b72-2a08-4c23-a85f-5aa3aacc309b",
     "showTitle": true,
     "tableResultSettingsMap": {},
     "title": "Product Wise Total Revenue Summary"
    }
   },
   "outputs": [
    {
     "output_type": "display_data",
     "data": {
      "text/html": [
       "<style scoped>\n",
       "  .table-result-container {\n",
       "    max-height: 300px;\n",
       "    overflow: auto;\n",
       "  }\n",
       "  table, th, td {\n",
       "    border: 1px solid black;\n",
       "    border-collapse: collapse;\n",
       "  }\n",
       "  th, td {\n",
       "    padding: 5px;\n",
       "  }\n",
       "  th {\n",
       "    text-align: left;\n",
       "  }\n",
       "</style><div class='table-result-container'><table class='table-result'><thead style='background-color: white'><tr><th>product_id</th><th>product_name</th><th>product_revenue</th></tr></thead><tbody><tr><td>P102</td><td>Samsung Galaxy</td><td>57725.0</td></tr><tr><td>P302</td><td>Dining Table</td><td>40055.0</td></tr><tr><td>P101</td><td>iPhone 13</td><td>39745.0</td></tr><tr><td>P301</td><td>Sofa</td><td>32165.0</td></tr><tr><td>P104</td><td>Apple Watch</td><td>22730.0</td></tr></tbody></table></div>"
      ]
     },
     "metadata": {
      "application/vnd.databricks.v1+output": {
       "addedWidgets": {},
       "aggData": [],
       "aggError": "",
       "aggOverflow": false,
       "aggSchema": [],
       "aggSeriesLimitReached": false,
       "aggType": "",
       "arguments": {},
       "columnCustomDisplayInfos": {},
       "data": [
        [
         "P102",
         "Samsung Galaxy",
         57725.0
        ],
        [
         "P302",
         "Dining Table",
         40055.0
        ],
        [
         "P101",
         "iPhone 13",
         39745.0
        ],
        [
         "P301",
         "Sofa",
         32165.0
        ],
        [
         "P104",
         "Apple Watch",
         22730.0
        ]
       ],
       "datasetInfos": [
        {
         "name": "_sqldf",
         "schema": {
          "fields": [
           {
            "metadata": {},
            "name": "product_id",
            "nullable": true,
            "type": "string"
           },
           {
            "metadata": {},
            "name": "product_name",
            "nullable": true,
            "type": "string"
           },
           {
            "metadata": {},
            "name": "product_revenue",
            "nullable": true,
            "type": "double"
           }
          ],
          "type": "struct"
         },
         "tableIdentifier": null,
         "typeStr": "pyspark.sql.connect.dataframe.DataFrame"
        }
       ],
       "dbfsResultPath": null,
       "isJsonSchema": true,
       "metadata": {
        "createTempViewForImplicitDf": true,
        "dataframeName": "_sqldf",
        "executionCount": 103
       },
       "overflow": false,
       "plotOptions": {
        "customPlotOptions": {},
        "displayType": "table",
        "pivotAggregation": null,
        "pivotColumns": null,
        "xColumns": null,
        "yColumns": null
       },
       "removedWidgets": [],
       "schema": [
        {
         "metadata": "{}",
         "name": "product_id",
         "type": "\"string\""
        },
        {
         "metadata": "{}",
         "name": "product_name",
         "type": "\"string\""
        },
        {
         "metadata": "{}",
         "name": "product_revenue",
         "type": "\"double\""
        }
       ],
       "type": "table"
      }
     },
     "output_type": "display_data"
    },
    {
     "output_type": "display_data",
     "data": {
      "text/plain": [
       "Databricks visualization. Run in Databricks to view."
      ]
     },
     "metadata": {
      "application/vnd.databricks.v1.subcommand+json": {
       "baseErrorDetails": null,
       "bindings": {},
       "collapsed": false,
       "command": "%sql WITH q AS (SELECT \n    product_id, product_name, \n    SUM(net_revenue) AS product_revenue\nFROM ecommerce_catalog.gold.sales_fact\nGROUP BY product_id, product_name\nORDER BY product_revenue DESC\nLIMIT 5) SELECT `product_id`,`product_name`,SUM(`product_revenue`) `column_cc7e245a101` FROM q GROUP BY `product_id`,`product_name`",
       "commandTitle": "Visualization 1",
       "commandType": "auto",
       "commandVersion": 0,
       "commentThread": [],
       "commentsVisible": false,
       "contentSha256Hex": null,
       "customPlotOptions": {
        "redashChart": [
         {
          "key": "type",
          "value": "CHART"
         },
         {
          "key": "options",
          "value": {
           "alignYAxesAtZero": true,
           "coefficient": 1,
           "columnConfigurationMap": {
            "series": {
             "column": "product_name",
             "id": "column_cc7e245a100"
            },
            "x": {
             "column": "product_id",
             "id": "column_cc7e245a99"
            },
            "y": [
             {
              "column": "product_revenue",
              "id": "column_cc7e245a101",
              "transform": "SUM"
             }
            ]
           },
           "dateTimeFormat": "DD/MM/YYYY HH:mm",
           "direction": {
            "type": "counterclockwise"
           },
           "error_y": {
            "type": "data",
            "visible": true
           },
           "globalSeriesType": "column",
           "legend": {
            "traceorder": "normal"
           },
           "missingValuesAsZero": true,
           "numberFormat": "0,0.[00000]",
           "percentFormat": "0[.]00%",
           "series": {
            "error_y": {
             "type": "data",
             "visible": true
            },
            "stacking": "stack"
           },
           "seriesOptions": {
            "column_cc7e245a101": {
             "name": "product_revenue",
             "yAxis": 0
            }
           },
           "showDataLabels": false,
           "sizemode": "diameter",
           "sortX": true,
           "sortY": true,
           "swappedAxes": true,
           "textFormat": "",
           "useAggregationsUi": true,
           "valuesOptions": {},
           "version": 2,
           "xAxis": {
            "labels": {
             "enabled": true
            },
            "type": "-"
           },
           "yAxis": [
            {
             "type": "-"
            },
            {
             "opposite": true,
             "type": "-"
            }
           ]
          }
         }
        ]
       },
       "datasetPreviewNameToCmdIdMap": {},
       "diffDeletes": [],
       "diffInserts": [],
       "displayType": "redashChart",
       "error": null,
       "errorDetails": null,
       "errorSummary": null,
       "errorTraceType": null,
       "finishTime": 0,
       "globalVars": {},
       "guid": "",
       "height": "auto",
       "hideCommandCode": false,
       "hideCommandResult": false,
       "iPythonMetadata": null,
       "inputWidgets": {},
       "isLockedInExamMode": false,
       "latestUser": "a user",
       "latestUserId": null,
       "listResultMetadata": null,
       "metadata": {
        "byteLimit": 2048000,
        "implicitDf": true,
        "rowLimit": 10000
       },
       "nuid": "f9d5cc04-d9fe-491f-84a6-da2495b3ef56",
       "origId": 0,
       "parentHierarchy": [],
       "pivotAggregation": null,
       "pivotColumns": null,
       "position": 5.0,
       "resultDbfsErrorMessage": null,
       "resultDbfsStatus": "INLINED_IN_TREE",
       "results": null,
       "showCommandTitle": false,
       "startTime": 0,
       "state": "finished",
       "streamStates": {},
       "subcommandOptions": {
        "queryPlan": {
         "groups": [
          {
           "column": "product_id",
           "type": "column"
          },
          {
           "column": "product_name",
           "type": "column"
          }
         ],
         "selects": [
          {
           "column": "product_id",
           "type": "column"
          },
          {
           "column": "product_name",
           "type": "column"
          },
          {
           "alias": "column_cc7e245a101",
           "args": [
            {
             "column": "product_revenue",
             "type": "column"
            }
           ],
           "function": "SUM",
           "type": "function"
          }
         ]
        }
       },
       "submitTime": 0,
       "subtype": "tableResultSubCmd.visualization",
       "tableResultIndex": 0,
       "tableResultSettingsMap": {},
       "useConsistentColors": false,
       "version": "CommandV1",
       "width": "auto",
       "workflows": [],
       "xColumns": null,
       "yColumns": null
      }
     },
     "output_type": "display_data"
    }
   ],
   "source": [
    "%sql\n",
    "SELECT \n",
    "    product_id, product_name, \n",
    "    SUM(net_revenue) AS product_revenue\n",
    "FROM ecommerce_catalog.gold.sales_fact\n",
    "GROUP BY product_id, product_name\n",
    "ORDER BY product_revenue DESC\n",
    "LIMIT 5;"
   ]
  },
  {
   "cell_type": "code",
   "execution_count": 0,
   "metadata": {
    "application/vnd.databricks.v1+cell": {
     "cellMetadata": {
      "byteLimit": 2048000,
      "implicitDf": true,
      "rowLimit": 10000
     },
     "inputWidgets": {},
     "nuid": "6ae266d5-47b0-4bbc-aaf8-a8dfd2637319",
     "showTitle": false,
     "tableResultSettingsMap": {},
     "title": ""
    }
   },
   "outputs": [
    {
     "output_type": "display_data",
     "data": {
      "text/html": [
       "<style scoped>\n",
       "  .table-result-container {\n",
       "    max-height: 300px;\n",
       "    overflow: auto;\n",
       "  }\n",
       "  table, th, td {\n",
       "    border: 1px solid black;\n",
       "    border-collapse: collapse;\n",
       "  }\n",
       "  th, td {\n",
       "    padding: 5px;\n",
       "  }\n",
       "  th {\n",
       "    text-align: left;\n",
       "  }\n",
       "</style><div class='table-result-container'><table class='table-result'><thead style='background-color: white'><tr><th>category</th><th>sales_year</th><th>sales_month</th><th>monthly_revenue</th><th>monthly_quantity</th><th>monthly_orders</th></tr></thead><tbody><tr><td>Home</td><td>1900</td><td>1</td><td>830.0</td><td>4</td><td>3</td></tr><tr><td>Clothing</td><td>1900</td><td>1</td><td>40.0</td><td>2</td><td>1</td></tr><tr><td>Books</td><td>1900</td><td>1</td><td>655.0</td><td>16</td><td>6</td></tr><tr><td>Electronics</td><td>2023</td><td>1</td><td>11120.0</td><td>28</td><td>8</td></tr><tr><td>Clothing</td><td>2023</td><td>1</td><td>725.0</td><td>21</td><td>7</td></tr><tr><td>Books</td><td>2023</td><td>1</td><td>205.0</td><td>14</td><td>4</td></tr><tr><td>UNKNOWN</td><td>2023</td><td>2</td><td>1985.0</td><td>6</td><td>2</td></tr><tr><td>Home</td><td>2023</td><td>2</td><td>1795.0</td><td>4</td><td>1</td></tr><tr><td>Electronics</td><td>2023</td><td>2</td><td>3220.0</td><td>10</td><td>3</td></tr><tr><td>Clothing</td><td>2023</td><td>2</td><td>845.0</td><td>16</td><td>4</td></tr><tr><td>Books</td><td>2023</td><td>2</td><td>245.0</td><td>6</td><td>2</td></tr><tr><td>Home</td><td>2023</td><td>3</td><td>726.0</td><td>9</td><td>2</td></tr><tr><td>Electronics</td><td>2023</td><td>3</td><td>4735.0</td><td>8</td><td>3</td></tr><tr><td>Clothing</td><td>2023</td><td>3</td><td>470.0</td><td>10</td><td>4</td></tr><tr><td>Books</td><td>2023</td><td>3</td><td>55.0</td><td>10</td><td>4</td></tr><tr><td>Home</td><td>2023</td><td>4</td><td>100.0</td><td>1</td><td>1</td></tr><tr><td>Clothing</td><td>2023</td><td>4</td><td>170.0</td><td>7</td><td>2</td></tr><tr><td>Books</td><td>2023</td><td>4</td><td>25.0</td><td>8</td><td>2</td></tr><tr><td>Home</td><td>2023</td><td>5</td><td>2430.0</td><td>5</td><td>2</td></tr><tr><td>Electronics</td><td>2023</td><td>5</td><td>4090.0</td><td>8</td><td>3</td></tr><tr><td>Clothing</td><td>2023</td><td>5</td><td>280.0</td><td>5</td><td>1</td></tr><tr><td>Books</td><td>2023</td><td>5</td><td>75.0</td><td>10</td><td>4</td></tr><tr><td>Home</td><td>2023</td><td>6</td><td>2105.0</td><td>6</td><td>3</td></tr><tr><td>Electronics</td><td>2023</td><td>6</td><td>3490.0</td><td>6</td><td>2</td></tr><tr><td>Clothing</td><td>2023</td><td>6</td><td>915.0</td><td>14</td><td>4</td></tr><tr><td>Books</td><td>2023</td><td>6</td><td>15.0</td><td>1</td><td>1</td></tr><tr><td>UNKNOWN</td><td>2023</td><td>7</td><td>240.0</td><td>4</td><td>1</td></tr><tr><td>Home</td><td>2023</td><td>7</td><td>20.0</td><td>2</td><td>1</td></tr><tr><td>Clothing</td><td>2023</td><td>7</td><td>80.0</td><td>2</td><td>1</td></tr><tr><td>Books</td><td>2023</td><td>7</td><td>-30.0</td><td>4</td><td>2</td></tr><tr><td>UNKNOWN</td><td>2023</td><td>8</td><td>895.0</td><td>2</td><td>1</td></tr><tr><td>Electronics</td><td>2023</td><td>8</td><td>3780.0</td><td>5</td><td>2</td></tr><tr><td>Clothing</td><td>2023</td><td>8</td><td>140.0</td><td>9</td><td>4</td></tr><tr><td>Books</td><td>2023</td><td>8</td><td>40.0</td><td>3</td><td>1</td></tr><tr><td>Home</td><td>2023</td><td>9</td><td>1095.0</td><td>3</td><td>2</td></tr><tr><td>Electronics</td><td>2023</td><td>9</td><td>4720.0</td><td>14</td><td>5</td></tr><tr><td>Clothing</td><td>2023</td><td>9</td><td>155.0</td><td>3</td><td>2</td></tr><tr><td>Books</td><td>2023</td><td>9</td><td>105.0</td><td>13</td><td>3</td></tr><tr><td>Electronics</td><td>2023</td><td>10</td><td>320.0</td><td>1</td><td>1</td></tr><tr><td>Clothing</td><td>2023</td><td>10</td><td>50.0</td><td>2</td><td>1</td></tr><tr><td>Books</td><td>2023</td><td>10</td><td>-20.0</td><td>12</td><td>4</td></tr><tr><td>Home</td><td>2023</td><td>11</td><td>2705.0</td><td>8</td><td>3</td></tr><tr><td>Clothing</td><td>2023</td><td>11</td><td>130.0</td><td>6</td><td>3</td></tr><tr><td>Books</td><td>2023</td><td>11</td><td>180.0</td><td>4</td><td>1</td></tr><tr><td>Home</td><td>2023</td><td>12</td><td>2715.0</td><td>7</td><td>2</td></tr><tr><td>Electronics</td><td>2023</td><td>12</td><td>1640.0</td><td>8</td><td>2</td></tr><tr><td>Clothing</td><td>2023</td><td>12</td><td>170.0</td><td>3</td><td>1</td></tr><tr><td>Books</td><td>2023</td><td>12</td><td>25.0</td><td>3</td><td>1</td></tr><tr><td>Home</td><td>2024</td><td>1</td><td>6125.0</td><td>13</td><td>5</td></tr><tr><td>Electronics</td><td>2024</td><td>1</td><td>3500.0</td><td>5</td><td>1</td></tr><tr><td>Clothing</td><td>2024</td><td>1</td><td>215.0</td><td>7</td><td>2</td></tr><tr><td>Books</td><td>2024</td><td>1</td><td>60.0</td><td>2</td><td>1</td></tr><tr><td>Home</td><td>2024</td><td>2</td><td>85.0</td><td>3</td><td>1</td></tr><tr><td>Electronics</td><td>2024</td><td>2</td><td>8150.0</td><td>11</td><td>3</td></tr><tr><td>Clothing</td><td>2024</td><td>2</td><td>300.0</td><td>5</td><td>1</td></tr><tr><td>Books</td><td>2024</td><td>2</td><td>145.0</td><td>9</td><td>3</td></tr><tr><td>UNKNOWN</td><td>2024</td><td>3</td><td>626.0</td><td>5</td><td>2</td></tr><tr><td>Home</td><td>2024</td><td>3</td><td>975.0</td><td>9</td><td>3</td></tr><tr><td>Electronics</td><td>2024</td><td>3</td><td>650.0</td><td>6</td><td>2</td></tr><tr><td>Clothing</td><td>2024</td><td>3</td><td>485.0</td><td>8</td><td>2</td></tr><tr><td>Books</td><td>2024</td><td>3</td><td>530.0</td><td>17</td><td>4</td></tr><tr><td>Home</td><td>2024</td><td>4</td><td>1330.0</td><td>3</td><td>2</td></tr><tr><td>Electronics</td><td>2024</td><td>4</td><td>7420.0</td><td>10</td><td>2</td></tr><tr><td>Books</td><td>2024</td><td>4</td><td>90.0</td><td>9</td><td>3</td></tr><tr><td>Home</td><td>2024</td><td>5</td><td>130.0</td><td>4</td><td>1</td></tr><tr><td>Electronics</td><td>2024</td><td>5</td><td>1720.0</td><td>5</td><td>1</td></tr><tr><td>Clothing</td><td>2024</td><td>5</td><td>386.0</td><td>8</td><td>2</td></tr><tr><td>Books</td><td>2024</td><td>5</td><td>135.0</td><td>9</td><td>3</td></tr><tr><td>UNKNOWN</td><td>2024</td><td>6</td><td>140.0</td><td>2</td><td>1</td></tr><tr><td>Home</td><td>2024</td><td>6</td><td>4325.0</td><td>10</td><td>4</td></tr><tr><td>Electronics</td><td>2024</td><td>6</td><td>7090.0</td><td>10</td><td>4</td></tr><tr><td>Clothing</td><td>2024</td><td>6</td><td>690.0</td><td>14</td><td>4</td></tr><tr><td>Books</td><td>2024</td><td>6</td><td>65.0</td><td>18</td><td>6</td></tr><tr><td>UNKNOWN</td><td>2024</td><td>7</td><td>40.0</td><td>1</td><td>1</td></tr><tr><td>Home</td><td>2024</td><td>7</td><td>3575.0</td><td>9</td><td>3</td></tr><tr><td>Electronics</td><td>2024</td><td>7</td><td>2100.0</td><td>3</td><td>1</td></tr><tr><td>Clothing</td><td>2024</td><td>7</td><td>630.0</td><td>13</td><td>5</td></tr><tr><td>Books</td><td>2024</td><td>7</td><td>30.0</td><td>4</td><td>1</td></tr><tr><td>Home</td><td>2024</td><td>8</td><td>340.0</td><td>3</td><td>1</td></tr><tr><td>Electronics</td><td>2024</td><td>8</td><td>2245.0</td><td>3</td><td>2</td></tr><tr><td>Clothing</td><td>2024</td><td>8</td><td>300.0</td><td>5</td><td>2</td></tr><tr><td>Books</td><td>2024</td><td>8</td><td>25.0</td><td>12</td><td>3</td></tr><tr><td>Home</td><td>2024</td><td>9</td><td>4445.0</td><td>15</td><td>5</td></tr><tr><td>Electronics</td><td>2024</td><td>9</td><td>1135.0</td><td>4</td><td>2</td></tr><tr><td>Clothing</td><td>2024</td><td>9</td><td>205.0</td><td>4</td><td>2</td></tr><tr><td>Books</td><td>2024</td><td>9</td><td>-10.0</td><td>5</td><td>3</td></tr><tr><td>Home</td><td>2024</td><td>10</td><td>1900.0</td><td>5</td><td>2</td></tr><tr><td>Electronics</td><td>2024</td><td>10</td><td>4880.0</td><td>10</td><td>3</td></tr><tr><td>Clothing</td><td>2024</td><td>10</td><td>515.0</td><td>11</td><td>5</td></tr><tr><td>Books</td><td>2024</td><td>10</td><td>20.0</td><td>3</td><td>1</td></tr><tr><td>Electronics</td><td>2024</td><td>11</td><td>340.0</td><td>1</td><td>1</td></tr><tr><td>Clothing</td><td>2024</td><td>11</td><td>235.0</td><td>6</td><td>4</td></tr><tr><td>Electronics</td><td>2024</td><td>12</td><td>690.0</td><td>1</td><td>1</td></tr><tr><td>Clothing</td><td>2024</td><td>12</td><td>325.0</td><td>5</td><td>2</td></tr><tr><td>Books</td><td>2024</td><td>12</td><td>40.0</td><td>11</td><td>3</td></tr><tr><td>Home</td><td>2025</td><td>1</td><td>4190.0</td><td>13</td><td>3</td></tr><tr><td>Electronics</td><td>2025</td><td>1</td><td>5290.0</td><td>11</td><td>4</td></tr><tr><td>Clothing</td><td>2025</td><td>1</td><td>230.0</td><td>4</td><td>1</td></tr><tr><td>Books</td><td>2025</td><td>1</td><td>-30.0</td><td>14</td><td>4</td></tr><tr><td>Home</td><td>2025</td><td>2</td><td>1060.0</td><td>6</td><td>3</td></tr><tr><td>Electronics</td><td>2025</td><td>2</td><td>5365.0</td><td>9</td><td>5</td></tr><tr><td>Clothing</td><td>2025</td><td>2</td><td>730.0</td><td>14</td><td>5</td></tr><tr><td>Books</td><td>2025</td><td>2</td><td>-20.0</td><td>2</td><td>1</td></tr><tr><td>Home</td><td>2025</td><td>3</td><td>925.0</td><td>5</td><td>3</td></tr><tr><td>Electronics</td><td>2025</td><td>3</td><td>2060.0</td><td>4</td><td>2</td></tr><tr><td>Clothing</td><td>2025</td><td>3</td><td>110.0</td><td>6</td><td>2</td></tr><tr><td>Books</td><td>2025</td><td>3</td><td>65.0</td><td>5</td><td>2</td></tr><tr><td>Home</td><td>2025</td><td>4</td><td>450.0</td><td>1</td><td>1</td></tr><tr><td>Clothing</td><td>2025</td><td>4</td><td>-10.0</td><td>2</td><td>1</td></tr><tr><td>Home</td><td>2025</td><td>5</td><td>1330.0</td><td>6</td><td>3</td></tr><tr><td>Electronics</td><td>2025</td><td>5</td><td>1110.0</td><td>8</td><td>3</td></tr><tr><td>Clothing</td><td>2025</td><td>5</td><td>150.0</td><td>4</td><td>1</td></tr><tr><td>Books</td><td>2025</td><td>5</td><td>115.0</td><td>9</td><td>4</td></tr><tr><td>UNKNOWN</td><td>2025</td><td>6</td><td>1300.0</td><td>3</td><td>1</td></tr><tr><td>Home</td><td>2025</td><td>6</td><td>110.0</td><td>4</td><td>1</td></tr><tr><td>Electronics</td><td>2025</td><td>6</td><td>5350.0</td><td>9</td><td>2</td></tr><tr><td>Clothing</td><td>2025</td><td>6</td><td>445.0</td><td>14</td><td>4</td></tr><tr><td>Books</td><td>2025</td><td>6</td><td>55.0</td><td>4</td><td>2</td></tr><tr><td>Home</td><td>2025</td><td>7</td><td>495.0</td><td>7</td><td>4</td></tr><tr><td>Electronics</td><td>2025</td><td>7</td><td>2580.0</td><td>7</td><td>2</td></tr><tr><td>Clothing</td><td>2025</td><td>7</td><td>720.0</td><td>12</td><td>4</td></tr><tr><td>Books</td><td>2025</td><td>7</td><td>5.0</td><td>7</td><td>2</td></tr><tr><td>Home</td><td>2025</td><td>8</td><td>4115.0</td><td>12</td><td>3</td></tr><tr><td>Electronics</td><td>2025</td><td>8</td><td>475.0</td><td>4</td><td>1</td></tr><tr><td>Clothing</td><td>2025</td><td>8</td><td>380.0</td><td>8</td><td>3</td></tr><tr><td>Books</td><td>2025</td><td>8</td><td>157.0</td><td>22</td><td>7</td></tr><tr><td>Electronics</td><td>2025</td><td>9</td><td>700.0</td><td>1</td><td>1</td></tr><tr><td>Clothing</td><td>2025</td><td>9</td><td>180.0</td><td>5</td><td>1</td></tr><tr><td>Books</td><td>2025</td><td>9</td><td>70.0</td><td>7</td><td>2</td></tr><tr><td>Home</td><td>2025</td><td>10</td><td>145.0</td><td>5</td><td>1</td></tr><tr><td>Electronics</td><td>2025</td><td>10</td><td>1620.0</td><td>4</td><td>2</td></tr><tr><td>Clothing</td><td>2025</td><td>10</td><td>605.0</td><td>17</td><td>5</td></tr><tr><td>Books</td><td>2025</td><td>10</td><td>5.0</td><td>1</td><td>1</td></tr><tr><td>Electronics</td><td>2025</td><td>11</td><td>1150.0</td><td>5</td><td>2</td></tr><tr><td>Clothing</td><td>2025</td><td>11</td><td>160.0</td><td>5</td><td>2</td></tr><tr><td>Books</td><td>2025</td><td>11</td><td>110.0</td><td>6</td><td>2</td></tr><tr><td>Home</td><td>2025</td><td>12</td><td>480.0</td><td>1</td><td>1</td></tr><tr><td>Electronics</td><td>2025</td><td>12</td><td>2770.0</td><td>4</td><td>2</td></tr><tr><td>Clothing</td><td>2025</td><td>12</td><td>245.0</td><td>7</td><td>3</td></tr><tr><td>Books</td><td>2025</td><td>12</td><td>15.0</td><td>7</td><td>2</td></tr><tr><td>Home</td><td>2026</td><td>1</td><td>5350.0</td><td>21</td><td>5</td></tr><tr><td>Electronics</td><td>2026</td><td>1</td><td>6890.0</td><td>16</td><td>4</td></tr><tr><td>Clothing</td><td>2026</td><td>1</td><td>350.0</td><td>8</td><td>3</td></tr><tr><td>Books</td><td>2026</td><td>1</td><td>45.0</td><td>3</td><td>1</td></tr><tr><td>Home</td><td>2026</td><td>2</td><td>290.0</td><td>9</td><td>4</td></tr><tr><td>Electronics</td><td>2026</td><td>2</td><td>580.0</td><td>5</td><td>1</td></tr><tr><td>Clothing</td><td>2026</td><td>2</td><td>700.0</td><td>15</td><td>5</td></tr><tr><td>Books</td><td>2026</td><td>2</td><td>265.0</td><td>6</td><td>2</td></tr><tr><td>Home</td><td>2026</td><td>3</td><td>3380.0</td><td>11</td><td>3</td></tr><tr><td>Electronics</td><td>2026</td><td>3</td><td>210.0</td><td>2</td><td>1</td></tr><tr><td>Clothing</td><td>2026</td><td>3</td><td>380.0</td><td>9</td><td>2</td></tr><tr><td>Books</td><td>2026</td><td>3</td><td>280.0</td><td>14</td><td>4</td></tr><tr><td>Home</td><td>2026</td><td>4</td><td>1580.0</td><td>7</td><td>2</td></tr><tr><td>Electronics</td><td>2026</td><td>4</td><td>3610.0</td><td>6</td><td>3</td></tr><tr><td>Clothing</td><td>2026</td><td>4</td><td>450.0</td><td>9</td><td>2</td></tr><tr><td>Books</td><td>2026</td><td>4</td><td>45.0</td><td>6</td><td>2</td></tr><tr><td>Home</td><td>2026</td><td>5</td><td>1620.0</td><td>7</td><td>2</td></tr><tr><td>Electronics</td><td>2026</td><td>5</td><td>4185.0</td><td>7</td><td>3</td></tr><tr><td>Clothing</td><td>2026</td><td>5</td><td>300.0</td><td>7</td><td>2</td></tr><tr><td>Books</td><td>2026</td><td>5</td><td>-32.0</td><td>6</td><td>3</td></tr><tr><td>Electronics</td><td>2026</td><td>6</td><td>4254.0</td><td>13</td><td>5</td></tr><tr><td>Clothing</td><td>2026</td><td>6</td><td>465.0</td><td>9</td><td>4</td></tr><tr><td>Books</td><td>2026</td><td>6</td><td>45.0</td><td>3</td><td>1</td></tr><tr><td>Home</td><td>2026</td><td>7</td><td>2450.0</td><td>9</td><td>3</td></tr><tr><td>Electronics</td><td>2026</td><td>7</td><td>90.0</td><td>1</td><td>1</td></tr><tr><td>Clothing</td><td>2026</td><td>7</td><td>275.0</td><td>6</td><td>2</td></tr><tr><td>Books</td><td>2026</td><td>7</td><td>30.0</td><td>5</td><td>2</td></tr><tr><td>Home</td><td>2026</td><td>8</td><td>2640.0</td><td>6</td><td>2</td></tr><tr><td>Electronics</td><td>2026</td><td>8</td><td>350.0</td><td>1</td><td>1</td></tr><tr><td>Clothing</td><td>2026</td><td>8</td><td>350.0</td><td>7</td><td>2</td></tr><tr><td>Books</td><td>2026</td><td>8</td><td>10.0</td><td>4</td><td>2</td></tr><tr><td>Home</td><td>2026</td><td>9</td><td>465.0</td><td>8</td><td>2</td></tr><tr><td>Electronics</td><td>2026</td><td>9</td><td>1750.0</td><td>5</td><td>1</td></tr><tr><td>Clothing</td><td>2026</td><td>9</td><td>460.0</td><td>10</td><td>3</td></tr><tr><td>Books</td><td>2026</td><td>9</td><td>-5.0</td><td>3</td><td>2</td></tr><tr><td>Home</td><td>2026</td><td>10</td><td>8745.0</td><td>28</td><td>8</td></tr><tr><td>Electronics</td><td>2026</td><td>10</td><td>1350.0</td><td>4</td><td>1</td></tr><tr><td>Home</td><td>2026</td><td>11</td><td>2265.0</td><td>6</td><td>2</td></tr><tr><td>Electronics</td><td>2026</td><td>11</td><td>350.0</td><td>3</td><td>1</td></tr><tr><td>Clothing</td><td>2026</td><td>11</td><td>355.0</td><td>8</td><td>3</td></tr><tr><td>Books</td><td>2026</td><td>11</td><td>30.0</td><td>3</td><td>1</td></tr><tr><td>Home</td><td>2026</td><td>12</td><td>190.0</td><td>2</td><td>1</td></tr><tr><td>Electronics</td><td>2026</td><td>12</td><td>2510.0</td><td>4</td><td>2</td></tr><tr><td>Clothing</td><td>2026</td><td>12</td><td>630.0</td><td>11</td><td>3</td></tr><tr><td>Books</td><td>2026</td><td>12</td><td>195.0</td><td>9</td><td>3</td></tr></tbody></table></div>"
      ]
     },
     "metadata": {
      "application/vnd.databricks.v1+output": {
       "addedWidgets": {},
       "aggData": [],
       "aggError": "",
       "aggOverflow": false,
       "aggSchema": [],
       "aggSeriesLimitReached": false,
       "aggType": "",
       "arguments": {},
       "columnCustomDisplayInfos": {},
       "data": [
        [
         "Home",
         1900,
         1,
         830.0,
         4,
         3
        ],
        [
         "Clothing",
         1900,
         1,
         40.0,
         2,
         1
        ],
        [
         "Books",
         1900,
         1,
         655.0,
         16,
         6
        ],
        [
         "Electronics",
         2023,
         1,
         11120.0,
         28,
         8
        ],
        [
         "Clothing",
         2023,
         1,
         725.0,
         21,
         7
        ],
        [
         "Books",
         2023,
         1,
         205.0,
         14,
         4
        ],
        [
         "UNKNOWN",
         2023,
         2,
         1985.0,
         6,
         2
        ],
        [
         "Home",
         2023,
         2,
         1795.0,
         4,
         1
        ],
        [
         "Electronics",
         2023,
         2,
         3220.0,
         10,
         3
        ],
        [
         "Clothing",
         2023,
         2,
         845.0,
         16,
         4
        ],
        [
         "Books",
         2023,
         2,
         245.0,
         6,
         2
        ],
        [
         "Home",
         2023,
         3,
         726.0,
         9,
         2
        ],
        [
         "Electronics",
         2023,
         3,
         4735.0,
         8,
         3
        ],
        [
         "Clothing",
         2023,
         3,
         470.0,
         10,
         4
        ],
        [
         "Books",
         2023,
         3,
         55.0,
         10,
         4
        ],
        [
         "Home",
         2023,
         4,
         100.0,
         1,
         1
        ],
        [
         "Clothing",
         2023,
         4,
         170.0,
         7,
         2
        ],
        [
         "Books",
         2023,
         4,
         25.0,
         8,
         2
        ],
        [
         "Home",
         2023,
         5,
         2430.0,
         5,
         2
        ],
        [
         "Electronics",
         2023,
         5,
         4090.0,
         8,
         3
        ],
        [
         "Clothing",
         2023,
         5,
         280.0,
         5,
         1
        ],
        [
         "Books",
         2023,
         5,
         75.0,
         10,
         4
        ],
        [
         "Home",
         2023,
         6,
         2105.0,
         6,
         3
        ],
        [
         "Electronics",
         2023,
         6,
         3490.0,
         6,
         2
        ],
        [
         "Clothing",
         2023,
         6,
         915.0,
         14,
         4
        ],
        [
         "Books",
         2023,
         6,
         15.0,
         1,
         1
        ],
        [
         "UNKNOWN",
         2023,
         7,
         240.0,
         4,
         1
        ],
        [
         "Home",
         2023,
         7,
         20.0,
         2,
         1
        ],
        [
         "Clothing",
         2023,
         7,
         80.0,
         2,
         1
        ],
        [
         "Books",
         2023,
         7,
         -30.0,
         4,
         2
        ],
        [
         "UNKNOWN",
         2023,
         8,
         895.0,
         2,
         1
        ],
        [
         "Electronics",
         2023,
         8,
         3780.0,
         5,
         2
        ],
        [
         "Clothing",
         2023,
         8,
         140.0,
         9,
         4
        ],
        [
         "Books",
         2023,
         8,
         40.0,
         3,
         1
        ],
        [
         "Home",
         2023,
         9,
         1095.0,
         3,
         2
        ],
        [
         "Electronics",
         2023,
         9,
         4720.0,
         14,
         5
        ],
        [
         "Clothing",
         2023,
         9,
         155.0,
         3,
         2
        ],
        [
         "Books",
         2023,
         9,
         105.0,
         13,
         3
        ],
        [
         "Electronics",
         2023,
         10,
         320.0,
         1,
         1
        ],
        [
         "Clothing",
         2023,
         10,
         50.0,
         2,
         1
        ],
        [
         "Books",
         2023,
         10,
         -20.0,
         12,
         4
        ],
        [
         "Home",
         2023,
         11,
         2705.0,
         8,
         3
        ],
        [
         "Clothing",
         2023,
         11,
         130.0,
         6,
         3
        ],
        [
         "Books",
         2023,
         11,
         180.0,
         4,
         1
        ],
        [
         "Home",
         2023,
         12,
         2715.0,
         7,
         2
        ],
        [
         "Electronics",
         2023,
         12,
         1640.0,
         8,
         2
        ],
        [
         "Clothing",
         2023,
         12,
         170.0,
         3,
         1
        ],
        [
         "Books",
         2023,
         12,
         25.0,
         3,
         1
        ],
        [
         "Home",
         2024,
         1,
         6125.0,
         13,
         5
        ],
        [
         "Electronics",
         2024,
         1,
         3500.0,
         5,
         1
        ],
        [
         "Clothing",
         2024,
         1,
         215.0,
         7,
         2
        ],
        [
         "Books",
         2024,
         1,
         60.0,
         2,
         1
        ],
        [
         "Home",
         2024,
         2,
         85.0,
         3,
         1
        ],
        [
         "Electronics",
         2024,
         2,
         8150.0,
         11,
         3
        ],
        [
         "Clothing",
         2024,
         2,
         300.0,
         5,
         1
        ],
        [
         "Books",
         2024,
         2,
         145.0,
         9,
         3
        ],
        [
         "UNKNOWN",
         2024,
         3,
         626.0,
         5,
         2
        ],
        [
         "Home",
         2024,
         3,
         975.0,
         9,
         3
        ],
        [
         "Electronics",
         2024,
         3,
         650.0,
         6,
         2
        ],
        [
         "Clothing",
         2024,
         3,
         485.0,
         8,
         2
        ],
        [
         "Books",
         2024,
         3,
         530.0,
         17,
         4
        ],
        [
         "Home",
         2024,
         4,
         1330.0,
         3,
         2
        ],
        [
         "Electronics",
         2024,
         4,
         7420.0,
         10,
         2
        ],
        [
         "Books",
         2024,
         4,
         90.0,
         9,
         3
        ],
        [
         "Home",
         2024,
         5,
         130.0,
         4,
         1
        ],
        [
         "Electronics",
         2024,
         5,
         1720.0,
         5,
         1
        ],
        [
         "Clothing",
         2024,
         5,
         386.0,
         8,
         2
        ],
        [
         "Books",
         2024,
         5,
         135.0,
         9,
         3
        ],
        [
         "UNKNOWN",
         2024,
         6,
         140.0,
         2,
         1
        ],
        [
         "Home",
         2024,
         6,
         4325.0,
         10,
         4
        ],
        [
         "Electronics",
         2024,
         6,
         7090.0,
         10,
         4
        ],
        [
         "Clothing",
         2024,
         6,
         690.0,
         14,
         4
        ],
        [
         "Books",
         2024,
         6,
         65.0,
         18,
         6
        ],
        [
         "UNKNOWN",
         2024,
         7,
         40.0,
         1,
         1
        ],
        [
         "Home",
         2024,
         7,
         3575.0,
         9,
         3
        ],
        [
         "Electronics",
         2024,
         7,
         2100.0,
         3,
         1
        ],
        [
         "Clothing",
         2024,
         7,
         630.0,
         13,
         5
        ],
        [
         "Books",
         2024,
         7,
         30.0,
         4,
         1
        ],
        [
         "Home",
         2024,
         8,
         340.0,
         3,
         1
        ],
        [
         "Electronics",
         2024,
         8,
         2245.0,
         3,
         2
        ],
        [
         "Clothing",
         2024,
         8,
         300.0,
         5,
         2
        ],
        [
         "Books",
         2024,
         8,
         25.0,
         12,
         3
        ],
        [
         "Home",
         2024,
         9,
         4445.0,
         15,
         5
        ],
        [
         "Electronics",
         2024,
         9,
         1135.0,
         4,
         2
        ],
        [
         "Clothing",
         2024,
         9,
         205.0,
         4,
         2
        ],
        [
         "Books",
         2024,
         9,
         -10.0,
         5,
         3
        ],
        [
         "Home",
         2024,
         10,
         1900.0,
         5,
         2
        ],
        [
         "Electronics",
         2024,
         10,
         4880.0,
         10,
         3
        ],
        [
         "Clothing",
         2024,
         10,
         515.0,
         11,
         5
        ],
        [
         "Books",
         2024,
         10,
         20.0,
         3,
         1
        ],
        [
         "Electronics",
         2024,
         11,
         340.0,
         1,
         1
        ],
        [
         "Clothing",
         2024,
         11,
         235.0,
         6,
         4
        ],
        [
         "Electronics",
         2024,
         12,
         690.0,
         1,
         1
        ],
        [
         "Clothing",
         2024,
         12,
         325.0,
         5,
         2
        ],
        [
         "Books",
         2024,
         12,
         40.0,
         11,
         3
        ],
        [
         "Home",
         2025,
         1,
         4190.0,
         13,
         3
        ],
        [
         "Electronics",
         2025,
         1,
         5290.0,
         11,
         4
        ],
        [
         "Clothing",
         2025,
         1,
         230.0,
         4,
         1
        ],
        [
         "Books",
         2025,
         1,
         -30.0,
         14,
         4
        ],
        [
         "Home",
         2025,
         2,
         1060.0,
         6,
         3
        ],
        [
         "Electronics",
         2025,
         2,
         5365.0,
         9,
         5
        ],
        [
         "Clothing",
         2025,
         2,
         730.0,
         14,
         5
        ],
        [
         "Books",
         2025,
         2,
         -20.0,
         2,
         1
        ],
        [
         "Home",
         2025,
         3,
         925.0,
         5,
         3
        ],
        [
         "Electronics",
         2025,
         3,
         2060.0,
         4,
         2
        ],
        [
         "Clothing",
         2025,
         3,
         110.0,
         6,
         2
        ],
        [
         "Books",
         2025,
         3,
         65.0,
         5,
         2
        ],
        [
         "Home",
         2025,
         4,
         450.0,
         1,
         1
        ],
        [
         "Clothing",
         2025,
         4,
         -10.0,
         2,
         1
        ],
        [
         "Home",
         2025,
         5,
         1330.0,
         6,
         3
        ],
        [
         "Electronics",
         2025,
         5,
         1110.0,
         8,
         3
        ],
        [
         "Clothing",
         2025,
         5,
         150.0,
         4,
         1
        ],
        [
         "Books",
         2025,
         5,
         115.0,
         9,
         4
        ],
        [
         "UNKNOWN",
         2025,
         6,
         1300.0,
         3,
         1
        ],
        [
         "Home",
         2025,
         6,
         110.0,
         4,
         1
        ],
        [
         "Electronics",
         2025,
         6,
         5350.0,
         9,
         2
        ],
        [
         "Clothing",
         2025,
         6,
         445.0,
         14,
         4
        ],
        [
         "Books",
         2025,
         6,
         55.0,
         4,
         2
        ],
        [
         "Home",
         2025,
         7,
         495.0,
         7,
         4
        ],
        [
         "Electronics",
         2025,
         7,
         2580.0,
         7,
         2
        ],
        [
         "Clothing",
         2025,
         7,
         720.0,
         12,
         4
        ],
        [
         "Books",
         2025,
         7,
         5.0,
         7,
         2
        ],
        [
         "Home",
         2025,
         8,
         4115.0,
         12,
         3
        ],
        [
         "Electronics",
         2025,
         8,
         475.0,
         4,
         1
        ],
        [
         "Clothing",
         2025,
         8,
         380.0,
         8,
         3
        ],
        [
         "Books",
         2025,
         8,
         157.0,
         22,
         7
        ],
        [
         "Electronics",
         2025,
         9,
         700.0,
         1,
         1
        ],
        [
         "Clothing",
         2025,
         9,
         180.0,
         5,
         1
        ],
        [
         "Books",
         2025,
         9,
         70.0,
         7,
         2
        ],
        [
         "Home",
         2025,
         10,
         145.0,
         5,
         1
        ],
        [
         "Electronics",
         2025,
         10,
         1620.0,
         4,
         2
        ],
        [
         "Clothing",
         2025,
         10,
         605.0,
         17,
         5
        ],
        [
         "Books",
         2025,
         10,
         5.0,
         1,
         1
        ],
        [
         "Electronics",
         2025,
         11,
         1150.0,
         5,
         2
        ],
        [
         "Clothing",
         2025,
         11,
         160.0,
         5,
         2
        ],
        [
         "Books",
         2025,
         11,
         110.0,
         6,
         2
        ],
        [
         "Home",
         2025,
         12,
         480.0,
         1,
         1
        ],
        [
         "Electronics",
         2025,
         12,
         2770.0,
         4,
         2
        ],
        [
         "Clothing",
         2025,
         12,
         245.0,
         7,
         3
        ],
        [
         "Books",
         2025,
         12,
         15.0,
         7,
         2
        ],
        [
         "Home",
         2026,
         1,
         5350.0,
         21,
         5
        ],
        [
         "Electronics",
         2026,
         1,
         6890.0,
         16,
         4
        ],
        [
         "Clothing",
         2026,
         1,
         350.0,
         8,
         3
        ],
        [
         "Books",
         2026,
         1,
         45.0,
         3,
         1
        ],
        [
         "Home",
         2026,
         2,
         290.0,
         9,
         4
        ],
        [
         "Electronics",
         2026,
         2,
         580.0,
         5,
         1
        ],
        [
         "Clothing",
         2026,
         2,
         700.0,
         15,
         5
        ],
        [
         "Books",
         2026,
         2,
         265.0,
         6,
         2
        ],
        [
         "Home",
         2026,
         3,
         3380.0,
         11,
         3
        ],
        [
         "Electronics",
         2026,
         3,
         210.0,
         2,
         1
        ],
        [
         "Clothing",
         2026,
         3,
         380.0,
         9,
         2
        ],
        [
         "Books",
         2026,
         3,
         280.0,
         14,
         4
        ],
        [
         "Home",
         2026,
         4,
         1580.0,
         7,
         2
        ],
        [
         "Electronics",
         2026,
         4,
         3610.0,
         6,
         3
        ],
        [
         "Clothing",
         2026,
         4,
         450.0,
         9,
         2
        ],
        [
         "Books",
         2026,
         4,
         45.0,
         6,
         2
        ],
        [
         "Home",
         2026,
         5,
         1620.0,
         7,
         2
        ],
        [
         "Electronics",
         2026,
         5,
         4185.0,
         7,
         3
        ],
        [
         "Clothing",
         2026,
         5,
         300.0,
         7,
         2
        ],
        [
         "Books",
         2026,
         5,
         -32.0,
         6,
         3
        ],
        [
         "Electronics",
         2026,
         6,
         4254.0,
         13,
         5
        ],
        [
         "Clothing",
         2026,
         6,
         465.0,
         9,
         4
        ],
        [
         "Books",
         2026,
         6,
         45.0,
         3,
         1
        ],
        [
         "Home",
         2026,
         7,
         2450.0,
         9,
         3
        ],
        [
         "Electronics",
         2026,
         7,
         90.0,
         1,
         1
        ],
        [
         "Clothing",
         2026,
         7,
         275.0,
         6,
         2
        ],
        [
         "Books",
         2026,
         7,
         30.0,
         5,
         2
        ],
        [
         "Home",
         2026,
         8,
         2640.0,
         6,
         2
        ],
        [
         "Electronics",
         2026,
         8,
         350.0,
         1,
         1
        ],
        [
         "Clothing",
         2026,
         8,
         350.0,
         7,
         2
        ],
        [
         "Books",
         2026,
         8,
         10.0,
         4,
         2
        ],
        [
         "Home",
         2026,
         9,
         465.0,
         8,
         2
        ],
        [
         "Electronics",
         2026,
         9,
         1750.0,
         5,
         1
        ],
        [
         "Clothing",
         2026,
         9,
         460.0,
         10,
         3
        ],
        [
         "Books",
         2026,
         9,
         -5.0,
         3,
         2
        ],
        [
         "Home",
         2026,
         10,
         8745.0,
         28,
         8
        ],
        [
         "Electronics",
         2026,
         10,
         1350.0,
         4,
         1
        ],
        [
         "Home",
         2026,
         11,
         2265.0,
         6,
         2
        ],
        [
         "Electronics",
         2026,
         11,
         350.0,
         3,
         1
        ],
        [
         "Clothing",
         2026,
         11,
         355.0,
         8,
         3
        ],
        [
         "Books",
         2026,
         11,
         30.0,
         3,
         1
        ],
        [
         "Home",
         2026,
         12,
         190.0,
         2,
         1
        ],
        [
         "Electronics",
         2026,
         12,
         2510.0,
         4,
         2
        ],
        [
         "Clothing",
         2026,
         12,
         630.0,
         11,
         3
        ],
        [
         "Books",
         2026,
         12,
         195.0,
         9,
         3
        ]
       ],
       "datasetInfos": [
        {
         "name": "_sqldf",
         "schema": {
          "fields": [
           {
            "metadata": {},
            "name": "category",
            "nullable": true,
            "type": "string"
           },
           {
            "metadata": {},
            "name": "sales_year",
            "nullable": true,
            "type": "integer"
           },
           {
            "metadata": {},
            "name": "sales_month",
            "nullable": true,
            "type": "integer"
           },
           {
            "metadata": {},
            "name": "monthly_revenue",
            "nullable": true,
            "type": "double"
           },
           {
            "metadata": {},
            "name": "monthly_quantity",
            "nullable": true,
            "type": "long"
           },
           {
            "metadata": {},
            "name": "monthly_orders",
            "nullable": true,
            "type": "long"
           }
          ],
          "type": "struct"
         },
         "tableIdentifier": null,
         "typeStr": "pyspark.sql.connect.dataframe.DataFrame"
        }
       ],
       "dbfsResultPath": null,
       "isJsonSchema": true,
       "metadata": {
        "createTempViewForImplicitDf": true,
        "dataframeName": "_sqldf",
        "executionCount": 104
       },
       "overflow": false,
       "plotOptions": {
        "customPlotOptions": {},
        "displayType": "table",
        "pivotAggregation": null,
        "pivotColumns": null,
        "xColumns": null,
        "yColumns": null
       },
       "removedWidgets": [],
       "schema": [
        {
         "metadata": "{}",
         "name": "category",
         "type": "\"string\""
        },
        {
         "metadata": "{}",
         "name": "sales_year",
         "type": "\"integer\""
        },
        {
         "metadata": "{}",
         "name": "sales_month",
         "type": "\"integer\""
        },
        {
         "metadata": "{}",
         "name": "monthly_revenue",
         "type": "\"double\""
        },
        {
         "metadata": "{}",
         "name": "monthly_quantity",
         "type": "\"long\""
        },
        {
         "metadata": "{}",
         "name": "monthly_orders",
         "type": "\"long\""
        }
       ],
       "type": "table"
      }
     },
     "output_type": "display_data"
    },
    {
     "output_type": "display_data",
     "data": {
      "text/plain": [
       "Databricks visualization. Run in Databricks to view."
      ]
     },
     "metadata": {
      "application/vnd.databricks.v1.subcommand+json": {
       "baseErrorDetails": null,
       "bindings": {},
       "collapsed": false,
       "command": "%sql WITH q AS (SELECT \n    category,\n    sales_year,\n    sales_month,\n    SUM(net_revenue) AS monthly_revenue,\n    SUM(quantity_sold) AS monthly_quantity,\n    SUM(total_orders) AS monthly_orders\nFROM ecommerce_catalog.gold.sales_fact\nGROUP BY category, sales_year, sales_month\nORDER BY sales_year, sales_month, category DESC) SELECT `monthly_revenue`,SUM(`sales_month`) `column_cc7e245a105`,`category` FROM q GROUP BY `category`,`monthly_revenue`",
       "commandTitle": "Visualization 1",
       "commandType": "auto",
       "commandVersion": 0,
       "commentThread": [],
       "commentsVisible": false,
       "contentSha256Hex": null,
       "customPlotOptions": {
        "redashChart": [
         {
          "key": "type",
          "value": "CHART"
         },
         {
          "key": "options",
          "value": {
           "alignYAxesAtZero": true,
           "coefficient": 1,
           "columnConfigurationMap": {
            "series": {
             "column": "category",
             "id": "column_cc7e245a114"
            },
            "x": {
             "column": "monthly_revenue",
             "id": "column_cc7e245a113"
            },
            "y": [
             {
              "column": "sales_month",
              "id": "column_cc7e245a105",
              "transform": "SUM"
             }
            ]
           },
           "dateTimeFormat": "DD/MM/YYYY ",
           "direction": {
            "type": "counterclockwise"
           },
           "error_y": {
            "type": "data",
            "visible": true
           },
           "globalSeriesType": "line",
           "isAggregationOn": true,
           "legend": {
            "traceorder": "normal"
           },
           "missingValuesAsZero": true,
           "numberFormat": "0,0.[00000]",
           "percentFormat": "0[.]00%",
           "series": {
            "error_y": {
             "type": "data",
             "visible": true
            },
            "percentValues": false,
            "stacking": null
           },
           "seriesOptions": {
            "column_cc7e245a105": {
             "type": "line",
             "yAxis": 0
            },
            "column_cc7e245a111": {
             "type": "line",
             "yAxis": 0
            }
           },
           "showDataLabels": false,
           "sizemode": "diameter",
           "sortX": true,
           "sortY": true,
           "swappedAxes": true,
           "textFormat": "",
           "useAggregationsUi": true,
           "valuesOptions": {},
           "version": 2,
           "xAxis": {
            "labels": {
             "enabled": true
            },
            "type": "-"
           },
           "yAxis": [
            {
             "type": "linear"
            },
            {
             "opposite": true,
             "type": "-"
            }
           ]
          }
         }
        ]
       },
       "datasetPreviewNameToCmdIdMap": {},
       "diffDeletes": [],
       "diffInserts": [],
       "displayType": "redashChart",
       "error": null,
       "errorDetails": null,
       "errorSummary": null,
       "errorTraceType": null,
       "finishTime": 0,
       "globalVars": {},
       "guid": "",
       "height": "auto",
       "hideCommandCode": false,
       "hideCommandResult": false,
       "iPythonMetadata": null,
       "inputWidgets": {},
       "isLockedInExamMode": false,
       "latestUser": "a user",
       "latestUserId": null,
       "listResultMetadata": null,
       "metadata": {
        "byteLimit": 2048000,
        "implicitDf": true,
        "rowLimit": 10000
       },
       "nuid": "a55184e9-5b2f-46a6-874d-096bd26ef00d",
       "origId": 0,
       "parentHierarchy": [],
       "pivotAggregation": null,
       "pivotColumns": null,
       "position": 6.0,
       "resultDbfsErrorMessage": null,
       "resultDbfsStatus": "INLINED_IN_TREE",
       "results": null,
       "showCommandTitle": false,
       "startTime": 0,
       "state": "finished",
       "streamStates": {},
       "subcommandOptions": {
        "queryPlan": {
         "groups": [
          {
           "column": "monthly_revenue",
           "type": "column"
          },
          {
           "column": "category",
           "type": "column"
          }
         ],
         "selects": [
          {
           "column": "monthly_revenue",
           "type": "column"
          },
          {
           "alias": "column_cc7e245a105",
           "args": [
            {
             "column": "sales_month",
             "type": "column"
            }
           ],
           "function": "SUM",
           "type": "function"
          },
          {
           "column": "category",
           "type": "column"
          }
         ]
        }
       },
       "submitTime": 0,
       "subtype": "tableResultSubCmd.visualization",
       "tableResultIndex": 0,
       "tableResultSettingsMap": {},
       "useConsistentColors": false,
       "version": "CommandV1",
       "width": "auto",
       "workflows": [],
       "xColumns": null,
       "yColumns": null
      }
     },
     "output_type": "display_data"
    }
   ],
   "source": [
    "%sql\n",
    "SELECT \n",
    "    category,\n",
    "    sales_year,\n",
    "    sales_month,\n",
    "    SUM(net_revenue) AS monthly_revenue,\n",
    "    SUM(quantity_sold) AS monthly_quantity,\n",
    "    SUM(total_orders) AS monthly_orders\n",
    "FROM ecommerce_catalog.gold.sales_fact\n",
    "GROUP BY category, sales_year, sales_month\n",
    "ORDER BY sales_year, sales_month, category DESC;\n"
   ]
  }
 ],
 "metadata": {
  "application/vnd.databricks.v1+notebook": {
   "computePreferences": {
    "hardware": {
     "accelerator": null,
     "gpuPoolId": null,
     "memory": null
    }
   },
   "dashboards": [],
   "environmentMetadata": {
    "base_environment": "",
    "environment_version": "3"
   },
   "inputWidgetPreferences": null,
   "language": "python",
   "notebookMetadata": {
    "mostRecentlyExecutedCommandWithImplicitDF": {
     "commandId": 5209863065359293,
     "dataframes": [
      "_sqldf"
     ]
    },
    "pythonIndentUnit": 4
   },
   "notebookName": "Gold_LayerTransformation",
   "widgets": {
    "StartDate": {
     "currentValue": "20250831",
     "nuid": "1c10d123-7a00-41ab-80d6-0b98a37f95c8",
     "typedWidgetInfo": {
      "autoCreated": false,
      "defaultValue": "",
      "label": null,
      "name": "StartDate",
      "options": {
       "widgetDisplayType": "Text",
       "validationRegex": null
      },
      "parameterDataType": "String"
     },
     "widgetInfo": {
      "widgetType": "text",
      "defaultValue": "",
      "label": null,
      "name": "StartDate",
      "options": {
       "widgetType": "text",
       "autoCreated": null,
       "validationRegex": null
      }
     }
    }
   }
  },
  "language_info": {
   "name": "python"
  }
 },
 "nbformat": 4,
 "nbformat_minor": 0
}